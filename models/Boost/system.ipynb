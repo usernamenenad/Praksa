{
 "cells": [
  {
   "cell_type": "code",
   "execution_count": 60,
   "metadata": {},
   "outputs": [],
   "source": [
    "using ControlSystems"
   ]
  },
  {
   "cell_type": "markdown",
   "metadata": {},
   "source": [
    "Loading default parameters. This is a open-loop test."
   ]
  },
  {
   "cell_type": "code",
   "execution_count": 61,
   "metadata": {},
   "outputs": [],
   "source": [
    "Vin = 5;\n",
    "D0 = 1 / 2;\n",
    "L = 150e-6;\n",
    "C = 1e-6;\n",
    "R = 100;\n",
    "RL = 0.9;\n",
    "RC = 0.4;"
   ]
  },
  {
   "cell_type": "markdown",
   "metadata": {},
   "source": [
    "### State space averaging and linearization"
   ]
  },
  {
   "cell_type": "markdown",
   "metadata": {},
   "source": [
    "Matrix A"
   ]
  },
  {
   "cell_type": "code",
   "execution_count": 62,
   "metadata": {},
   "outputs": [
    {
     "data": {
      "text/plain": [
       "2×2 Matrix{Float64}:\n",
       "  -7328.02  -3320.05\n",
       " 498008.0   -9960.16"
      ]
     },
     "metadata": {},
     "output_type": "display_data"
    }
   ],
   "source": [
    "A11 = -1 / L * (RL + ((1 - D0) * R * RC) / (R + RC));\n",
    "A12 = -(R * (1 - D0)) / (L * (R + RC));\n",
    "A21 = R * (1 - D0) / (C * (R + RC));\n",
    "A22 = -1 / (C * (R + RC));\n",
    "\n",
    "A = [\n",
    "    A11 A12;\n",
    "    A21 A22\n",
    "]"
   ]
  },
  {
   "cell_type": "markdown",
   "metadata": {},
   "source": [
    "Matrix B"
   ]
  },
  {
   "cell_type": "code",
   "execution_count": 63,
   "metadata": {},
   "outputs": [
    {
     "data": {
      "text/plain": [
       "2×2 Matrix{Float64}:\n",
       " 6666.67   65492.5\n",
       "    0.0   -97459.0"
      ]
     },
     "metadata": {},
     "output_type": "display_data"
    }
   ],
   "source": [
    "B11 = 1 / L;\n",
    "B12 = (Vin * R / L) * (RC + R * (1 - D0)) / ((RL * (R + RC) + R * RC + R^2 * (1 - D0)) * (1 - D0));\n",
    "B21 = 0;\n",
    "B22 = (-Vin * R / C) * (1) / (RL * (R + RC) + R * RC + R^2 * (1 - D0));\n",
    "\n",
    "B = [\n",
    "    B11 B12;\n",
    "    B21 B22\n",
    "]"
   ]
  },
  {
   "cell_type": "markdown",
   "metadata": {},
   "source": [
    "Matrix C"
   ]
  },
  {
   "cell_type": "code",
   "execution_count": 64,
   "metadata": {},
   "outputs": [
    {
     "data": {
      "text/plain": [
       "1×2 Matrix{Float64}:\n",
       " 0.199203  0.996016"
      ]
     },
     "metadata": {},
     "output_type": "display_data"
    }
   ],
   "source": [
    "C11 = R * RC * (1 - D0) / (R + RC);\n",
    "C12 = R / (R + RC);\n",
    "\n",
    "C = [C11 C12]"
   ]
  },
  {
   "cell_type": "markdown",
   "metadata": {},
   "source": [
    "Matrix D"
   ]
  },
  {
   "cell_type": "code",
   "execution_count": 65,
   "metadata": {},
   "outputs": [
    {
     "data": {
      "text/plain": [
       "1×2 Matrix{Float64}:\n",
       " 0.0  0.0779672"
      ]
     },
     "metadata": {},
     "output_type": "display_data"
    }
   ],
   "source": [
    "D11 = 0;\n",
    "D12 = (Vin * R * RC) / ((RL * (R + RC) + R * RC + R^2 * (1 - D0)) * (1 - D0));\n",
    "\n",
    "D = [D11 D12]"
   ]
  },
  {
   "cell_type": "markdown",
   "metadata": {},
   "source": [
    "Building the system."
   ]
  },
  {
   "cell_type": "code",
   "execution_count": 66,
   "metadata": {},
   "outputs": [
    {
     "data": {
      "text/plain": [
       "StateSpace{Discrete{Float64}, Float64}\n",
       "A = \n",
       "  -7328.021248339974  -3320.0531208499337\n",
       " 498007.96812749      -9960.1593625498\n",
       "B = \n",
       " 6666.666666666667   65492.48005987884\n",
       "    0.0             -97459.04770815304\n",
       "C = \n",
       " 0.199203187250996  0.99601593625498\n",
       "D = \n",
       " 0.0  0.07796723816652243\n",
       "\n",
       "Sample Time: 2.0e-5 (seconds)\n",
       "Discrete-time state-space model"
      ]
     },
     "metadata": {},
     "output_type": "display_data"
    }
   ],
   "source": [
    "Ts = 20e-6\n",
    "sys = ss(A, B, C, D, Ts)"
   ]
  },
  {
   "cell_type": "markdown",
   "metadata": {},
   "source": [
    "System's transfer function. Reminder - inputs are $v_{in}$ and $d$, and output is $v_{out}$."
   ]
  },
  {
   "cell_type": "code",
   "execution_count": 67,
   "metadata": {},
   "outputs": [
    {
     "data": {
      "text/plain": [
       "TransferFunction{Discrete{Float64}, ControlSystemsBase.SisoRational{Float64}}\n",
       "Input 1 to output 1\n",
       "    1328.0212483399737z + 3.3200531208499336e9\n",
       "---------------------------------------------------\n",
       "1.0z^2 + 17288.180610889773z + 1.7264011682354248e9\n",
       "\n",
       "Input 2 to output 1\n",
       "0.07796723816652243z^2 - 82676.54218549954z + 3.2103499046384254e10\n",
       "-------------------------------------------------------------------\n",
       "        1.0z^2 + 17288.180610889773z + 1.7264011682354248e9\n",
       "\n",
       "Sample Time: 2.0e-5 (seconds)\n",
       "Discrete-time transfer function model"
      ]
     },
     "metadata": {},
     "output_type": "display_data"
    }
   ],
   "source": [
    "G = tf(sys)"
   ]
  },
  {
   "cell_type": "markdown",
   "metadata": {},
   "source": [
    "We'll define initial conditions of our state variables - needed for simulation."
   ]
  },
  {
   "cell_type": "code",
   "execution_count": 68,
   "metadata": {},
   "outputs": [
    {
     "data": {
      "text/plain": [
       "2-element Vector{Float64}:\n",
       " 0.1956977677979713\n",
       " 9.784888389898565"
      ]
     },
     "metadata": {},
     "output_type": "display_data"
    }
   ],
   "source": [
    "x0_11 = (Vin * (R + RC)) / ((RL * (R + RC) + R * RC + R^2 * (1 - D0)) * (1 - D0));\n",
    "x0_12 = (Vin * R * (R + RC)) / (RL * (R + RC) + R * RC + R^2 * (1 - D0));\n",
    "\n",
    "x0 = [x0_11; x0_12]"
   ]
  },
  {
   "cell_type": "markdown",
   "metadata": {},
   "source": [
    "Also, initial condition of our output is"
   ]
  },
  {
   "cell_type": "code",
   "execution_count": 69,
   "metadata": {},
   "outputs": [
    {
     "data": {
      "text/plain": [
       "1-element Vector{Float64}:\n",
       " 9.784888389898564"
      ]
     },
     "metadata": {},
     "output_type": "display_data"
    }
   ],
   "source": [
    "y0 = C * x0"
   ]
  },
  {
   "cell_type": "markdown",
   "metadata": {},
   "source": [
    "Let's test no-variation open loop system. This means that $\\delta d = 0$ and $\\delta v_{in} = 0$."
   ]
  },
  {
   "cell_type": "code",
   "execution_count": 73,
   "metadata": {},
   "outputs": [
    {
     "ename": "ErrorException",
     "evalue": "x0 must have length 4: got length 2",
     "output_type": "error",
     "traceback": [
      "x0 must have length 4: got length 2\n",
      "\n",
      "Stacktrace:\n",
      " [1] error(s::String)\n",
      "   @ Base .\\error.jl:35\n",
      " [2] lsim(sys::StateSpace{Discrete{Float64}, Float64}, u::LinearAlgebra.Adjoint{Float64, Matrix{Float64}}, t::StepRangeLen{Float64, Base.TwicePrecision{Float64}, Base.TwicePrecision{Float64}, Int64}; x0::Vector{Float64}, method::Symbol)\n",
      "   @ ControlSystemsBase C:\\Users\\radovic\\.julia\\packages\\ControlSystemsBase\\98Jcs\\src\\timeresp.jl:182\n",
      " [3] lsim\n",
      "   @ C:\\Users\\radovic\\.julia\\packages\\ControlSystemsBase\\98Jcs\\src\\timeresp.jl:176 [inlined]\n",
      " [4] #lsim#239\n",
      "   @ C:\\Users\\radovic\\.julia\\packages\\ControlSystemsBase\\98Jcs\\src\\timeresp.jl:304 [inlined]\n",
      " [5] top-level scope\n",
      "   @ c:\\Users\\radovic\\Desktop\\system.ipynb:4"
     ]
    }
   ],
   "source": [
    "t = 0:Ts:0.1\n",
    "\n",
    "vin = 0 .* t\n",
    "d = 0 .* t\n",
    "\n",
    "y, t, x = lsim(sys, [vin d]', t, x0=x0);"
   ]
  },
  {
   "cell_type": "markdown",
   "metadata": {},
   "source": [
    "We've simulated the system. Let's see the response."
   ]
  },
  {
   "cell_type": "code",
   "execution_count": 71,
   "metadata": {},
   "outputs": [
    {
     "data": {
      "image/png": "[encoded data removed]",
      "image/svg+xml": [
       "<?xml version=\"1.0\" encoding=\"utf-8\"?>\n",
       "<svg xmlns=\"http://www.w3.org/2000/svg\" xmlns:xlink=\"http://www.w3.org/1999/xlink\" width=\"600\" height=\"400\" viewBox=\"0 0 2400 1600\">\n",
       "<defs>\n",
       "  <clipPath id=\"clip080\">\n",
       "    <rect x=\"0\" y=\"0\" width=\"2400\" height=\"1600\"/>\n",
       "  </clipPath>\n",
       "</defs>\n",
       "<path clip-path=\"url(#clip080)\" d=\"M0 1600 L2400 1600 L2400 0 L0 0  Z\" fill=\"#ffffff\" fill-rule=\"evenodd\" fill-opacity=\"1\"/>\n",
       "<defs>\n",
       "  <clipPath id=\"clip081\">\n",
       "    <rect x=\"480\" y=\"0\" width=\"1681\" height=\"1600\"/>\n",
       "  </clipPath>\n",
       "</defs>\n",
       "<path clip-path=\"url(#clip080)\" d=\"M361.201 1486.45 L2352.76 1486.45 L2352.76 47.2441 L361.201 47.2441  Z\" fill=\"#ffffff\" fill-rule=\"evenodd\" fill-opacity=\"1\"/>\n",
       "<defs>\n",
       "  <clipPath id=\"clip082\">\n",
       "    <rect x=\"361\" y=\"47\" width=\"1993\" height=\"1440\"/>\n",
       "  </clipPath>\n",
       "</defs>\n",
       "<polyline clip-path=\"url(#clip082)\" style=\"stroke:#000000; stroke-linecap:round; stroke-linejoin:round; stroke-width:2; stroke-opacity:0.1; fill:none\" points=\"417.565,1486.45 417.565,47.2441 \"/>\n",
       "<polyline clip-path=\"url(#clip082)\" style=\"stroke:#000000; stroke-linecap:round; stroke-linejoin:round; stroke-width:2; stroke-opacity:0.1; fill:none\" points=\"887.272,1486.45 887.272,47.2441 \"/>\n",
       "<polyline clip-path=\"url(#clip082)\" style=\"stroke:#000000; stroke-linecap:round; stroke-linejoin:round; stroke-width:2; stroke-opacity:0.1; fill:none\" points=\"1356.98,1486.45 1356.98,47.2441 \"/>\n",
       "<polyline clip-path=\"url(#clip082)\" style=\"stroke:#000000; stroke-linecap:round; stroke-linejoin:round; stroke-width:2; stroke-opacity:0.1; fill:none\" points=\"1826.68,1486.45 1826.68,47.2441 \"/>\n",
       "<polyline clip-path=\"url(#clip082)\" style=\"stroke:#000000; stroke-linecap:round; stroke-linejoin:round; stroke-width:2; stroke-opacity:0.1; fill:none\" points=\"2296.39,1486.45 2296.39,47.2441 \"/>\n",
       "<polyline clip-path=\"url(#clip080)\" style=\"stroke:#000000; stroke-linecap:round; stroke-linejoin:round; stroke-width:4; stroke-opacity:1; fill:none\" points=\"361.201,1486.45 2352.76,1486.45 \"/>\n",
       "<polyline clip-path=\"url(#clip080)\" style=\"stroke:#000000; stroke-linecap:round; stroke-linejoin:round; stroke-width:4; stroke-opacity:1; fill:none\" points=\"417.565,1486.45 417.565,1467.55 \"/>\n",
       "<polyline clip-path=\"url(#clip080)\" style=\"stroke:#000000; stroke-linecap:round; stroke-linejoin:round; stroke-width:4; stroke-opacity:1; fill:none\" points=\"887.272,1486.45 887.272,1467.55 \"/>\n",
       "<polyline clip-path=\"url(#clip080)\" style=\"stroke:#000000; stroke-linecap:round; stroke-linejoin:round; stroke-width:4; stroke-opacity:1; fill:none\" points=\"1356.98,1486.45 1356.98,1467.55 \"/>\n",
       "<polyline clip-path=\"url(#clip080)\" style=\"stroke:#000000; stroke-linecap:round; stroke-linejoin:round; stroke-width:4; stroke-opacity:1; fill:none\" points=\"1826.68,1486.45 1826.68,1467.55 \"/>\n",
       "<polyline clip-path=\"url(#clip080)\" style=\"stroke:#000000; stroke-linecap:round; stroke-linejoin:round; stroke-width:4; stroke-opacity:1; fill:none\" points=\"2296.39,1486.45 2296.39,1467.55 \"/>\n",
       "<path clip-path=\"url(#clip080)\" d=\"M364.788 1517.37 Q361.177 1517.37 359.348 1520.93 Q357.543 1524.47 357.543 1531.6 Q357.543 1538.71 359.348 1542.27 Q361.177 1545.82 364.788 1545.82 Q368.422 1545.82 370.228 1542.27 Q372.056 1538.71 372.056 1531.6 Q372.056 1524.47 370.228 1520.93 Q368.422 1517.37 364.788 1517.37 M364.788 1513.66 Q370.598 1513.66 373.654 1518.27 Q376.732 1522.85 376.732 1531.6 Q376.732 1540.33 373.654 1544.94 Q370.598 1549.52 364.788 1549.52 Q358.978 1549.52 355.899 1544.94 Q352.844 1540.33 352.844 1531.6 Q352.844 1522.85 355.899 1518.27 Q358.978 1513.66 364.788 1513.66 Z\" fill=\"#000000\" fill-rule=\"nonzero\" fill-opacity=\"1\" /><path clip-path=\"url(#clip080)\" d=\"M384.95 1542.97 L389.834 1542.97 L389.834 1548.85 L384.95 1548.85 L384.95 1542.97 Z\" fill=\"#000000\" fill-rule=\"nonzero\" fill-opacity=\"1\" /><path clip-path=\"url(#clip080)\" d=\"M410.019 1517.37 Q406.408 1517.37 404.579 1520.93 Q402.774 1524.47 402.774 1531.6 Q402.774 1538.71 404.579 1542.27 Q406.408 1545.82 410.019 1545.82 Q413.653 1545.82 415.459 1542.27 Q417.288 1538.71 417.288 1531.6 Q417.288 1524.47 415.459 1520.93 Q413.653 1517.37 410.019 1517.37 M410.019 1513.66 Q415.829 1513.66 418.885 1518.27 Q421.964 1522.85 421.964 1531.6 Q421.964 1540.33 418.885 1544.94 Q415.829 1549.52 410.019 1549.52 Q404.209 1549.52 401.13 1544.94 Q398.075 1540.33 398.075 1531.6 Q398.075 1522.85 401.13 1518.27 Q404.209 1513.66 410.019 1513.66 Z\" fill=\"#000000\" fill-rule=\"nonzero\" fill-opacity=\"1\" /><path clip-path=\"url(#clip080)\" d=\"M440.181 1517.37 Q436.57 1517.37 434.741 1520.93 Q432.936 1524.47 432.936 1531.6 Q432.936 1538.71 434.741 1542.27 Q436.57 1545.82 440.181 1545.82 Q443.815 1545.82 445.621 1542.27 Q447.45 1538.71 447.45 1531.6 Q447.45 1524.47 445.621 1520.93 Q443.815 1517.37 440.181 1517.37 M440.181 1513.66 Q445.991 1513.66 449.047 1518.27 Q452.125 1522.85 452.125 1531.6 Q452.125 1540.33 449.047 1544.94 Q445.991 1549.52 440.181 1549.52 Q434.371 1549.52 431.292 1544.94 Q428.237 1540.33 428.237 1531.6 Q428.237 1522.85 431.292 1518.27 Q434.371 1513.66 440.181 1513.66 Z\" fill=\"#000000\" fill-rule=\"nonzero\" fill-opacity=\"1\" /><path clip-path=\"url(#clip080)\" d=\"M470.343 1517.37 Q466.732 1517.37 464.903 1520.93 Q463.098 1524.47 463.098 1531.6 Q463.098 1538.71 464.903 1542.27 Q466.732 1545.82 470.343 1545.82 Q473.977 1545.82 475.783 1542.27 Q477.611 1538.71 477.611 1531.6 Q477.611 1524.47 475.783 1520.93 Q473.977 1517.37 470.343 1517.37 M470.343 1513.66 Q476.153 1513.66 479.209 1518.27 Q482.287 1522.85 482.287 1531.6 Q482.287 1540.33 479.209 1544.94 Q476.153 1549.52 470.343 1549.52 Q464.533 1549.52 461.454 1544.94 Q458.399 1540.33 458.399 1531.6 Q458.399 1522.85 461.454 1518.27 Q464.533 1513.66 470.343 1513.66 Z\" fill=\"#000000\" fill-rule=\"nonzero\" fill-opacity=\"1\" /><path clip-path=\"url(#clip080)\" d=\"M834.992 1517.37 Q831.381 1517.37 829.552 1520.93 Q827.747 1524.47 827.747 1531.6 Q827.747 1538.71 829.552 1542.27 Q831.381 1545.82 834.992 1545.82 Q838.626 1545.82 840.432 1542.27 Q842.261 1538.71 842.261 1531.6 Q842.261 1524.47 840.432 1520.93 Q838.626 1517.37 834.992 1517.37 M834.992 1513.66 Q840.802 1513.66 843.858 1518.27 Q846.936 1522.85 846.936 1531.6 Q846.936 1540.33 843.858 1544.94 Q840.802 1549.52 834.992 1549.52 Q829.182 1549.52 826.103 1544.94 Q823.048 1540.33 823.048 1531.6 Q823.048 1522.85 826.103 1518.27 Q829.182 1513.66 834.992 1513.66 Z\" fill=\"#000000\" fill-rule=\"nonzero\" fill-opacity=\"1\" /><path clip-path=\"url(#clip080)\" d=\"M855.154 1542.97 L860.038 1542.97 L860.038 1548.85 L855.154 1548.85 L855.154 1542.97 Z\" fill=\"#000000\" fill-rule=\"nonzero\" fill-opacity=\"1\" /><path clip-path=\"url(#clip080)\" d=\"M880.223 1517.37 Q876.612 1517.37 874.784 1520.93 Q872.978 1524.47 872.978 1531.6 Q872.978 1538.71 874.784 1542.27 Q876.612 1545.82 880.223 1545.82 Q883.858 1545.82 885.663 1542.27 Q887.492 1538.71 887.492 1531.6 Q887.492 1524.47 885.663 1520.93 Q883.858 1517.37 880.223 1517.37 M880.223 1513.66 Q886.033 1513.66 889.089 1518.27 Q892.168 1522.85 892.168 1531.6 Q892.168 1540.33 889.089 1544.94 Q886.033 1549.52 880.223 1549.52 Q874.413 1549.52 871.334 1544.94 Q868.279 1540.33 868.279 1531.6 Q868.279 1522.85 871.334 1518.27 Q874.413 1513.66 880.223 1513.66 Z\" fill=\"#000000\" fill-rule=\"nonzero\" fill-opacity=\"1\" /><path clip-path=\"url(#clip080)\" d=\"M904.413 1544.91 L920.732 1544.91 L920.732 1548.85 L898.788 1548.85 L898.788 1544.91 Q901.45 1542.16 906.033 1537.53 Q910.64 1532.88 911.82 1531.53 Q914.066 1529.01 914.945 1527.27 Q915.848 1525.51 915.848 1523.82 Q915.848 1521.07 913.904 1519.33 Q911.982 1517.6 908.881 1517.6 Q906.682 1517.6 904.228 1518.36 Q901.797 1519.13 899.02 1520.68 L899.02 1515.95 Q901.844 1514.82 904.297 1514.24 Q906.751 1513.66 908.788 1513.66 Q914.158 1513.66 917.353 1516.35 Q920.547 1519.03 920.547 1523.52 Q920.547 1525.65 919.737 1527.57 Q918.95 1529.47 916.844 1532.07 Q916.265 1532.74 913.163 1535.95 Q910.061 1539.15 904.413 1544.91 Z\" fill=\"#000000\" fill-rule=\"nonzero\" fill-opacity=\"1\" /><path clip-path=\"url(#clip080)\" d=\"M930.593 1514.29 L948.95 1514.29 L948.95 1518.22 L934.876 1518.22 L934.876 1526.7 Q935.894 1526.35 936.913 1526.19 Q937.931 1526 938.95 1526 Q944.737 1526 948.116 1529.17 Q951.496 1532.34 951.496 1537.76 Q951.496 1543.34 948.024 1546.44 Q944.552 1549.52 938.232 1549.52 Q936.056 1549.52 933.788 1549.15 Q931.543 1548.78 929.135 1548.04 L929.135 1543.34 Q931.218 1544.47 933.441 1545.03 Q935.663 1545.58 938.14 1545.58 Q942.144 1545.58 944.482 1543.48 Q946.82 1541.37 946.82 1537.76 Q946.82 1534.15 944.482 1532.04 Q942.144 1529.94 938.14 1529.94 Q936.265 1529.94 934.39 1530.35 Q932.538 1530.77 930.593 1531.65 L930.593 1514.29 Z\" fill=\"#000000\" fill-rule=\"nonzero\" fill-opacity=\"1\" /><path clip-path=\"url(#clip080)\" d=\"M1304.2 1517.37 Q1300.59 1517.37 1298.76 1520.93 Q1296.96 1524.47 1296.96 1531.6 Q1296.96 1538.71 1298.76 1542.27 Q1300.59 1545.82 1304.2 1545.82 Q1307.84 1545.82 1309.64 1542.27 Q1311.47 1538.71 1311.47 1531.6 Q1311.47 1524.47 1309.64 1520.93 Q1307.84 1517.37 1304.2 1517.37 M1304.2 1513.66 Q1310.01 1513.66 1313.07 1518.27 Q1316.15 1522.85 1316.15 1531.6 Q1316.15 1540.33 1313.07 1544.94 Q1310.01 1549.52 1304.2 1549.52 Q1298.39 1549.52 1295.31 1544.94 Q1292.26 1540.33 1292.26 1531.6 Q1292.26 1522.85 1295.31 1518.27 Q1298.39 1513.66 1304.2 1513.66 Z\" fill=\"#000000\" fill-rule=\"nonzero\" fill-opacity=\"1\" /><path clip-path=\"url(#clip080)\" d=\"M1324.36 1542.97 L1329.25 1542.97 L1329.25 1548.85 L1324.36 1548.85 L1324.36 1542.97 Z\" fill=\"#000000\" fill-rule=\"nonzero\" fill-opacity=\"1\" /><path clip-path=\"url(#clip080)\" d=\"M1349.43 1517.37 Q1345.82 1517.37 1343.99 1520.93 Q1342.19 1524.47 1342.19 1531.6 Q1342.19 1538.71 1343.99 1542.27 Q1345.82 1545.82 1349.43 1545.82 Q1353.07 1545.82 1354.87 1542.27 Q1356.7 1538.71 1356.7 1531.6 Q1356.7 1524.47 1354.87 1520.93 Q1353.07 1517.37 1349.43 1517.37 M1349.43 1513.66 Q1355.24 1513.66 1358.3 1518.27 Q1361.38 1522.85 1361.38 1531.6 Q1361.38 1540.33 1358.3 1544.94 Q1355.24 1549.52 1349.43 1549.52 Q1343.62 1549.52 1340.54 1544.94 Q1337.49 1540.33 1337.49 1531.6 Q1337.49 1522.85 1340.54 1518.27 Q1343.62 1513.66 1349.43 1513.66 Z\" fill=\"#000000\" fill-rule=\"nonzero\" fill-opacity=\"1\" /><path clip-path=\"url(#clip080)\" d=\"M1369.64 1514.29 L1388 1514.29 L1388 1518.22 L1373.92 1518.22 L1373.92 1526.7 Q1374.94 1526.35 1375.96 1526.19 Q1376.98 1526 1378 1526 Q1383.78 1526 1387.16 1529.17 Q1390.54 1532.34 1390.54 1537.76 Q1390.54 1543.34 1387.07 1546.44 Q1383.6 1549.52 1377.28 1549.52 Q1375.1 1549.52 1372.83 1549.15 Q1370.59 1548.78 1368.18 1548.04 L1368.18 1543.34 Q1370.27 1544.47 1372.49 1545.03 Q1374.71 1545.58 1377.19 1545.58 Q1381.19 1545.58 1383.53 1543.48 Q1385.87 1541.37 1385.87 1537.76 Q1385.87 1534.15 1383.53 1532.04 Q1381.19 1529.94 1377.19 1529.94 Q1375.31 1529.94 1373.44 1530.35 Q1371.58 1530.77 1369.64 1531.65 L1369.64 1514.29 Z\" fill=\"#000000\" fill-rule=\"nonzero\" fill-opacity=\"1\" /><path clip-path=\"url(#clip080)\" d=\"M1409.76 1517.37 Q1406.14 1517.37 1404.32 1520.93 Q1402.51 1524.47 1402.51 1531.6 Q1402.51 1538.71 1404.32 1542.27 Q1406.14 1545.82 1409.76 1545.82 Q1413.39 1545.82 1415.2 1542.27 Q1417.02 1538.71 1417.02 1531.6 Q1417.02 1524.47 1415.2 1520.93 Q1413.39 1517.37 1409.76 1517.37 M1409.76 1513.66 Q1415.57 1513.66 1418.62 1518.27 Q1421.7 1522.85 1421.7 1531.6 Q1421.7 1540.33 1418.62 1544.94 Q1415.57 1549.52 1409.76 1549.52 Q1403.95 1549.52 1400.87 1544.94 Q1397.81 1540.33 1397.81 1531.6 Q1397.81 1522.85 1400.87 1518.27 Q1403.95 1513.66 1409.76 1513.66 Z\" fill=\"#000000\" fill-rule=\"nonzero\" fill-opacity=\"1\" /><path clip-path=\"url(#clip080)\" d=\"M1774.4 1517.37 Q1770.79 1517.37 1768.97 1520.93 Q1767.16 1524.47 1767.16 1531.6 Q1767.16 1538.71 1768.97 1542.27 Q1770.79 1545.82 1774.4 1545.82 Q1778.04 1545.82 1779.84 1542.27 Q1781.67 1538.71 1781.67 1531.6 Q1781.67 1524.47 1779.84 1520.93 Q1778.04 1517.37 1774.4 1517.37 M1774.4 1513.66 Q1780.22 1513.66 1783.27 1518.27 Q1786.35 1522.85 1786.35 1531.6 Q1786.35 1540.33 1783.27 1544.94 Q1780.22 1549.52 1774.4 1549.52 Q1768.59 1549.52 1765.52 1544.94 Q1762.46 1540.33 1762.46 1531.6 Q1762.46 1522.85 1765.52 1518.27 Q1768.59 1513.66 1774.4 1513.66 Z\" fill=\"#000000\" fill-rule=\"nonzero\" fill-opacity=\"1\" /><path clip-path=\"url(#clip080)\" d=\"M1794.57 1542.97 L1799.45 1542.97 L1799.45 1548.85 L1794.57 1548.85 L1794.57 1542.97 Z\" fill=\"#000000\" fill-rule=\"nonzero\" fill-opacity=\"1\" /><path clip-path=\"url(#clip080)\" d=\"M1819.64 1517.37 Q1816.03 1517.37 1814.2 1520.93 Q1812.39 1524.47 1812.39 1531.6 Q1812.39 1538.71 1814.2 1542.27 Q1816.03 1545.82 1819.64 1545.82 Q1823.27 1545.82 1825.08 1542.27 Q1826.9 1538.71 1826.9 1531.6 Q1826.9 1524.47 1825.08 1520.93 Q1823.27 1517.37 1819.64 1517.37 M1819.64 1513.66 Q1825.45 1513.66 1828.5 1518.27 Q1831.58 1522.85 1831.58 1531.6 Q1831.58 1540.33 1828.5 1544.94 Q1825.45 1549.52 1819.64 1549.52 Q1813.83 1549.52 1810.75 1544.94 Q1807.69 1540.33 1807.69 1531.6 Q1807.69 1522.85 1810.75 1518.27 Q1813.83 1513.66 1819.64 1513.66 Z\" fill=\"#000000\" fill-rule=\"nonzero\" fill-opacity=\"1\" /><path clip-path=\"url(#clip080)\" d=\"M1838.62 1514.29 L1860.84 1514.29 L1860.84 1516.28 L1848.29 1548.85 L1843.41 1548.85 L1855.21 1518.22 L1838.62 1518.22 L1838.62 1514.29 Z\" fill=\"#000000\" fill-rule=\"nonzero\" fill-opacity=\"1\" /><path clip-path=\"url(#clip080)\" d=\"M1870.01 1514.29 L1888.36 1514.29 L1888.36 1518.22 L1874.29 1518.22 L1874.29 1526.7 Q1875.31 1526.35 1876.33 1526.19 Q1877.34 1526 1878.36 1526 Q1884.15 1526 1887.53 1529.17 Q1890.91 1532.34 1890.91 1537.76 Q1890.91 1543.34 1887.44 1546.44 Q1883.96 1549.52 1877.65 1549.52 Q1875.47 1549.52 1873.2 1549.15 Q1870.96 1548.78 1868.55 1548.04 L1868.55 1543.34 Q1870.63 1544.47 1872.85 1545.03 Q1875.08 1545.58 1877.55 1545.58 Q1881.56 1545.58 1883.9 1543.48 Q1886.23 1541.37 1886.23 1537.76 Q1886.23 1534.15 1883.9 1532.04 Q1881.56 1529.94 1877.55 1529.94 Q1875.68 1529.94 1873.8 1530.35 Q1871.95 1530.77 1870.01 1531.65 L1870.01 1514.29 Z\" fill=\"#000000\" fill-rule=\"nonzero\" fill-opacity=\"1\" /><path clip-path=\"url(#clip080)\" d=\"M2243.61 1517.37 Q2240 1517.37 2238.17 1520.93 Q2236.37 1524.47 2236.37 1531.6 Q2236.37 1538.71 2238.17 1542.27 Q2240 1545.82 2243.61 1545.82 Q2247.25 1545.82 2249.05 1542.27 Q2250.88 1538.71 2250.88 1531.6 Q2250.88 1524.47 2249.05 1520.93 Q2247.25 1517.37 2243.61 1517.37 M2243.61 1513.66 Q2249.42 1513.66 2252.48 1518.27 Q2255.56 1522.85 2255.56 1531.6 Q2255.56 1540.33 2252.48 1544.94 Q2249.42 1549.52 2243.61 1549.52 Q2237.8 1549.52 2234.72 1544.94 Q2231.67 1540.33 2231.67 1531.6 Q2231.67 1522.85 2234.72 1518.27 Q2237.8 1513.66 2243.61 1513.66 Z\" fill=\"#000000\" fill-rule=\"nonzero\" fill-opacity=\"1\" /><path clip-path=\"url(#clip080)\" d=\"M2263.78 1542.97 L2268.66 1542.97 L2268.66 1548.85 L2263.78 1548.85 L2263.78 1542.97 Z\" fill=\"#000000\" fill-rule=\"nonzero\" fill-opacity=\"1\" /><path clip-path=\"url(#clip080)\" d=\"M2279.66 1544.91 L2287.29 1544.91 L2287.29 1518.55 L2278.98 1520.21 L2278.98 1515.95 L2287.25 1514.29 L2291.92 1514.29 L2291.92 1544.91 L2299.56 1544.91 L2299.56 1548.85 L2279.66 1548.85 L2279.66 1544.91 Z\" fill=\"#000000\" fill-rule=\"nonzero\" fill-opacity=\"1\" /><path clip-path=\"url(#clip080)\" d=\"M2319.01 1517.37 Q2315.4 1517.37 2313.57 1520.93 Q2311.76 1524.47 2311.76 1531.6 Q2311.76 1538.71 2313.57 1542.27 Q2315.4 1545.82 2319.01 1545.82 Q2322.64 1545.82 2324.45 1542.27 Q2326.28 1538.71 2326.28 1531.6 Q2326.28 1524.47 2324.45 1520.93 Q2322.64 1517.37 2319.01 1517.37 M2319.01 1513.66 Q2324.82 1513.66 2327.87 1518.27 Q2330.95 1522.85 2330.95 1531.6 Q2330.95 1540.33 2327.87 1544.94 Q2324.82 1549.52 2319.01 1549.52 Q2313.2 1549.52 2310.12 1544.94 Q2307.06 1540.33 2307.06 1531.6 Q2307.06 1522.85 2310.12 1518.27 Q2313.2 1513.66 2319.01 1513.66 Z\" fill=\"#000000\" fill-rule=\"nonzero\" fill-opacity=\"1\" /><path clip-path=\"url(#clip080)\" d=\"M2349.17 1517.37 Q2345.56 1517.37 2343.73 1520.93 Q2341.92 1524.47 2341.92 1531.6 Q2341.92 1538.71 2343.73 1542.27 Q2345.56 1545.82 2349.17 1545.82 Q2352.8 1545.82 2354.61 1542.27 Q2356.44 1538.71 2356.44 1531.6 Q2356.44 1524.47 2354.61 1520.93 Q2352.8 1517.37 2349.17 1517.37 M2349.17 1513.66 Q2354.98 1513.66 2358.03 1518.27 Q2361.11 1522.85 2361.11 1531.6 Q2361.11 1540.33 2358.03 1544.94 Q2354.98 1549.52 2349.17 1549.52 Q2343.36 1549.52 2340.28 1544.94 Q2337.22 1540.33 2337.22 1531.6 Q2337.22 1522.85 2340.28 1518.27 Q2343.36 1513.66 2349.17 1513.66 Z\" fill=\"#000000\" fill-rule=\"nonzero\" fill-opacity=\"1\" /><polyline clip-path=\"url(#clip082)\" style=\"stroke:#000000; stroke-linecap:round; stroke-linejoin:round; stroke-width:2; stroke-opacity:0.1; fill:none\" points=\"361.201,1363.97 2352.76,1363.97 \"/>\n",
       "<polyline clip-path=\"url(#clip082)\" style=\"stroke:#000000; stroke-linecap:round; stroke-linejoin:round; stroke-width:2; stroke-opacity:0.1; fill:none\" points=\"361.201,938.64 2352.76,938.64 \"/>\n",
       "<polyline clip-path=\"url(#clip082)\" style=\"stroke:#000000; stroke-linecap:round; stroke-linejoin:round; stroke-width:2; stroke-opacity:0.1; fill:none\" points=\"361.201,513.308 2352.76,513.308 \"/>\n",
       "<polyline clip-path=\"url(#clip082)\" style=\"stroke:#000000; stroke-linecap:round; stroke-linejoin:round; stroke-width:2; stroke-opacity:0.1; fill:none\" points=\"361.201,87.9763 2352.76,87.9763 \"/>\n",
       "<polyline clip-path=\"url(#clip080)\" style=\"stroke:#000000; stroke-linecap:round; stroke-linejoin:round; stroke-width:4; stroke-opacity:1; fill:none\" points=\"361.201,1486.45 361.201,47.2441 \"/>\n",
       "<polyline clip-path=\"url(#clip080)\" style=\"stroke:#000000; stroke-linecap:round; stroke-linejoin:round; stroke-width:4; stroke-opacity:1; fill:none\" points=\"361.201,1363.97 380.098,1363.97 \"/>\n",
       "<polyline clip-path=\"url(#clip080)\" style=\"stroke:#000000; stroke-linecap:round; stroke-linejoin:round; stroke-width:4; stroke-opacity:1; fill:none\" points=\"361.201,938.64 380.098,938.64 \"/>\n",
       "<polyline clip-path=\"url(#clip080)\" style=\"stroke:#000000; stroke-linecap:round; stroke-linejoin:round; stroke-width:4; stroke-opacity:1; fill:none\" points=\"361.201,513.308 380.098,513.308 \"/>\n",
       "<polyline clip-path=\"url(#clip080)\" style=\"stroke:#000000; stroke-linecap:round; stroke-linejoin:round; stroke-width:4; stroke-opacity:1; fill:none\" points=\"361.201,87.9763 380.098,87.9763 \"/>\n",
       "<path clip-path=\"url(#clip080)\" d=\"M50.9921 1370.87 L80.6679 1370.87 L80.6679 1374.81 L50.9921 1374.81 L50.9921 1370.87 Z\" fill=\"#000000\" fill-rule=\"nonzero\" fill-opacity=\"1\" /><path clip-path=\"url(#clip080)\" d=\"M104.927 1369.07 Q108.283 1369.78 110.158 1372.05 Q112.057 1374.32 112.057 1377.65 Q112.057 1382.77 108.538 1385.57 Q105.02 1388.37 98.5382 1388.37 Q96.3623 1388.37 94.0475 1387.93 Q91.7558 1387.51 89.3021 1386.66 L89.3021 1382.14 Q91.2465 1383.28 93.5613 1383.86 Q95.8761 1384.44 98.3993 1384.44 Q102.797 1384.44 105.089 1382.7 Q107.404 1380.96 107.404 1377.65 Q107.404 1374.6 105.251 1372.89 Q103.121 1371.15 99.3021 1371.15 L95.2743 1371.15 L95.2743 1367.31 L99.4872 1367.31 Q102.936 1367.31 104.765 1365.94 Q106.594 1364.55 106.594 1361.96 Q106.594 1359.3 104.696 1357.89 Q102.821 1356.45 99.3021 1356.45 Q97.3808 1356.45 95.1817 1356.87 Q92.9826 1357.28 90.3438 1358.16 L90.3438 1354 Q93.0058 1353.26 95.3206 1352.89 Q97.6585 1352.51 99.7187 1352.51 Q105.043 1352.51 108.145 1354.95 Q111.246 1357.35 111.246 1361.47 Q111.246 1364.34 109.603 1366.33 Q107.959 1368.3 104.927 1369.07 Z\" fill=\"#000000\" fill-rule=\"nonzero\" fill-opacity=\"1\" /><path clip-path=\"url(#clip080)\" d=\"M120.922 1381.82 L125.807 1381.82 L125.807 1387.7 L120.922 1387.7 L120.922 1381.82 Z\" fill=\"#000000\" fill-rule=\"nonzero\" fill-opacity=\"1\" /><path clip-path=\"url(#clip080)\" d=\"M145.992 1356.22 Q142.381 1356.22 140.552 1359.78 Q138.746 1363.33 138.746 1370.45 Q138.746 1377.56 140.552 1381.13 Q142.381 1384.67 145.992 1384.67 Q149.626 1384.67 151.431 1381.13 Q153.26 1377.56 153.26 1370.45 Q153.26 1363.33 151.431 1359.78 Q149.626 1356.22 145.992 1356.22 M145.992 1352.51 Q151.802 1352.51 154.857 1357.12 Q157.936 1361.7 157.936 1370.45 Q157.936 1379.18 154.857 1383.79 Q151.802 1388.37 145.992 1388.37 Q140.181 1388.37 137.103 1383.79 Q134.047 1379.18 134.047 1370.45 Q134.047 1361.7 137.103 1357.12 Q140.181 1352.51 145.992 1352.51 Z\" fill=\"#000000\" fill-rule=\"nonzero\" fill-opacity=\"1\" /><path clip-path=\"url(#clip080)\" d=\"M194.325 1362.24 L183.746 1372.86 L194.325 1383.44 L191.57 1386.24 L180.945 1375.62 L170.32 1386.24 L167.589 1383.44 L178.144 1372.86 L167.589 1362.24 L170.32 1359.44 L180.945 1370.06 L191.57 1359.44 L194.325 1362.24 Z\" fill=\"#000000\" fill-rule=\"nonzero\" fill-opacity=\"1\" /><path clip-path=\"url(#clip080)\" d=\"M206.686 1383.76 L214.325 1383.76 L214.325 1357.4 L206.014 1359.07 L206.014 1354.81 L214.278 1353.14 L218.954 1353.14 L218.954 1383.76 L226.593 1383.76 L226.593 1387.7 L206.686 1387.7 L206.686 1383.76 Z\" fill=\"#000000\" fill-rule=\"nonzero\" fill-opacity=\"1\" /><path clip-path=\"url(#clip080)\" d=\"M246.037 1356.22 Q242.426 1356.22 240.598 1359.78 Q238.792 1363.33 238.792 1370.45 Q238.792 1377.56 240.598 1381.13 Q242.426 1384.67 246.037 1384.67 Q249.672 1384.67 251.477 1381.13 Q253.306 1377.56 253.306 1370.45 Q253.306 1363.33 251.477 1359.78 Q249.672 1356.22 246.037 1356.22 M246.037 1352.51 Q251.848 1352.51 254.903 1357.12 Q257.982 1361.7 257.982 1370.45 Q257.982 1379.18 254.903 1383.79 Q251.848 1388.37 246.037 1388.37 Q240.227 1388.37 237.149 1383.79 Q234.093 1379.18 234.093 1370.45 Q234.093 1361.7 237.149 1357.12 Q240.227 1352.51 246.037 1352.51 Z\" fill=\"#000000\" fill-rule=\"nonzero\" fill-opacity=\"1\" /><path clip-path=\"url(#clip080)\" d=\"M270.677 1345.15 Q273.404 1345.73 274.928 1347.58 Q276.47 1349.42 276.47 1352.13 Q276.47 1356.28 273.611 1358.56 Q270.752 1360.83 265.486 1360.83 Q263.718 1360.83 261.837 1360.48 Q259.975 1360.14 257.982 1359.44 L257.982 1355.78 Q259.562 1356.7 261.442 1357.17 Q263.323 1357.64 265.373 1357.64 Q268.947 1357.64 270.809 1356.23 Q272.689 1354.82 272.689 1352.13 Q272.689 1349.64 270.94 1348.25 Q269.21 1346.84 266.107 1346.84 L262.834 1346.84 L262.834 1343.72 L266.257 1343.72 Q269.06 1343.72 270.545 1342.61 Q272.031 1341.48 272.031 1339.38 Q272.031 1337.21 270.489 1336.07 Q268.965 1334.9 266.107 1334.9 Q264.546 1334.9 262.759 1335.24 Q260.972 1335.58 258.828 1336.29 L258.828 1332.91 Q260.991 1332.3 262.872 1332 Q264.771 1331.7 266.445 1331.7 Q270.771 1331.7 273.291 1333.68 Q275.812 1335.63 275.812 1338.98 Q275.812 1341.31 274.476 1342.93 Q273.141 1344.53 270.677 1345.15 Z\" fill=\"#000000\" fill-rule=\"nonzero\" fill-opacity=\"1\" /><path clip-path=\"url(#clip080)\" d=\"M291.798 1334.71 Q288.864 1334.71 287.378 1337.61 Q285.911 1340.48 285.911 1346.28 Q285.911 1352.05 287.378 1354.95 Q288.864 1357.83 291.798 1357.83 Q294.751 1357.83 296.218 1354.95 Q297.704 1352.05 297.704 1346.28 Q297.704 1340.48 296.218 1337.61 Q294.751 1334.71 291.798 1334.71 M291.798 1331.7 Q296.519 1331.7 299.002 1335.44 Q301.503 1339.17 301.503 1346.28 Q301.503 1353.37 299.002 1357.11 Q296.519 1360.83 291.798 1360.83 Q287.077 1360.83 284.576 1357.11 Q282.093 1353.37 282.093 1346.28 Q282.093 1339.17 284.576 1335.44 Q287.077 1331.7 291.798 1331.7 Z\" fill=\"#000000\" fill-rule=\"nonzero\" fill-opacity=\"1\" /><path clip-path=\"url(#clip080)\" d=\"M308.217 1332.21 L323.132 1332.21 L323.132 1335.41 L311.697 1335.41 L311.697 1342.29 Q312.524 1342.01 313.352 1341.88 Q314.179 1341.73 315.007 1341.73 Q319.709 1341.73 322.455 1344.3 Q325.201 1346.88 325.201 1351.28 Q325.201 1355.81 322.38 1358.33 Q319.558 1360.83 314.424 1360.83 Q312.656 1360.83 310.813 1360.53 Q308.988 1360.23 307.032 1359.63 L307.032 1355.81 Q308.725 1356.73 310.531 1357.19 Q312.336 1357.64 314.349 1357.64 Q317.602 1357.64 319.502 1355.93 Q321.402 1354.21 321.402 1351.28 Q321.402 1348.35 319.502 1346.64 Q317.602 1344.92 314.349 1344.92 Q312.825 1344.92 311.302 1345.26 Q309.797 1345.6 308.217 1346.32 L308.217 1332.21 Z\" fill=\"#000000\" fill-rule=\"nonzero\" fill-opacity=\"1\" /><path clip-path=\"url(#clip080)\" d=\"M50.9921 945.539 L80.6679 945.539 L80.6679 949.474 L50.9921 949.474 L50.9921 945.539 Z\" fill=\"#000000\" fill-rule=\"nonzero\" fill-opacity=\"1\" /><path clip-path=\"url(#clip080)\" d=\"M94.7882 958.433 L111.108 958.433 L111.108 962.368 L89.1632 962.368 L89.1632 958.433 Q91.8252 955.678 96.4085 951.049 Q101.015 946.396 102.196 945.053 Q104.441 942.53 105.321 940.794 Q106.223 939.035 106.223 937.345 Q106.223 934.59 104.279 932.854 Q102.358 931.118 99.2558 931.118 Q97.0567 931.118 94.603 931.882 Q92.1725 932.646 89.3947 934.197 L89.3947 929.475 Q92.2188 928.34 94.6724 927.762 Q97.1261 927.183 99.1632 927.183 Q104.534 927.183 107.728 929.868 Q110.922 932.553 110.922 937.044 Q110.922 939.174 110.112 941.095 Q109.325 942.993 107.219 945.586 Q106.64 946.257 103.538 949.474 Q100.436 952.669 94.7882 958.433 Z\" fill=\"#000000\" fill-rule=\"nonzero\" fill-opacity=\"1\" /><path clip-path=\"url(#clip080)\" d=\"M120.922 956.488 L125.807 956.488 L125.807 962.368 L120.922 962.368 L120.922 956.488 Z\" fill=\"#000000\" fill-rule=\"nonzero\" fill-opacity=\"1\" /><path clip-path=\"url(#clip080)\" d=\"M145.992 930.887 Q142.381 930.887 140.552 934.451 Q138.746 937.993 138.746 945.123 Q138.746 952.229 140.552 955.794 Q142.381 959.336 145.992 959.336 Q149.626 959.336 151.431 955.794 Q153.26 952.229 153.26 945.123 Q153.26 937.993 151.431 934.451 Q149.626 930.887 145.992 930.887 M145.992 927.183 Q151.802 927.183 154.857 931.789 Q157.936 936.373 157.936 945.123 Q157.936 953.849 154.857 958.456 Q151.802 963.039 145.992 963.039 Q140.181 963.039 137.103 958.456 Q134.047 953.849 134.047 945.123 Q134.047 936.373 137.103 931.789 Q140.181 927.183 145.992 927.183 Z\" fill=\"#000000\" fill-rule=\"nonzero\" fill-opacity=\"1\" /><path clip-path=\"url(#clip080)\" d=\"M194.325 936.905 L183.746 947.53 L194.325 958.109 L191.57 960.91 L180.945 950.285 L170.32 960.91 L167.589 958.109 L178.144 947.53 L167.589 936.905 L170.32 934.104 L180.945 944.729 L191.57 934.104 L194.325 936.905 Z\" fill=\"#000000\" fill-rule=\"nonzero\" fill-opacity=\"1\" /><path clip-path=\"url(#clip080)\" d=\"M206.686 958.433 L214.325 958.433 L214.325 932.067 L206.014 933.734 L206.014 929.475 L214.278 927.808 L218.954 927.808 L218.954 958.433 L226.593 958.433 L226.593 962.368 L206.686 962.368 L206.686 958.433 Z\" fill=\"#000000\" fill-rule=\"nonzero\" fill-opacity=\"1\" /><path clip-path=\"url(#clip080)\" d=\"M246.037 930.887 Q242.426 930.887 240.598 934.451 Q238.792 937.993 238.792 945.123 Q238.792 952.229 240.598 955.794 Q242.426 959.336 246.037 959.336 Q249.672 959.336 251.477 955.794 Q253.306 952.229 253.306 945.123 Q253.306 937.993 251.477 934.451 Q249.672 930.887 246.037 930.887 M246.037 927.183 Q251.848 927.183 254.903 931.789 Q257.982 936.373 257.982 945.123 Q257.982 953.849 254.903 958.456 Q251.848 963.039 246.037 963.039 Q240.227 963.039 237.149 958.456 Q234.093 953.849 234.093 945.123 Q234.093 936.373 237.149 931.789 Q240.227 927.183 246.037 927.183 Z\" fill=\"#000000\" fill-rule=\"nonzero\" fill-opacity=\"1\" /><path clip-path=\"url(#clip080)\" d=\"M270.677 919.817 Q273.404 920.4 274.928 922.243 Q276.47 924.087 276.47 926.795 Q276.47 930.951 273.611 933.227 Q270.752 935.503 265.486 935.503 Q263.718 935.503 261.837 935.146 Q259.975 934.807 257.982 934.111 L257.982 930.444 Q259.562 931.365 261.442 931.835 Q263.323 932.306 265.373 932.306 Q268.947 932.306 270.809 930.895 Q272.689 929.484 272.689 926.795 Q272.689 924.312 270.94 922.921 Q269.21 921.51 266.107 921.51 L262.834 921.51 L262.834 918.388 L266.257 918.388 Q269.06 918.388 270.545 917.278 Q272.031 916.15 272.031 914.043 Q272.031 911.88 270.489 910.733 Q268.965 909.567 266.107 909.567 Q264.546 909.567 262.759 909.906 Q260.972 910.244 258.828 910.959 L258.828 907.573 Q260.991 906.972 262.872 906.671 Q264.771 906.37 266.445 906.37 Q270.771 906.37 273.291 908.345 Q275.812 910.301 275.812 913.648 Q275.812 915.98 274.476 917.598 Q273.141 919.197 270.677 919.817 Z\" fill=\"#000000\" fill-rule=\"nonzero\" fill-opacity=\"1\" /><path clip-path=\"url(#clip080)\" d=\"M291.798 909.379 Q288.864 909.379 287.378 912.275 Q285.911 915.153 285.911 920.946 Q285.911 926.72 287.378 929.616 Q288.864 932.494 291.798 932.494 Q294.751 932.494 296.218 929.616 Q297.704 926.72 297.704 920.946 Q297.704 915.153 296.218 912.275 Q294.751 909.379 291.798 909.379 M291.798 906.37 Q296.519 906.37 299.002 910.112 Q301.503 913.836 301.503 920.946 Q301.503 928.036 299.002 931.779 Q296.519 935.503 291.798 935.503 Q287.077 935.503 284.576 931.779 Q282.093 928.036 282.093 920.946 Q282.093 913.836 284.576 910.112 Q287.077 906.37 291.798 906.37 Z\" fill=\"#000000\" fill-rule=\"nonzero\" fill-opacity=\"1\" /><path clip-path=\"url(#clip080)\" d=\"M308.217 906.878 L323.132 906.878 L323.132 910.075 L311.697 910.075 L311.697 916.958 Q312.524 916.676 313.352 916.545 Q314.179 916.394 315.007 916.394 Q319.709 916.394 322.455 918.971 Q325.201 921.548 325.201 925.949 Q325.201 930.481 322.38 933.002 Q319.558 935.503 314.424 935.503 Q312.656 935.503 310.813 935.202 Q308.988 934.901 307.032 934.299 L307.032 930.481 Q308.725 931.403 310.531 931.854 Q312.336 932.306 314.349 932.306 Q317.602 932.306 319.502 930.594 Q321.402 928.883 321.402 925.949 Q321.402 923.015 319.502 921.303 Q317.602 919.592 314.349 919.592 Q312.825 919.592 311.302 919.93 Q309.797 920.269 308.217 920.983 L308.217 906.878 Z\" fill=\"#000000\" fill-rule=\"nonzero\" fill-opacity=\"1\" /><path clip-path=\"url(#clip080)\" d=\"M50.9921 520.207 L80.6679 520.207 L80.6679 524.142 L50.9921 524.142 L50.9921 520.207 Z\" fill=\"#000000\" fill-rule=\"nonzero\" fill-opacity=\"1\" /><path clip-path=\"url(#clip080)\" d=\"M91.5706 533.101 L99.2095 533.101 L99.2095 506.735 L90.8993 508.402 L90.8993 504.143 L99.1632 502.476 L103.839 502.476 L103.839 533.101 L111.478 533.101 L111.478 537.036 L91.5706 537.036 L91.5706 533.101 Z\" fill=\"#000000\" fill-rule=\"nonzero\" fill-opacity=\"1\" /><path clip-path=\"url(#clip080)\" d=\"M120.922 531.156 L125.807 531.156 L125.807 537.036 L120.922 537.036 L120.922 531.156 Z\" fill=\"#000000\" fill-rule=\"nonzero\" fill-opacity=\"1\" /><path clip-path=\"url(#clip080)\" d=\"M145.992 505.555 Q142.381 505.555 140.552 509.119 Q138.746 512.661 138.746 519.791 Q138.746 526.897 140.552 530.462 Q142.381 534.004 145.992 534.004 Q149.626 534.004 151.431 530.462 Q153.26 526.897 153.26 519.791 Q153.26 512.661 151.431 509.119 Q149.626 505.555 145.992 505.555 M145.992 501.851 Q151.802 501.851 154.857 506.457 Q157.936 511.041 157.936 519.791 Q157.936 528.517 154.857 533.124 Q151.802 537.707 145.992 537.707 Q140.181 537.707 137.103 533.124 Q134.047 528.517 134.047 519.791 Q134.047 511.041 137.103 506.457 Q140.181 501.851 145.992 501.851 Z\" fill=\"#000000\" fill-rule=\"nonzero\" fill-opacity=\"1\" /><path clip-path=\"url(#clip080)\" d=\"M194.325 511.573 L183.746 522.198 L194.325 532.777 L191.57 535.578 L180.945 524.953 L170.32 535.578 L167.589 532.777 L178.144 522.198 L167.589 511.573 L170.32 508.772 L180.945 519.397 L191.57 508.772 L194.325 511.573 Z\" fill=\"#000000\" fill-rule=\"nonzero\" fill-opacity=\"1\" /><path clip-path=\"url(#clip080)\" d=\"M206.686 533.101 L214.325 533.101 L214.325 506.735 L206.014 508.402 L206.014 504.143 L214.278 502.476 L218.954 502.476 L218.954 533.101 L226.593 533.101 L226.593 537.036 L206.686 537.036 L206.686 533.101 Z\" fill=\"#000000\" fill-rule=\"nonzero\" fill-opacity=\"1\" /><path clip-path=\"url(#clip080)\" d=\"M246.037 505.555 Q242.426 505.555 240.598 509.119 Q238.792 512.661 238.792 519.791 Q238.792 526.897 240.598 530.462 Q242.426 534.004 246.037 534.004 Q249.672 534.004 251.477 530.462 Q253.306 526.897 253.306 519.791 Q253.306 512.661 251.477 509.119 Q249.672 505.555 246.037 505.555 M246.037 501.851 Q251.848 501.851 254.903 506.457 Q257.982 511.041 257.982 519.791 Q257.982 528.517 254.903 533.124 Q251.848 537.707 246.037 537.707 Q240.227 537.707 237.149 533.124 Q234.093 528.517 234.093 519.791 Q234.093 511.041 237.149 506.457 Q240.227 501.851 246.037 501.851 Z\" fill=\"#000000\" fill-rule=\"nonzero\" fill-opacity=\"1\" /><path clip-path=\"url(#clip080)\" d=\"M270.677 494.485 Q273.404 495.068 274.928 496.911 Q276.47 498.755 276.47 501.463 Q276.47 505.619 273.611 507.895 Q270.752 510.171 265.486 510.171 Q263.718 510.171 261.837 509.814 Q259.975 509.475 257.982 508.779 L257.982 505.112 Q259.562 506.033 261.442 506.503 Q263.323 506.974 265.373 506.974 Q268.947 506.974 270.809 505.563 Q272.689 504.152 272.689 501.463 Q272.689 498.98 270.94 497.589 Q269.21 496.178 266.107 496.178 L262.834 496.178 L262.834 493.056 L266.257 493.056 Q269.06 493.056 270.545 491.946 Q272.031 490.818 272.031 488.711 Q272.031 486.548 270.489 485.401 Q268.965 484.235 266.107 484.235 Q264.546 484.235 262.759 484.574 Q260.972 484.912 258.828 485.627 L258.828 482.241 Q260.991 481.64 262.872 481.339 Q264.771 481.038 266.445 481.038 Q270.771 481.038 273.291 483.013 Q275.812 484.969 275.812 488.316 Q275.812 490.648 274.476 492.266 Q273.141 493.865 270.677 494.485 Z\" fill=\"#000000\" fill-rule=\"nonzero\" fill-opacity=\"1\" /><path clip-path=\"url(#clip080)\" d=\"M291.798 484.047 Q288.864 484.047 287.378 486.943 Q285.911 489.821 285.911 495.614 Q285.911 501.388 287.378 504.284 Q288.864 507.162 291.798 507.162 Q294.751 507.162 296.218 504.284 Q297.704 501.388 297.704 495.614 Q297.704 489.821 296.218 486.943 Q294.751 484.047 291.798 484.047 M291.798 481.038 Q296.519 481.038 299.002 484.78 Q301.503 488.504 301.503 495.614 Q301.503 502.704 299.002 506.447 Q296.519 510.171 291.798 510.171 Q287.077 510.171 284.576 506.447 Q282.093 502.704 282.093 495.614 Q282.093 488.504 284.576 484.78 Q287.077 481.038 291.798 481.038 Z\" fill=\"#000000\" fill-rule=\"nonzero\" fill-opacity=\"1\" /><path clip-path=\"url(#clip080)\" d=\"M308.217 481.545 L323.132 481.545 L323.132 484.743 L311.697 484.743 L311.697 491.626 Q312.524 491.344 313.352 491.213 Q314.179 491.062 315.007 491.062 Q319.709 491.062 322.455 493.639 Q325.201 496.216 325.201 500.617 Q325.201 505.149 322.38 507.669 Q319.558 510.171 314.424 510.171 Q312.656 510.171 310.813 509.87 Q308.988 509.569 307.032 508.967 L307.032 505.149 Q308.725 506.071 310.531 506.522 Q312.336 506.974 314.349 506.974 Q317.602 506.974 319.502 505.262 Q321.402 503.551 321.402 500.617 Q321.402 497.683 319.502 495.971 Q317.602 494.26 314.349 494.26 Q312.825 494.26 311.302 494.598 Q309.797 494.937 308.217 495.651 L308.217 481.545 Z\" fill=\"#000000\" fill-rule=\"nonzero\" fill-opacity=\"1\" /><path clip-path=\"url(#clip080)\" d=\"M313.256 73.775 Q309.645 73.775 307.817 77.3398 Q306.011 80.8814 306.011 88.011 Q306.011 95.1174 307.817 98.6822 Q309.645 102.224 313.256 102.224 Q316.891 102.224 318.696 98.6822 Q320.525 95.1174 320.525 88.011 Q320.525 80.8814 318.696 77.3398 Q316.891 73.775 313.256 73.775 M313.256 70.0713 Q319.066 70.0713 322.122 74.6777 Q325.201 79.261 325.201 88.011 Q325.201 96.7378 322.122 101.344 Q319.066 105.928 313.256 105.928 Q307.446 105.928 304.368 101.344 Q301.312 96.7378 301.312 88.011 Q301.312 79.261 304.368 74.6777 Q307.446 70.0713 313.256 70.0713 Z\" fill=\"#000000\" fill-rule=\"nonzero\" fill-opacity=\"1\" /><polyline clip-path=\"url(#clip082)\" style=\"stroke:#009af9; stroke-linecap:round; stroke-linejoin:round; stroke-width:4; stroke-opacity:1; fill:none\" points=\"417.565,87.9763 417.941,87.9763 418.317,87.9763 418.693,87.9763 419.069,87.9763 419.444,87.9763 419.82,87.9763 420.196,87.9763 420.572,87.9763 420.947,87.9763 421.323,87.9763 421.699,87.9763 422.075,87.9763 422.45,87.9763 422.826,87.9763 423.202,87.9763 423.578,87.9763 423.954,87.9763 424.329,87.9763 424.705,87.9763 425.081,87.9763 425.457,87.9763 425.832,87.9763 426.208,87.9763 426.584,87.9763 426.96,87.9763 427.335,87.9763 427.711,87.9763 428.087,87.9763 428.463,87.9763 428.838,87.9763 429.214,87.9763 429.59,87.9763 429.966,87.9763 430.342,87.9763 430.717,87.9763 431.093,87.9763 431.469,87.9763 431.845,87.9763 432.22,87.9763 432.596,87.9763 432.972,87.9763 433.348,87.9763 433.723,87.9763 434.099,87.9763 434.475,87.9763 434.851,87.9763 435.226,87.9763 435.602,87.9763 435.978,87.9763 436.354,87.9763 436.73,87.9763 437.105,87.9763 437.481,87.9763 437.857,87.9763 438.233,87.9763 438.608,87.9763 438.984,87.9763 439.36,87.9763 439.736,87.9763 440.111,87.9763 440.487,87.9763 440.863,87.9763 441.239,87.9763 441.614,87.9763 441.99,88.0282 442.366,1445.72 \"/>\n",
       "<path clip-path=\"url(#clip080)\" d=\"M427.586 1438.47 L679.172 1438.47 L679.172 1334.79 L427.586 1334.79  Z\" fill=\"#ffffff\" fill-rule=\"evenodd\" fill-opacity=\"1\"/>\n",
       "<polyline clip-path=\"url(#clip080)\" style=\"stroke:#000000; stroke-linecap:round; stroke-linejoin:round; stroke-width:4; stroke-opacity:1; fill:none\" points=\"427.586,1438.47 679.172,1438.47 679.172,1334.79 427.586,1334.79 427.586,1438.47 \"/>\n",
       "<polyline clip-path=\"url(#clip080)\" style=\"stroke:#009af9; stroke-linecap:round; stroke-linejoin:round; stroke-width:4; stroke-opacity:1; fill:none\" points=\"449.714,1386.63 582.485,1386.63 \"/>\n",
       "<path clip-path=\"url(#clip080)\" d=\"M618.456 1406.32 Q616.65 1410.95 614.937 1412.36 Q613.224 1413.78 610.354 1413.78 L606.951 1413.78 L606.951 1410.21 L609.451 1410.21 Q611.21 1410.21 612.182 1409.38 Q613.155 1408.54 614.335 1405.44 L615.099 1403.5 L604.613 1377.99 L609.127 1377.99 L617.229 1398.27 L625.331 1377.99 L629.844 1377.99 L618.456 1406.32 Z\" fill=\"#000000\" fill-rule=\"nonzero\" fill-opacity=\"1\" /><path clip-path=\"url(#clip080)\" d=\"M637.136 1399.98 L644.775 1399.98 L644.775 1373.61 L636.465 1375.28 L636.465 1371.02 L644.729 1369.35 L649.404 1369.35 L649.404 1399.98 L657.043 1399.98 L657.043 1403.91 L637.136 1403.91 L637.136 1399.98 Z\" fill=\"#000000\" fill-rule=\"nonzero\" fill-opacity=\"1\" /></svg>\n"
      ],
      "text/html": [
       "<?xml version=\"1.0\" encoding=\"utf-8\"?>\n",
       "<svg xmlns=\"http://www.w3.org/2000/svg\" xmlns:xlink=\"http://www.w3.org/1999/xlink\" width=\"600\" height=\"400\" viewBox=\"0 0 2400 1600\">\n",
       "<defs>\n",
       "  <clipPath id=\"clip130\">\n",
       "    <rect x=\"0\" y=\"0\" width=\"2400\" height=\"1600\"/>\n",
       "  </clipPath>\n",
       "</defs>\n",
       "<path clip-path=\"url(#clip130)\" d=\"M0 1600 L2400 1600 L2400 0 L0 0  Z\" fill=\"#ffffff\" fill-rule=\"evenodd\" fill-opacity=\"1\"/>\n",
       "<defs>\n",
       "  <clipPath id=\"clip131\">\n",
       "    <rect x=\"480\" y=\"0\" width=\"1681\" height=\"1600\"/>\n",
       "  </clipPath>\n",
       "</defs>\n",
       "<path clip-path=\"url(#clip130)\" d=\"M361.201 1486.45 L2352.76 1486.45 L2352.76 47.2441 L361.201 47.2441  Z\" fill=\"#ffffff\" fill-rule=\"evenodd\" fill-opacity=\"1\"/>\n",
       "<defs>\n",
       "  <clipPath id=\"clip132\">\n",
       "    <rect x=\"361\" y=\"47\" width=\"1993\" height=\"1440\"/>\n",
       "  </clipPath>\n",
       "</defs>\n",
       "<polyline clip-path=\"url(#clip132)\" style=\"stroke:#000000; stroke-linecap:round; stroke-linejoin:round; stroke-width:2; stroke-opacity:0.1; fill:none\" points=\"417.565,1486.45 417.565,47.2441 \"/>\n",
       "<polyline clip-path=\"url(#clip132)\" style=\"stroke:#000000; stroke-linecap:round; stroke-linejoin:round; stroke-width:2; stroke-opacity:0.1; fill:none\" points=\"887.272,1486.45 887.272,47.2441 \"/>\n",
       "<polyline clip-path=\"url(#clip132)\" style=\"stroke:#000000; stroke-linecap:round; stroke-linejoin:round; stroke-width:2; stroke-opacity:0.1; fill:none\" points=\"1356.98,1486.45 1356.98,47.2441 \"/>\n",
       "<polyline clip-path=\"url(#clip132)\" style=\"stroke:#000000; stroke-linecap:round; stroke-linejoin:round; stroke-width:2; stroke-opacity:0.1; fill:none\" points=\"1826.68,1486.45 1826.68,47.2441 \"/>\n",
       "<polyline clip-path=\"url(#clip132)\" style=\"stroke:#000000; stroke-linecap:round; stroke-linejoin:round; stroke-width:2; stroke-opacity:0.1; fill:none\" points=\"2296.39,1486.45 2296.39,47.2441 \"/>\n",
       "<polyline clip-path=\"url(#clip130)\" style=\"stroke:#000000; stroke-linecap:round; stroke-linejoin:round; stroke-width:4; stroke-opacity:1; fill:none\" points=\"361.201,1486.45 2352.76,1486.45 \"/>\n",
       "<polyline clip-path=\"url(#clip130)\" style=\"stroke:#000000; stroke-linecap:round; stroke-linejoin:round; stroke-width:4; stroke-opacity:1; fill:none\" points=\"417.565,1486.45 417.565,1467.55 \"/>\n",
       "<polyline clip-path=\"url(#clip130)\" style=\"stroke:#000000; stroke-linecap:round; stroke-linejoin:round; stroke-width:4; stroke-opacity:1; fill:none\" points=\"887.272,1486.45 887.272,1467.55 \"/>\n",
       "<polyline clip-path=\"url(#clip130)\" style=\"stroke:#000000; stroke-linecap:round; stroke-linejoin:round; stroke-width:4; stroke-opacity:1; fill:none\" points=\"1356.98,1486.45 1356.98,1467.55 \"/>\n",
       "<polyline clip-path=\"url(#clip130)\" style=\"stroke:#000000; stroke-linecap:round; stroke-linejoin:round; stroke-width:4; stroke-opacity:1; fill:none\" points=\"1826.68,1486.45 1826.68,1467.55 \"/>\n",
       "<polyline clip-path=\"url(#clip130)\" style=\"stroke:#000000; stroke-linecap:round; stroke-linejoin:round; stroke-width:4; stroke-opacity:1; fill:none\" points=\"2296.39,1486.45 2296.39,1467.55 \"/>\n",
       "<path clip-path=\"url(#clip130)\" d=\"M364.788 1517.37 Q361.177 1517.37 359.348 1520.93 Q357.543 1524.47 357.543 1531.6 Q357.543 1538.71 359.348 1542.27 Q361.177 1545.82 364.788 1545.82 Q368.422 1545.82 370.228 1542.27 Q372.056 1538.71 372.056 1531.6 Q372.056 1524.47 370.228 1520.93 Q368.422 1517.37 364.788 1517.37 M364.788 1513.66 Q370.598 1513.66 373.654 1518.27 Q376.732 1522.85 376.732 1531.6 Q376.732 1540.33 373.654 1544.94 Q370.598 1549.52 364.788 1549.52 Q358.978 1549.52 355.899 1544.94 Q352.844 1540.33 352.844 1531.6 Q352.844 1522.85 355.899 1518.27 Q358.978 1513.66 364.788 1513.66 Z\" fill=\"#000000\" fill-rule=\"nonzero\" fill-opacity=\"1\" /><path clip-path=\"url(#clip130)\" d=\"M384.95 1542.97 L389.834 1542.97 L389.834 1548.85 L384.95 1548.85 L384.95 1542.97 Z\" fill=\"#000000\" fill-rule=\"nonzero\" fill-opacity=\"1\" /><path clip-path=\"url(#clip130)\" d=\"M410.019 1517.37 Q406.408 1517.37 404.579 1520.93 Q402.774 1524.47 402.774 1531.6 Q402.774 1538.71 404.579 1542.27 Q406.408 1545.82 410.019 1545.82 Q413.653 1545.82 415.459 1542.27 Q417.288 1538.71 417.288 1531.6 Q417.288 1524.47 415.459 1520.93 Q413.653 1517.37 410.019 1517.37 M410.019 1513.66 Q415.829 1513.66 418.885 1518.27 Q421.964 1522.85 421.964 1531.6 Q421.964 1540.33 418.885 1544.94 Q415.829 1549.52 410.019 1549.52 Q404.209 1549.52 401.13 1544.94 Q398.075 1540.33 398.075 1531.6 Q398.075 1522.85 401.13 1518.27 Q404.209 1513.66 410.019 1513.66 Z\" fill=\"#000000\" fill-rule=\"nonzero\" fill-opacity=\"1\" /><path clip-path=\"url(#clip130)\" d=\"M440.181 1517.37 Q436.57 1517.37 434.741 1520.93 Q432.936 1524.47 432.936 1531.6 Q432.936 1538.71 434.741 1542.27 Q436.57 1545.82 440.181 1545.82 Q443.815 1545.82 445.621 1542.27 Q447.45 1538.71 447.45 1531.6 Q447.45 1524.47 445.621 1520.93 Q443.815 1517.37 440.181 1517.37 M440.181 1513.66 Q445.991 1513.66 449.047 1518.27 Q452.125 1522.85 452.125 1531.6 Q452.125 1540.33 449.047 1544.94 Q445.991 1549.52 440.181 1549.52 Q434.371 1549.52 431.292 1544.94 Q428.237 1540.33 428.237 1531.6 Q428.237 1522.85 431.292 1518.27 Q434.371 1513.66 440.181 1513.66 Z\" fill=\"#000000\" fill-rule=\"nonzero\" fill-opacity=\"1\" /><path clip-path=\"url(#clip130)\" d=\"M470.343 1517.37 Q466.732 1517.37 464.903 1520.93 Q463.098 1524.47 463.098 1531.6 Q463.098 1538.71 464.903 1542.27 Q466.732 1545.82 470.343 1545.82 Q473.977 1545.82 475.783 1542.27 Q477.611 1538.71 477.611 1531.6 Q477.611 1524.47 475.783 1520.93 Q473.977 1517.37 470.343 1517.37 M470.343 1513.66 Q476.153 1513.66 479.209 1518.27 Q482.287 1522.85 482.287 1531.6 Q482.287 1540.33 479.209 1544.94 Q476.153 1549.52 470.343 1549.52 Q464.533 1549.52 461.454 1544.94 Q458.399 1540.33 458.399 1531.6 Q458.399 1522.85 461.454 1518.27 Q464.533 1513.66 470.343 1513.66 Z\" fill=\"#000000\" fill-rule=\"nonzero\" fill-opacity=\"1\" /><path clip-path=\"url(#clip130)\" d=\"M834.992 1517.37 Q831.381 1517.37 829.552 1520.93 Q827.747 1524.47 827.747 1531.6 Q827.747 1538.71 829.552 1542.27 Q831.381 1545.82 834.992 1545.82 Q838.626 1545.82 840.432 1542.27 Q842.261 1538.71 842.261 1531.6 Q842.261 1524.47 840.432 1520.93 Q838.626 1517.37 834.992 1517.37 M834.992 1513.66 Q840.802 1513.66 843.858 1518.27 Q846.936 1522.85 846.936 1531.6 Q846.936 1540.33 843.858 1544.94 Q840.802 1549.52 834.992 1549.52 Q829.182 1549.52 826.103 1544.94 Q823.048 1540.33 823.048 1531.6 Q823.048 1522.85 826.103 1518.27 Q829.182 1513.66 834.992 1513.66 Z\" fill=\"#000000\" fill-rule=\"nonzero\" fill-opacity=\"1\" /><path clip-path=\"url(#clip130)\" d=\"M855.154 1542.97 L860.038 1542.97 L860.038 1548.85 L855.154 1548.85 L855.154 1542.97 Z\" fill=\"#000000\" fill-rule=\"nonzero\" fill-opacity=\"1\" /><path clip-path=\"url(#clip130)\" d=\"M880.223 1517.37 Q876.612 1517.37 874.784 1520.93 Q872.978 1524.47 872.978 1531.6 Q872.978 1538.71 874.784 1542.27 Q876.612 1545.82 880.223 1545.82 Q883.858 1545.82 885.663 1542.27 Q887.492 1538.71 887.492 1531.6 Q887.492 1524.47 885.663 1520.93 Q883.858 1517.37 880.223 1517.37 M880.223 1513.66 Q886.033 1513.66 889.089 1518.27 Q892.168 1522.85 892.168 1531.6 Q892.168 1540.33 889.089 1544.94 Q886.033 1549.52 880.223 1549.52 Q874.413 1549.52 871.334 1544.94 Q868.279 1540.33 868.279 1531.6 Q868.279 1522.85 871.334 1518.27 Q874.413 1513.66 880.223 1513.66 Z\" fill=\"#000000\" fill-rule=\"nonzero\" fill-opacity=\"1\" /><path clip-path=\"url(#clip130)\" d=\"M904.413 1544.91 L920.732 1544.91 L920.732 1548.85 L898.788 1548.85 L898.788 1544.91 Q901.45 1542.16 906.033 1537.53 Q910.64 1532.88 911.82 1531.53 Q914.066 1529.01 914.945 1527.27 Q915.848 1525.51 915.848 1523.82 Q915.848 1521.07 913.904 1519.33 Q911.982 1517.6 908.881 1517.6 Q906.682 1517.6 904.228 1518.36 Q901.797 1519.13 899.02 1520.68 L899.02 1515.95 Q901.844 1514.82 904.297 1514.24 Q906.751 1513.66 908.788 1513.66 Q914.158 1513.66 917.353 1516.35 Q920.547 1519.03 920.547 1523.52 Q920.547 1525.65 919.737 1527.57 Q918.95 1529.47 916.844 1532.07 Q916.265 1532.74 913.163 1535.95 Q910.061 1539.15 904.413 1544.91 Z\" fill=\"#000000\" fill-rule=\"nonzero\" fill-opacity=\"1\" /><path clip-path=\"url(#clip130)\" d=\"M930.593 1514.29 L948.95 1514.29 L948.95 1518.22 L934.876 1518.22 L934.876 1526.7 Q935.894 1526.35 936.913 1526.19 Q937.931 1526 938.95 1526 Q944.737 1526 948.116 1529.17 Q951.496 1532.34 951.496 1537.76 Q951.496 1543.34 948.024 1546.44 Q944.552 1549.52 938.232 1549.52 Q936.056 1549.52 933.788 1549.15 Q931.543 1548.78 929.135 1548.04 L929.135 1543.34 Q931.218 1544.47 933.441 1545.03 Q935.663 1545.58 938.14 1545.58 Q942.144 1545.58 944.482 1543.48 Q946.82 1541.37 946.82 1537.76 Q946.82 1534.15 944.482 1532.04 Q942.144 1529.94 938.14 1529.94 Q936.265 1529.94 934.39 1530.35 Q932.538 1530.77 930.593 1531.65 L930.593 1514.29 Z\" fill=\"#000000\" fill-rule=\"nonzero\" fill-opacity=\"1\" /><path clip-path=\"url(#clip130)\" d=\"M1304.2 1517.37 Q1300.59 1517.37 1298.76 1520.93 Q1296.96 1524.47 1296.96 1531.6 Q1296.96 1538.71 1298.76 1542.27 Q1300.59 1545.82 1304.2 1545.82 Q1307.84 1545.82 1309.64 1542.27 Q1311.47 1538.71 1311.47 1531.6 Q1311.47 1524.47 1309.64 1520.93 Q1307.84 1517.37 1304.2 1517.37 M1304.2 1513.66 Q1310.01 1513.66 1313.07 1518.27 Q1316.15 1522.85 1316.15 1531.6 Q1316.15 1540.33 1313.07 1544.94 Q1310.01 1549.52 1304.2 1549.52 Q1298.39 1549.52 1295.31 1544.94 Q1292.26 1540.33 1292.26 1531.6 Q1292.26 1522.85 1295.31 1518.27 Q1298.39 1513.66 1304.2 1513.66 Z\" fill=\"#000000\" fill-rule=\"nonzero\" fill-opacity=\"1\" /><path clip-path=\"url(#clip130)\" d=\"M1324.36 1542.97 L1329.25 1542.97 L1329.25 1548.85 L1324.36 1548.85 L1324.36 1542.97 Z\" fill=\"#000000\" fill-rule=\"nonzero\" fill-opacity=\"1\" /><path clip-path=\"url(#clip130)\" d=\"M1349.43 1517.37 Q1345.82 1517.37 1343.99 1520.93 Q1342.19 1524.47 1342.19 1531.6 Q1342.19 1538.71 1343.99 1542.27 Q1345.82 1545.82 1349.43 1545.82 Q1353.07 1545.82 1354.87 1542.27 Q1356.7 1538.71 1356.7 1531.6 Q1356.7 1524.47 1354.87 1520.93 Q1353.07 1517.37 1349.43 1517.37 M1349.43 1513.66 Q1355.24 1513.66 1358.3 1518.27 Q1361.38 1522.85 1361.38 1531.6 Q1361.38 1540.33 1358.3 1544.94 Q1355.24 1549.52 1349.43 1549.52 Q1343.62 1549.52 1340.54 1544.94 Q1337.49 1540.33 1337.49 1531.6 Q1337.49 1522.85 1340.54 1518.27 Q1343.62 1513.66 1349.43 1513.66 Z\" fill=\"#000000\" fill-rule=\"nonzero\" fill-opacity=\"1\" /><path clip-path=\"url(#clip130)\" d=\"M1369.64 1514.29 L1388 1514.29 L1388 1518.22 L1373.92 1518.22 L1373.92 1526.7 Q1374.94 1526.35 1375.96 1526.19 Q1376.98 1526 1378 1526 Q1383.78 1526 1387.16 1529.17 Q1390.54 1532.34 1390.54 1537.76 Q1390.54 1543.34 1387.07 1546.44 Q1383.6 1549.52 1377.28 1549.52 Q1375.1 1549.52 1372.83 1549.15 Q1370.59 1548.78 1368.18 1548.04 L1368.18 1543.34 Q1370.27 1544.47 1372.49 1545.03 Q1374.71 1545.58 1377.19 1545.58 Q1381.19 1545.58 1383.53 1543.48 Q1385.87 1541.37 1385.87 1537.76 Q1385.87 1534.15 1383.53 1532.04 Q1381.19 1529.94 1377.19 1529.94 Q1375.31 1529.94 1373.44 1530.35 Q1371.58 1530.77 1369.64 1531.65 L1369.64 1514.29 Z\" fill=\"#000000\" fill-rule=\"nonzero\" fill-opacity=\"1\" /><path clip-path=\"url(#clip130)\" d=\"M1409.76 1517.37 Q1406.14 1517.37 1404.32 1520.93 Q1402.51 1524.47 1402.51 1531.6 Q1402.51 1538.71 1404.32 1542.27 Q1406.14 1545.82 1409.76 1545.82 Q1413.39 1545.82 1415.2 1542.27 Q1417.02 1538.71 1417.02 1531.6 Q1417.02 1524.47 1415.2 1520.93 Q1413.39 1517.37 1409.76 1517.37 M1409.76 1513.66 Q1415.57 1513.66 1418.62 1518.27 Q1421.7 1522.85 1421.7 1531.6 Q1421.7 1540.33 1418.62 1544.94 Q1415.57 1549.52 1409.76 1549.52 Q1403.95 1549.52 1400.87 1544.94 Q1397.81 1540.33 1397.81 1531.6 Q1397.81 1522.85 1400.87 1518.27 Q1403.95 1513.66 1409.76 1513.66 Z\" fill=\"#000000\" fill-rule=\"nonzero\" fill-opacity=\"1\" /><path clip-path=\"url(#clip130)\" d=\"M1774.4 1517.37 Q1770.79 1517.37 1768.97 1520.93 Q1767.16 1524.47 1767.16 1531.6 Q1767.16 1538.71 1768.97 1542.27 Q1770.79 1545.82 1774.4 1545.82 Q1778.04 1545.82 1779.84 1542.27 Q1781.67 1538.71 1781.67 1531.6 Q1781.67 1524.47 1779.84 1520.93 Q1778.04 1517.37 1774.4 1517.37 M1774.4 1513.66 Q1780.22 1513.66 1783.27 1518.27 Q1786.35 1522.85 1786.35 1531.6 Q1786.35 1540.33 1783.27 1544.94 Q1780.22 1549.52 1774.4 1549.52 Q1768.59 1549.52 1765.52 1544.94 Q1762.46 1540.33 1762.46 1531.6 Q1762.46 1522.85 1765.52 1518.27 Q1768.59 1513.66 1774.4 1513.66 Z\" fill=\"#000000\" fill-rule=\"nonzero\" fill-opacity=\"1\" /><path clip-path=\"url(#clip130)\" d=\"M1794.57 1542.97 L1799.45 1542.97 L1799.45 1548.85 L1794.57 1548.85 L1794.57 1542.97 Z\" fill=\"#000000\" fill-rule=\"nonzero\" fill-opacity=\"1\" /><path clip-path=\"url(#clip130)\" d=\"M1819.64 1517.37 Q1816.03 1517.37 1814.2 1520.93 Q1812.39 1524.47 1812.39 1531.6 Q1812.39 1538.71 1814.2 1542.27 Q1816.03 1545.82 1819.64 1545.82 Q1823.27 1545.82 1825.08 1542.27 Q1826.9 1538.71 1826.9 1531.6 Q1826.9 1524.47 1825.08 1520.93 Q1823.27 1517.37 1819.64 1517.37 M1819.64 1513.66 Q1825.45 1513.66 1828.5 1518.27 Q1831.58 1522.85 1831.58 1531.6 Q1831.58 1540.33 1828.5 1544.94 Q1825.45 1549.52 1819.64 1549.52 Q1813.83 1549.52 1810.75 1544.94 Q1807.69 1540.33 1807.69 1531.6 Q1807.69 1522.85 1810.75 1518.27 Q1813.83 1513.66 1819.64 1513.66 Z\" fill=\"#000000\" fill-rule=\"nonzero\" fill-opacity=\"1\" /><path clip-path=\"url(#clip130)\" d=\"M1838.62 1514.29 L1860.84 1514.29 L1860.84 1516.28 L1848.29 1548.85 L1843.41 1548.85 L1855.21 1518.22 L1838.62 1518.22 L1838.62 1514.29 Z\" fill=\"#000000\" fill-rule=\"nonzero\" fill-opacity=\"1\" /><path clip-path=\"url(#clip130)\" d=\"M1870.01 1514.29 L1888.36 1514.29 L1888.36 1518.22 L1874.29 1518.22 L1874.29 1526.7 Q1875.31 1526.35 1876.33 1526.19 Q1877.34 1526 1878.36 1526 Q1884.15 1526 1887.53 1529.17 Q1890.91 1532.34 1890.91 1537.76 Q1890.91 1543.34 1887.44 1546.44 Q1883.96 1549.52 1877.65 1549.52 Q1875.47 1549.52 1873.2 1549.15 Q1870.96 1548.78 1868.55 1548.04 L1868.55 1543.34 Q1870.63 1544.47 1872.85 1545.03 Q1875.08 1545.58 1877.55 1545.58 Q1881.56 1545.58 1883.9 1543.48 Q1886.23 1541.37 1886.23 1537.76 Q1886.23 1534.15 1883.9 1532.04 Q1881.56 1529.94 1877.55 1529.94 Q1875.68 1529.94 1873.8 1530.35 Q1871.95 1530.77 1870.01 1531.65 L1870.01 1514.29 Z\" fill=\"#000000\" fill-rule=\"nonzero\" fill-opacity=\"1\" /><path clip-path=\"url(#clip130)\" d=\"M2243.61 1517.37 Q2240 1517.37 2238.17 1520.93 Q2236.37 1524.47 2236.37 1531.6 Q2236.37 1538.71 2238.17 1542.27 Q2240 1545.82 2243.61 1545.82 Q2247.25 1545.82 2249.05 1542.27 Q2250.88 1538.71 2250.88 1531.6 Q2250.88 1524.47 2249.05 1520.93 Q2247.25 1517.37 2243.61 1517.37 M2243.61 1513.66 Q2249.42 1513.66 2252.48 1518.27 Q2255.56 1522.85 2255.56 1531.6 Q2255.56 1540.33 2252.48 1544.94 Q2249.42 1549.52 2243.61 1549.52 Q2237.8 1549.52 2234.72 1544.94 Q2231.67 1540.33 2231.67 1531.6 Q2231.67 1522.85 2234.72 1518.27 Q2237.8 1513.66 2243.61 1513.66 Z\" fill=\"#000000\" fill-rule=\"nonzero\" fill-opacity=\"1\" /><path clip-path=\"url(#clip130)\" d=\"M2263.78 1542.97 L2268.66 1542.97 L2268.66 1548.85 L2263.78 1548.85 L2263.78 1542.97 Z\" fill=\"#000000\" fill-rule=\"nonzero\" fill-opacity=\"1\" /><path clip-path=\"url(#clip130)\" d=\"M2279.66 1544.91 L2287.29 1544.91 L2287.29 1518.55 L2278.98 1520.21 L2278.98 1515.95 L2287.25 1514.29 L2291.92 1514.29 L2291.92 1544.91 L2299.56 1544.91 L2299.56 1548.85 L2279.66 1548.85 L2279.66 1544.91 Z\" fill=\"#000000\" fill-rule=\"nonzero\" fill-opacity=\"1\" /><path clip-path=\"url(#clip130)\" d=\"M2319.01 1517.37 Q2315.4 1517.37 2313.57 1520.93 Q2311.76 1524.47 2311.76 1531.6 Q2311.76 1538.71 2313.57 1542.27 Q2315.4 1545.82 2319.01 1545.82 Q2322.64 1545.82 2324.45 1542.27 Q2326.28 1538.71 2326.28 1531.6 Q2326.28 1524.47 2324.45 1520.93 Q2322.64 1517.37 2319.01 1517.37 M2319.01 1513.66 Q2324.82 1513.66 2327.87 1518.27 Q2330.95 1522.85 2330.95 1531.6 Q2330.95 1540.33 2327.87 1544.94 Q2324.82 1549.52 2319.01 1549.52 Q2313.2 1549.52 2310.12 1544.94 Q2307.06 1540.33 2307.06 1531.6 Q2307.06 1522.85 2310.12 1518.27 Q2313.2 1513.66 2319.01 1513.66 Z\" fill=\"#000000\" fill-rule=\"nonzero\" fill-opacity=\"1\" /><path clip-path=\"url(#clip130)\" d=\"M2349.17 1517.37 Q2345.56 1517.37 2343.73 1520.93 Q2341.92 1524.47 2341.92 1531.6 Q2341.92 1538.71 2343.73 1542.27 Q2345.56 1545.82 2349.17 1545.82 Q2352.8 1545.82 2354.61 1542.27 Q2356.44 1538.71 2356.44 1531.6 Q2356.44 1524.47 2354.61 1520.93 Q2352.8 1517.37 2349.17 1517.37 M2349.17 1513.66 Q2354.98 1513.66 2358.03 1518.27 Q2361.11 1522.85 2361.11 1531.6 Q2361.11 1540.33 2358.03 1544.94 Q2354.98 1549.52 2349.17 1549.52 Q2343.36 1549.52 2340.28 1544.94 Q2337.22 1540.33 2337.22 1531.6 Q2337.22 1522.85 2340.28 1518.27 Q2343.36 1513.66 2349.17 1513.66 Z\" fill=\"#000000\" fill-rule=\"nonzero\" fill-opacity=\"1\" /><polyline clip-path=\"url(#clip132)\" style=\"stroke:#000000; stroke-linecap:round; stroke-linejoin:round; stroke-width:2; stroke-opacity:0.1; fill:none\" points=\"361.201,1363.97 2352.76,1363.97 \"/>\n",
       "<polyline clip-path=\"url(#clip132)\" style=\"stroke:#000000; stroke-linecap:round; stroke-linejoin:round; stroke-width:2; stroke-opacity:0.1; fill:none\" points=\"361.201,938.64 2352.76,938.64 \"/>\n",
       "<polyline clip-path=\"url(#clip132)\" style=\"stroke:#000000; stroke-linecap:round; stroke-linejoin:round; stroke-width:2; stroke-opacity:0.1; fill:none\" points=\"361.201,513.308 2352.76,513.308 \"/>\n",
       "<polyline clip-path=\"url(#clip132)\" style=\"stroke:#000000; stroke-linecap:round; stroke-linejoin:round; stroke-width:2; stroke-opacity:0.1; fill:none\" points=\"361.201,87.9763 2352.76,87.9763 \"/>\n",
       "<polyline clip-path=\"url(#clip130)\" style=\"stroke:#000000; stroke-linecap:round; stroke-linejoin:round; stroke-width:4; stroke-opacity:1; fill:none\" points=\"361.201,1486.45 361.201,47.2441 \"/>\n",
       "<polyline clip-path=\"url(#clip130)\" style=\"stroke:#000000; stroke-linecap:round; stroke-linejoin:round; stroke-width:4; stroke-opacity:1; fill:none\" points=\"361.201,1363.97 380.098,1363.97 \"/>\n",
       "<polyline clip-path=\"url(#clip130)\" style=\"stroke:#000000; stroke-linecap:round; stroke-linejoin:round; stroke-width:4; stroke-opacity:1; fill:none\" points=\"361.201,938.64 380.098,938.64 \"/>\n",
       "<polyline clip-path=\"url(#clip130)\" style=\"stroke:#000000; stroke-linecap:round; stroke-linejoin:round; stroke-width:4; stroke-opacity:1; fill:none\" points=\"361.201,513.308 380.098,513.308 \"/>\n",
       "<polyline clip-path=\"url(#clip130)\" style=\"stroke:#000000; stroke-linecap:round; stroke-linejoin:round; stroke-width:4; stroke-opacity:1; fill:none\" points=\"361.201,87.9763 380.098,87.9763 \"/>\n",
       "<path clip-path=\"url(#clip130)\" d=\"M50.9921 1370.87 L80.6679 1370.87 L80.6679 1374.81 L50.9921 1374.81 L50.9921 1370.87 Z\" fill=\"#000000\" fill-rule=\"nonzero\" fill-opacity=\"1\" /><path clip-path=\"url(#clip130)\" d=\"M104.927 1369.07 Q108.283 1369.78 110.158 1372.05 Q112.057 1374.32 112.057 1377.65 Q112.057 1382.77 108.538 1385.57 Q105.02 1388.37 98.5382 1388.37 Q96.3623 1388.37 94.0475 1387.93 Q91.7558 1387.51 89.3021 1386.66 L89.3021 1382.14 Q91.2465 1383.28 93.5613 1383.86 Q95.8761 1384.44 98.3993 1384.44 Q102.797 1384.44 105.089 1382.7 Q107.404 1380.96 107.404 1377.65 Q107.404 1374.6 105.251 1372.89 Q103.121 1371.15 99.3021 1371.15 L95.2743 1371.15 L95.2743 1367.31 L99.4872 1367.31 Q102.936 1367.31 104.765 1365.94 Q106.594 1364.55 106.594 1361.96 Q106.594 1359.3 104.696 1357.89 Q102.821 1356.45 99.3021 1356.45 Q97.3808 1356.45 95.1817 1356.87 Q92.9826 1357.28 90.3438 1358.16 L90.3438 1354 Q93.0058 1353.26 95.3206 1352.89 Q97.6585 1352.51 99.7187 1352.51 Q105.043 1352.51 108.145 1354.95 Q111.246 1357.35 111.246 1361.47 Q111.246 1364.34 109.603 1366.33 Q107.959 1368.3 104.927 1369.07 Z\" fill=\"#000000\" fill-rule=\"nonzero\" fill-opacity=\"1\" /><path clip-path=\"url(#clip130)\" d=\"M120.922 1381.82 L125.807 1381.82 L125.807 1387.7 L120.922 1387.7 L120.922 1381.82 Z\" fill=\"#000000\" fill-rule=\"nonzero\" fill-opacity=\"1\" /><path clip-path=\"url(#clip130)\" d=\"M145.992 1356.22 Q142.381 1356.22 140.552 1359.78 Q138.746 1363.33 138.746 1370.45 Q138.746 1377.56 140.552 1381.13 Q142.381 1384.67 145.992 1384.67 Q149.626 1384.67 151.431 1381.13 Q153.26 1377.56 153.26 1370.45 Q153.26 1363.33 151.431 1359.78 Q149.626 1356.22 145.992 1356.22 M145.992 1352.51 Q151.802 1352.51 154.857 1357.12 Q157.936 1361.7 157.936 1370.45 Q157.936 1379.18 154.857 1383.79 Q151.802 1388.37 145.992 1388.37 Q140.181 1388.37 137.103 1383.79 Q134.047 1379.18 134.047 1370.45 Q134.047 1361.7 137.103 1357.12 Q140.181 1352.51 145.992 1352.51 Z\" fill=\"#000000\" fill-rule=\"nonzero\" fill-opacity=\"1\" /><path clip-path=\"url(#clip130)\" d=\"M194.325 1362.24 L183.746 1372.86 L194.325 1383.44 L191.57 1386.24 L180.945 1375.62 L170.32 1386.24 L167.589 1383.44 L178.144 1372.86 L167.589 1362.24 L170.32 1359.44 L180.945 1370.06 L191.57 1359.44 L194.325 1362.24 Z\" fill=\"#000000\" fill-rule=\"nonzero\" fill-opacity=\"1\" /><path clip-path=\"url(#clip130)\" d=\"M206.686 1383.76 L214.325 1383.76 L214.325 1357.4 L206.014 1359.07 L206.014 1354.81 L214.278 1353.14 L218.954 1353.14 L218.954 1383.76 L226.593 1383.76 L226.593 1387.7 L206.686 1387.7 L206.686 1383.76 Z\" fill=\"#000000\" fill-rule=\"nonzero\" fill-opacity=\"1\" /><path clip-path=\"url(#clip130)\" d=\"M246.037 1356.22 Q242.426 1356.22 240.598 1359.78 Q238.792 1363.33 238.792 1370.45 Q238.792 1377.56 240.598 1381.13 Q242.426 1384.67 246.037 1384.67 Q249.672 1384.67 251.477 1381.13 Q253.306 1377.56 253.306 1370.45 Q253.306 1363.33 251.477 1359.78 Q249.672 1356.22 246.037 1356.22 M246.037 1352.51 Q251.848 1352.51 254.903 1357.12 Q257.982 1361.7 257.982 1370.45 Q257.982 1379.18 254.903 1383.79 Q251.848 1388.37 246.037 1388.37 Q240.227 1388.37 237.149 1383.79 Q234.093 1379.18 234.093 1370.45 Q234.093 1361.7 237.149 1357.12 Q240.227 1352.51 246.037 1352.51 Z\" fill=\"#000000\" fill-rule=\"nonzero\" fill-opacity=\"1\" /><path clip-path=\"url(#clip130)\" d=\"M270.677 1345.15 Q273.404 1345.73 274.928 1347.58 Q276.47 1349.42 276.47 1352.13 Q276.47 1356.28 273.611 1358.56 Q270.752 1360.83 265.486 1360.83 Q263.718 1360.83 261.837 1360.48 Q259.975 1360.14 257.982 1359.44 L257.982 1355.78 Q259.562 1356.7 261.442 1357.17 Q263.323 1357.64 265.373 1357.64 Q268.947 1357.64 270.809 1356.23 Q272.689 1354.82 272.689 1352.13 Q272.689 1349.64 270.94 1348.25 Q269.21 1346.84 266.107 1346.84 L262.834 1346.84 L262.834 1343.72 L266.257 1343.72 Q269.06 1343.72 270.545 1342.61 Q272.031 1341.48 272.031 1339.38 Q272.031 1337.21 270.489 1336.07 Q268.965 1334.9 266.107 1334.9 Q264.546 1334.9 262.759 1335.24 Q260.972 1335.58 258.828 1336.29 L258.828 1332.91 Q260.991 1332.3 262.872 1332 Q264.771 1331.7 266.445 1331.7 Q270.771 1331.7 273.291 1333.68 Q275.812 1335.63 275.812 1338.98 Q275.812 1341.31 274.476 1342.93 Q273.141 1344.53 270.677 1345.15 Z\" fill=\"#000000\" fill-rule=\"nonzero\" fill-opacity=\"1\" /><path clip-path=\"url(#clip130)\" d=\"M291.798 1334.71 Q288.864 1334.71 287.378 1337.61 Q285.911 1340.48 285.911 1346.28 Q285.911 1352.05 287.378 1354.95 Q288.864 1357.83 291.798 1357.83 Q294.751 1357.83 296.218 1354.95 Q297.704 1352.05 297.704 1346.28 Q297.704 1340.48 296.218 1337.61 Q294.751 1334.71 291.798 1334.71 M291.798 1331.7 Q296.519 1331.7 299.002 1335.44 Q301.503 1339.17 301.503 1346.28 Q301.503 1353.37 299.002 1357.11 Q296.519 1360.83 291.798 1360.83 Q287.077 1360.83 284.576 1357.11 Q282.093 1353.37 282.093 1346.28 Q282.093 1339.17 284.576 1335.44 Q287.077 1331.7 291.798 1331.7 Z\" fill=\"#000000\" fill-rule=\"nonzero\" fill-opacity=\"1\" /><path clip-path=\"url(#clip130)\" d=\"M308.217 1332.21 L323.132 1332.21 L323.132 1335.41 L311.697 1335.41 L311.697 1342.29 Q312.524 1342.01 313.352 1341.88 Q314.179 1341.73 315.007 1341.73 Q319.709 1341.73 322.455 1344.3 Q325.201 1346.88 325.201 1351.28 Q325.201 1355.81 322.38 1358.33 Q319.558 1360.83 314.424 1360.83 Q312.656 1360.83 310.813 1360.53 Q308.988 1360.23 307.032 1359.63 L307.032 1355.81 Q308.725 1356.73 310.531 1357.19 Q312.336 1357.64 314.349 1357.64 Q317.602 1357.64 319.502 1355.93 Q321.402 1354.21 321.402 1351.28 Q321.402 1348.35 319.502 1346.64 Q317.602 1344.92 314.349 1344.92 Q312.825 1344.92 311.302 1345.26 Q309.797 1345.6 308.217 1346.32 L308.217 1332.21 Z\" fill=\"#000000\" fill-rule=\"nonzero\" fill-opacity=\"1\" /><path clip-path=\"url(#clip130)\" d=\"M50.9921 945.539 L80.6679 945.539 L80.6679 949.474 L50.9921 949.474 L50.9921 945.539 Z\" fill=\"#000000\" fill-rule=\"nonzero\" fill-opacity=\"1\" /><path clip-path=\"url(#clip130)\" d=\"M94.7882 958.433 L111.108 958.433 L111.108 962.368 L89.1632 962.368 L89.1632 958.433 Q91.8252 955.678 96.4085 951.049 Q101.015 946.396 102.196 945.053 Q104.441 942.53 105.321 940.794 Q106.223 939.035 106.223 937.345 Q106.223 934.59 104.279 932.854 Q102.358 931.118 99.2558 931.118 Q97.0567 931.118 94.603 931.882 Q92.1725 932.646 89.3947 934.197 L89.3947 929.475 Q92.2188 928.34 94.6724 927.762 Q97.1261 927.183 99.1632 927.183 Q104.534 927.183 107.728 929.868 Q110.922 932.553 110.922 937.044 Q110.922 939.174 110.112 941.095 Q109.325 942.993 107.219 945.586 Q106.64 946.257 103.538 949.474 Q100.436 952.669 94.7882 958.433 Z\" fill=\"#000000\" fill-rule=\"nonzero\" fill-opacity=\"1\" /><path clip-path=\"url(#clip130)\" d=\"M120.922 956.488 L125.807 956.488 L125.807 962.368 L120.922 962.368 L120.922 956.488 Z\" fill=\"#000000\" fill-rule=\"nonzero\" fill-opacity=\"1\" /><path clip-path=\"url(#clip130)\" d=\"M145.992 930.887 Q142.381 930.887 140.552 934.451 Q138.746 937.993 138.746 945.123 Q138.746 952.229 140.552 955.794 Q142.381 959.336 145.992 959.336 Q149.626 959.336 151.431 955.794 Q153.26 952.229 153.26 945.123 Q153.26 937.993 151.431 934.451 Q149.626 930.887 145.992 930.887 M145.992 927.183 Q151.802 927.183 154.857 931.789 Q157.936 936.373 157.936 945.123 Q157.936 953.849 154.857 958.456 Q151.802 963.039 145.992 963.039 Q140.181 963.039 137.103 958.456 Q134.047 953.849 134.047 945.123 Q134.047 936.373 137.103 931.789 Q140.181 927.183 145.992 927.183 Z\" fill=\"#000000\" fill-rule=\"nonzero\" fill-opacity=\"1\" /><path clip-path=\"url(#clip130)\" d=\"M194.325 936.905 L183.746 947.53 L194.325 958.109 L191.57 960.91 L180.945 950.285 L170.32 960.91 L167.589 958.109 L178.144 947.53 L167.589 936.905 L170.32 934.104 L180.945 944.729 L191.57 934.104 L194.325 936.905 Z\" fill=\"#000000\" fill-rule=\"nonzero\" fill-opacity=\"1\" /><path clip-path=\"url(#clip130)\" d=\"M206.686 958.433 L214.325 958.433 L214.325 932.067 L206.014 933.734 L206.014 929.475 L214.278 927.808 L218.954 927.808 L218.954 958.433 L226.593 958.433 L226.593 962.368 L206.686 962.368 L206.686 958.433 Z\" fill=\"#000000\" fill-rule=\"nonzero\" fill-opacity=\"1\" /><path clip-path=\"url(#clip130)\" d=\"M246.037 930.887 Q242.426 930.887 240.598 934.451 Q238.792 937.993 238.792 945.123 Q238.792 952.229 240.598 955.794 Q242.426 959.336 246.037 959.336 Q249.672 959.336 251.477 955.794 Q253.306 952.229 253.306 945.123 Q253.306 937.993 251.477 934.451 Q249.672 930.887 246.037 930.887 M246.037 927.183 Q251.848 927.183 254.903 931.789 Q257.982 936.373 257.982 945.123 Q257.982 953.849 254.903 958.456 Q251.848 963.039 246.037 963.039 Q240.227 963.039 237.149 958.456 Q234.093 953.849 234.093 945.123 Q234.093 936.373 237.149 931.789 Q240.227 927.183 246.037 927.183 Z\" fill=\"#000000\" fill-rule=\"nonzero\" fill-opacity=\"1\" /><path clip-path=\"url(#clip130)\" d=\"M270.677 919.817 Q273.404 920.4 274.928 922.243 Q276.47 924.087 276.47 926.795 Q276.47 930.951 273.611 933.227 Q270.752 935.503 265.486 935.503 Q263.718 935.503 261.837 935.146 Q259.975 934.807 257.982 934.111 L257.982 930.444 Q259.562 931.365 261.442 931.835 Q263.323 932.306 265.373 932.306 Q268.947 932.306 270.809 930.895 Q272.689 929.484 272.689 926.795 Q272.689 924.312 270.94 922.921 Q269.21 921.51 266.107 921.51 L262.834 921.51 L262.834 918.388 L266.257 918.388 Q269.06 918.388 270.545 917.278 Q272.031 916.15 272.031 914.043 Q272.031 911.88 270.489 910.733 Q268.965 909.567 266.107 909.567 Q264.546 909.567 262.759 909.906 Q260.972 910.244 258.828 910.959 L258.828 907.573 Q260.991 906.972 262.872 906.671 Q264.771 906.37 266.445 906.37 Q270.771 906.37 273.291 908.345 Q275.812 910.301 275.812 913.648 Q275.812 915.98 274.476 917.598 Q273.141 919.197 270.677 919.817 Z\" fill=\"#000000\" fill-rule=\"nonzero\" fill-opacity=\"1\" /><path clip-path=\"url(#clip130)\" d=\"M291.798 909.379 Q288.864 909.379 287.378 912.275 Q285.911 915.153 285.911 920.946 Q285.911 926.72 287.378 929.616 Q288.864 932.494 291.798 932.494 Q294.751 932.494 296.218 929.616 Q297.704 926.72 297.704 920.946 Q297.704 915.153 296.218 912.275 Q294.751 909.379 291.798 909.379 M291.798 906.37 Q296.519 906.37 299.002 910.112 Q301.503 913.836 301.503 920.946 Q301.503 928.036 299.002 931.779 Q296.519 935.503 291.798 935.503 Q287.077 935.503 284.576 931.779 Q282.093 928.036 282.093 920.946 Q282.093 913.836 284.576 910.112 Q287.077 906.37 291.798 906.37 Z\" fill=\"#000000\" fill-rule=\"nonzero\" fill-opacity=\"1\" /><path clip-path=\"url(#clip130)\" d=\"M308.217 906.878 L323.132 906.878 L323.132 910.075 L311.697 910.075 L311.697 916.958 Q312.524 916.676 313.352 916.545 Q314.179 916.394 315.007 916.394 Q319.709 916.394 322.455 918.971 Q325.201 921.548 325.201 925.949 Q325.201 930.481 322.38 933.002 Q319.558 935.503 314.424 935.503 Q312.656 935.503 310.813 935.202 Q308.988 934.901 307.032 934.299 L307.032 930.481 Q308.725 931.403 310.531 931.854 Q312.336 932.306 314.349 932.306 Q317.602 932.306 319.502 930.594 Q321.402 928.883 321.402 925.949 Q321.402 923.015 319.502 921.303 Q317.602 919.592 314.349 919.592 Q312.825 919.592 311.302 919.93 Q309.797 920.269 308.217 920.983 L308.217 906.878 Z\" fill=\"#000000\" fill-rule=\"nonzero\" fill-opacity=\"1\" /><path clip-path=\"url(#clip130)\" d=\"M50.9921 520.207 L80.6679 520.207 L80.6679 524.142 L50.9921 524.142 L50.9921 520.207 Z\" fill=\"#000000\" fill-rule=\"nonzero\" fill-opacity=\"1\" /><path clip-path=\"url(#clip130)\" d=\"M91.5706 533.101 L99.2095 533.101 L99.2095 506.735 L90.8993 508.402 L90.8993 504.143 L99.1632 502.476 L103.839 502.476 L103.839 533.101 L111.478 533.101 L111.478 537.036 L91.5706 537.036 L91.5706 533.101 Z\" fill=\"#000000\" fill-rule=\"nonzero\" fill-opacity=\"1\" /><path clip-path=\"url(#clip130)\" d=\"M120.922 531.156 L125.807 531.156 L125.807 537.036 L120.922 537.036 L120.922 531.156 Z\" fill=\"#000000\" fill-rule=\"nonzero\" fill-opacity=\"1\" /><path clip-path=\"url(#clip130)\" d=\"M145.992 505.555 Q142.381 505.555 140.552 509.119 Q138.746 512.661 138.746 519.791 Q138.746 526.897 140.552 530.462 Q142.381 534.004 145.992 534.004 Q149.626 534.004 151.431 530.462 Q153.26 526.897 153.26 519.791 Q153.26 512.661 151.431 509.119 Q149.626 505.555 145.992 505.555 M145.992 501.851 Q151.802 501.851 154.857 506.457 Q157.936 511.041 157.936 519.791 Q157.936 528.517 154.857 533.124 Q151.802 537.707 145.992 537.707 Q140.181 537.707 137.103 533.124 Q134.047 528.517 134.047 519.791 Q134.047 511.041 137.103 506.457 Q140.181 501.851 145.992 501.851 Z\" fill=\"#000000\" fill-rule=\"nonzero\" fill-opacity=\"1\" /><path clip-path=\"url(#clip130)\" d=\"M194.325 511.573 L183.746 522.198 L194.325 532.777 L191.57 535.578 L180.945 524.953 L170.32 535.578 L167.589 532.777 L178.144 522.198 L167.589 511.573 L170.32 508.772 L180.945 519.397 L191.57 508.772 L194.325 511.573 Z\" fill=\"#000000\" fill-rule=\"nonzero\" fill-opacity=\"1\" /><path clip-path=\"url(#clip130)\" d=\"M206.686 533.101 L214.325 533.101 L214.325 506.735 L206.014 508.402 L206.014 504.143 L214.278 502.476 L218.954 502.476 L218.954 533.101 L226.593 533.101 L226.593 537.036 L206.686 537.036 L206.686 533.101 Z\" fill=\"#000000\" fill-rule=\"nonzero\" fill-opacity=\"1\" /><path clip-path=\"url(#clip130)\" d=\"M246.037 505.555 Q242.426 505.555 240.598 509.119 Q238.792 512.661 238.792 519.791 Q238.792 526.897 240.598 530.462 Q242.426 534.004 246.037 534.004 Q249.672 534.004 251.477 530.462 Q253.306 526.897 253.306 519.791 Q253.306 512.661 251.477 509.119 Q249.672 505.555 246.037 505.555 M246.037 501.851 Q251.848 501.851 254.903 506.457 Q257.982 511.041 257.982 519.791 Q257.982 528.517 254.903 533.124 Q251.848 537.707 246.037 537.707 Q240.227 537.707 237.149 533.124 Q234.093 528.517 234.093 519.791 Q234.093 511.041 237.149 506.457 Q240.227 501.851 246.037 501.851 Z\" fill=\"#000000\" fill-rule=\"nonzero\" fill-opacity=\"1\" /><path clip-path=\"url(#clip130)\" d=\"M270.677 494.485 Q273.404 495.068 274.928 496.911 Q276.47 498.755 276.47 501.463 Q276.47 505.619 273.611 507.895 Q270.752 510.171 265.486 510.171 Q263.718 510.171 261.837 509.814 Q259.975 509.475 257.982 508.779 L257.982 505.112 Q259.562 506.033 261.442 506.503 Q263.323 506.974 265.373 506.974 Q268.947 506.974 270.809 505.563 Q272.689 504.152 272.689 501.463 Q272.689 498.98 270.94 497.589 Q269.21 496.178 266.107 496.178 L262.834 496.178 L262.834 493.056 L266.257 493.056 Q269.06 493.056 270.545 491.946 Q272.031 490.818 272.031 488.711 Q272.031 486.548 270.489 485.401 Q268.965 484.235 266.107 484.235 Q264.546 484.235 262.759 484.574 Q260.972 484.912 258.828 485.627 L258.828 482.241 Q260.991 481.64 262.872 481.339 Q264.771 481.038 266.445 481.038 Q270.771 481.038 273.291 483.013 Q275.812 484.969 275.812 488.316 Q275.812 490.648 274.476 492.266 Q273.141 493.865 270.677 494.485 Z\" fill=\"#000000\" fill-rule=\"nonzero\" fill-opacity=\"1\" /><path clip-path=\"url(#clip130)\" d=\"M291.798 484.047 Q288.864 484.047 287.378 486.943 Q285.911 489.821 285.911 495.614 Q285.911 501.388 287.378 504.284 Q288.864 507.162 291.798 507.162 Q294.751 507.162 296.218 504.284 Q297.704 501.388 297.704 495.614 Q297.704 489.821 296.218 486.943 Q294.751 484.047 291.798 484.047 M291.798 481.038 Q296.519 481.038 299.002 484.78 Q301.503 488.504 301.503 495.614 Q301.503 502.704 299.002 506.447 Q296.519 510.171 291.798 510.171 Q287.077 510.171 284.576 506.447 Q282.093 502.704 282.093 495.614 Q282.093 488.504 284.576 484.78 Q287.077 481.038 291.798 481.038 Z\" fill=\"#000000\" fill-rule=\"nonzero\" fill-opacity=\"1\" /><path clip-path=\"url(#clip130)\" d=\"M308.217 481.545 L323.132 481.545 L323.132 484.743 L311.697 484.743 L311.697 491.626 Q312.524 491.344 313.352 491.213 Q314.179 491.062 315.007 491.062 Q319.709 491.062 322.455 493.639 Q325.201 496.216 325.201 500.617 Q325.201 505.149 322.38 507.669 Q319.558 510.171 314.424 510.171 Q312.656 510.171 310.813 509.87 Q308.988 509.569 307.032 508.967 L307.032 505.149 Q308.725 506.071 310.531 506.522 Q312.336 506.974 314.349 506.974 Q317.602 506.974 319.502 505.262 Q321.402 503.551 321.402 500.617 Q321.402 497.683 319.502 495.971 Q317.602 494.26 314.349 494.26 Q312.825 494.26 311.302 494.598 Q309.797 494.937 308.217 495.651 L308.217 481.545 Z\" fill=\"#000000\" fill-rule=\"nonzero\" fill-opacity=\"1\" /><path clip-path=\"url(#clip130)\" d=\"M313.256 73.775 Q309.645 73.775 307.817 77.3398 Q306.011 80.8814 306.011 88.011 Q306.011 95.1174 307.817 98.6822 Q309.645 102.224 313.256 102.224 Q316.891 102.224 318.696 98.6822 Q320.525 95.1174 320.525 88.011 Q320.525 80.8814 318.696 77.3398 Q316.891 73.775 313.256 73.775 M313.256 70.0713 Q319.066 70.0713 322.122 74.6777 Q325.201 79.261 325.201 88.011 Q325.201 96.7378 322.122 101.344 Q319.066 105.928 313.256 105.928 Q307.446 105.928 304.368 101.344 Q301.312 96.7378 301.312 88.011 Q301.312 79.261 304.368 74.6777 Q307.446 70.0713 313.256 70.0713 Z\" fill=\"#000000\" fill-rule=\"nonzero\" fill-opacity=\"1\" /><polyline clip-path=\"url(#clip132)\" style=\"stroke:#009af9; stroke-linecap:round; stroke-linejoin:round; stroke-width:4; stroke-opacity:1; fill:none\" points=\"417.565,87.9763 417.941,87.9763 418.317,87.9763 418.693,87.9763 419.069,87.9763 419.444,87.9763 419.82,87.9763 420.196,87.9763 420.572,87.9763 420.947,87.9763 421.323,87.9763 421.699,87.9763 422.075,87.9763 422.45,87.9763 422.826,87.9763 423.202,87.9763 423.578,87.9763 423.954,87.9763 424.329,87.9763 424.705,87.9763 425.081,87.9763 425.457,87.9763 425.832,87.9763 426.208,87.9763 426.584,87.9763 426.96,87.9763 427.335,87.9763 427.711,87.9763 428.087,87.9763 428.463,87.9763 428.838,87.9763 429.214,87.9763 429.59,87.9763 429.966,87.9763 430.342,87.9763 430.717,87.9763 431.093,87.9763 431.469,87.9763 431.845,87.9763 432.22,87.9763 432.596,87.9763 432.972,87.9763 433.348,87.9763 433.723,87.9763 434.099,87.9763 434.475,87.9763 434.851,87.9763 435.226,87.9763 435.602,87.9763 435.978,87.9763 436.354,87.9763 436.73,87.9763 437.105,87.9763 437.481,87.9763 437.857,87.9763 438.233,87.9763 438.608,87.9763 438.984,87.9763 439.36,87.9763 439.736,87.9763 440.111,87.9763 440.487,87.9763 440.863,87.9763 441.239,87.9763 441.614,87.9763 441.99,88.0282 442.366,1445.72 \"/>\n",
       "<path clip-path=\"url(#clip130)\" d=\"M427.586 1438.47 L679.172 1438.47 L679.172 1334.79 L427.586 1334.79  Z\" fill=\"#ffffff\" fill-rule=\"evenodd\" fill-opacity=\"1\"/>\n",
       "<polyline clip-path=\"url(#clip130)\" style=\"stroke:#000000; stroke-linecap:round; stroke-linejoin:round; stroke-width:4; stroke-opacity:1; fill:none\" points=\"427.586,1438.47 679.172,1438.47 679.172,1334.79 427.586,1334.79 427.586,1438.47 \"/>\n",
       "<polyline clip-path=\"url(#clip130)\" style=\"stroke:#009af9; stroke-linecap:round; stroke-linejoin:round; stroke-width:4; stroke-opacity:1; fill:none\" points=\"449.714,1386.63 582.485,1386.63 \"/>\n",
       "<path clip-path=\"url(#clip130)\" d=\"M618.456 1406.32 Q616.65 1410.95 614.937 1412.36 Q613.224 1413.78 610.354 1413.78 L606.951 1413.78 L606.951 1410.21 L609.451 1410.21 Q611.21 1410.21 612.182 1409.38 Q613.155 1408.54 614.335 1405.44 L615.099 1403.5 L604.613 1377.99 L609.127 1377.99 L617.229 1398.27 L625.331 1377.99 L629.844 1377.99 L618.456 1406.32 Z\" fill=\"#000000\" fill-rule=\"nonzero\" fill-opacity=\"1\" /><path clip-path=\"url(#clip130)\" d=\"M637.136 1399.98 L644.775 1399.98 L644.775 1373.61 L636.465 1375.28 L636.465 1371.02 L644.729 1369.35 L649.404 1369.35 L649.404 1399.98 L657.043 1399.98 L657.043 1403.91 L637.136 1403.91 L637.136 1399.98 Z\" fill=\"#000000\" fill-rule=\"nonzero\" fill-opacity=\"1\" /></svg>\n"
      ]
     },
     "metadata": {},
     "output_type": "display_data"
    }
   ],
   "source": [
    "using Plots\n",
    "\n",
    "y_true = y0 .+ y\n",
    "\n",
    "plot(t, y_true')"
   ]
  },
  {
   "cell_type": "code",
   "execution_count": 72,
   "metadata": {},
   "outputs": [
    {
     "data": {
      "text/plain": [
       "1×5001 Matrix{Float64}:\n",
       " 19.5698  -6747.27  -1.67758e10  …  NaN  NaN  NaN  NaN  NaN  NaN  NaN"
      ]
     },
     "metadata": {},
     "output_type": "display_data"
    }
   ],
   "source": [
    "y .+ y0"
   ]
  }
 ],
 "metadata": {
  "kernelspec": {
   "display_name": "Julia 1.10.2",
   "language": "julia",
   "name": "julia-1.10"
  },
  "language_info": {
   "file_extension": ".jl",
   "mimetype": "application/julia",
   "name": "julia",
   "version": "1.10.2"
  }
 },
 "nbformat": 4,
 "nbformat_minor": 2
}
