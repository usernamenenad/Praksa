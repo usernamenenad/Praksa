{
 "cells": [
  {
   "cell_type": "code",
   "execution_count": 1,
   "metadata": {},
   "outputs": [],
   "source": [
    "import sympy as sp"
   ]
  },
  {
   "cell_type": "code",
   "execution_count": 2,
   "metadata": {},
   "outputs": [],
   "source": [
    "Vin = sp.symbols(\"V_in\")\n",
    "L = sp.symbols(\"L\")\n",
    "C = sp.symbols(\"C\")\n",
    "RL = sp.symbols(\"R_L\")\n",
    "Vout = sp.symbols(\"V_out\")\n",
    "Iout = sp.symbols(\"I_out\")\n",
    "D0 = sp.symbols(\"D_0\")"
   ]
  },
  {
   "cell_type": "code",
   "execution_count": 3,
   "metadata": {},
   "outputs": [
    {
     "data": {
      "text/latex": [
       "$\\displaystyle \\left[\\begin{matrix}- \\frac{R_{L}}{L} & 0\\\\0 & 0\\end{matrix}\\right]$"
      ],
      "text/plain": [
       "Matrix([\n",
       "[-R_L/L, 0],\n",
       "[     0, 0]])"
      ]
     },
     "execution_count": 3,
     "metadata": {},
     "output_type": "execute_result"
    }
   ],
   "source": [
    "A1 = sp.Matrix([[-RL / L, 0], [0, 0]])\n",
    "A1"
   ]
  },
  {
   "cell_type": "code",
   "execution_count": 4,
   "metadata": {},
   "outputs": [
    {
     "data": {
      "text/latex": [
       "$\\displaystyle \\left[\\begin{matrix}- \\frac{R_{L}}{L} & \\frac{1}{L}\\\\- \\frac{1}{C} & 0\\end{matrix}\\right]$"
      ],
      "text/plain": [
       "Matrix([\n",
       "[-R_L/L, 1/L],\n",
       "[  -1/C,   0]])"
      ]
     },
     "execution_count": 4,
     "metadata": {},
     "output_type": "execute_result"
    }
   ],
   "source": [
    "A2 = sp.Matrix([[-RL / L, 1 / L], [-1 / C, 0]])\n",
    "A2"
   ]
  },
  {
   "cell_type": "code",
   "execution_count": 5,
   "metadata": {},
   "outputs": [
    {
     "data": {
      "text/latex": [
       "$\\displaystyle \\left[\\begin{matrix}0 & \\frac{1}{L}\\\\\\frac{1}{C} & 0\\end{matrix}\\right]$"
      ],
      "text/plain": [
       "Matrix([\n",
       "[  0, 1/L],\n",
       "[1/C,   0]])"
      ]
     },
     "execution_count": 5,
     "metadata": {},
     "output_type": "execute_result"
    }
   ],
   "source": [
    "B1 = sp.Matrix([[0, 1 / L], [1 / C, 0]])\n",
    "B1"
   ]
  },
  {
   "cell_type": "code",
   "execution_count": 6,
   "metadata": {},
   "outputs": [
    {
     "data": {
      "text/latex": [
       "$\\displaystyle \\left[\\begin{matrix}0 & 0\\\\\\frac{1}{C} & 0\\end{matrix}\\right]$"
      ],
      "text/plain": [
       "Matrix([\n",
       "[  0, 0],\n",
       "[1/C, 0]])"
      ]
     },
     "execution_count": 6,
     "metadata": {},
     "output_type": "execute_result"
    }
   ],
   "source": [
    "B2 = sp.Matrix([[0, 0], [1 / C, 0]])\n",
    "B2"
   ]
  },
  {
   "cell_type": "code",
   "execution_count": 7,
   "metadata": {},
   "outputs": [
    {
     "data": {
      "text/latex": [
       "$\\displaystyle \\left[\\begin{matrix}1 & 0\\\\0 & -1\\end{matrix}\\right]$"
      ],
      "text/plain": [
       "Matrix([\n",
       "[1,  0],\n",
       "[0, -1]])"
      ]
     },
     "execution_count": 7,
     "metadata": {},
     "output_type": "execute_result"
    }
   ],
   "source": [
    "C1 = C2 = sp.Matrix([[1, 0], [0, -1]])\n",
    "C1"
   ]
  },
  {
   "cell_type": "code",
   "execution_count": 8,
   "metadata": {},
   "outputs": [
    {
     "data": {
      "text/latex": [
       "$\\displaystyle \\left[\\begin{matrix}0 & 0\\\\0 & 0\\end{matrix}\\right]$"
      ],
      "text/plain": [
       "Matrix([\n",
       "[0, 0],\n",
       "[0, 0]])"
      ]
     },
     "execution_count": 8,
     "metadata": {},
     "output_type": "execute_result"
    }
   ],
   "source": [
    "D1 = D2 = sp.Matrix([[0, 0], [0, 0]])\n",
    "D1"
   ]
  },
  {
   "cell_type": "code",
   "execution_count": 9,
   "metadata": {},
   "outputs": [
    {
     "data": {
      "text/latex": [
       "$\\displaystyle \\left[\\begin{matrix}- \\frac{R_{L}}{L} & \\frac{1 - D_{0}}{L}\\\\\\frac{D_{0} - 1}{C} & 0\\end{matrix}\\right]$"
      ],
      "text/plain": [
       "Matrix([\n",
       "[     -R_L/L, (1 - D_0)/L],\n",
       "[(D_0 - 1)/C,           0]])"
      ]
     },
     "execution_count": 9,
     "metadata": {},
     "output_type": "execute_result"
    }
   ],
   "source": [
    "A = sp.simplify(A1 * D0 + A2 * (1 - D0))\n",
    "A"
   ]
  },
  {
   "cell_type": "code",
   "execution_count": 10,
   "metadata": {},
   "outputs": [
    {
     "data": {
      "text/latex": [
       "$\\displaystyle \\left[\\begin{matrix}0 & \\frac{D_{0}}{L}\\\\\\frac{1}{C} & 0\\end{matrix}\\right]$"
      ],
      "text/plain": [
       "Matrix([\n",
       "[  0, D_0/L],\n",
       "[1/C,     0]])"
      ]
     },
     "execution_count": 10,
     "metadata": {},
     "output_type": "execute_result"
    }
   ],
   "source": [
    "B = sp.simplify(B1 * D0 + B2 * (1 - D0))\n",
    "B"
   ]
  },
  {
   "cell_type": "code",
   "execution_count": 11,
   "metadata": {},
   "outputs": [
    {
     "data": {
      "text/latex": [
       "$\\displaystyle \\left[\\begin{matrix}1 & 0\\\\0 & -1\\end{matrix}\\right]$"
      ],
      "text/plain": [
       "Matrix([\n",
       "[1,  0],\n",
       "[0, -1]])"
      ]
     },
     "execution_count": 11,
     "metadata": {},
     "output_type": "execute_result"
    }
   ],
   "source": [
    "C = sp.simplify(C1 * D0 + C2 * (1 - D0))\n",
    "C"
   ]
  },
  {
   "cell_type": "code",
   "execution_count": 12,
   "metadata": {},
   "outputs": [
    {
     "data": {
      "text/latex": [
       "$\\displaystyle \\left[\\begin{matrix}0 & 0\\\\0 & 0\\end{matrix}\\right]$"
      ],
      "text/plain": [
       "Matrix([\n",
       "[0, 0],\n",
       "[0, 0]])"
      ]
     },
     "execution_count": 12,
     "metadata": {},
     "output_type": "execute_result"
    }
   ],
   "source": [
    "D = sp.simplify(D1 * D0 + D2 * (1 - D0))\n",
    "D"
   ]
  },
  {
   "cell_type": "code",
   "execution_count": 13,
   "metadata": {},
   "outputs": [
    {
     "data": {
      "text/latex": [
       "$\\displaystyle \\left[\\begin{matrix}- \\frac{I_{out}}{D_{0} - 1}\\\\\\frac{D_{0}^{2} V_{in} - D_{0} V_{in} + I_{out} R_{L}}{D_{0}^{2} - 2 D_{0} + 1}\\end{matrix}\\right]$"
      ],
      "text/plain": [
       "Matrix([\n",
       "[                                         -I_out/(D_0 - 1)],\n",
       "[(D_0**2*V_in - D_0*V_in + I_out*R_L)/(D_0**2 - 2*D_0 + 1)]])"
      ]
     },
     "execution_count": 13,
     "metadata": {},
     "output_type": "execute_result"
    }
   ],
   "source": [
    "u0 = sp.Matrix([[Iout], [Vin]])\n",
    "x0 = sp.simplify(-A.inv() * B * u0)\n",
    "x0"
   ]
  },
  {
   "cell_type": "code",
   "execution_count": 14,
   "metadata": {},
   "outputs": [
    {
     "data": {
      "text/latex": [
       "$\\displaystyle \\left[\\begin{matrix}\\frac{- D_{0} V_{in} - I_{out} R_{L} + V_{in}}{L \\left(D_{0}^{2} - 2 D_{0} + 1\\right)}\\\\- \\frac{I_{out}}{C \\left(D_{0} - 1\\right)}\\end{matrix}\\right]$"
      ],
      "text/plain": [
       "Matrix([\n",
       "[(-D_0*V_in - I_out*R_L + V_in)/(L*(D_0**2 - 2*D_0 + 1))],\n",
       "[                                   -I_out/(C*(D_0 - 1))]])"
      ]
     },
     "execution_count": 14,
     "metadata": {},
     "output_type": "execute_result"
    }
   ],
   "source": [
    "E = sp.simplify((A1 - A2) * x0 + (B1 - B2) * u0)\n",
    "E"
   ]
  },
  {
   "cell_type": "code",
   "execution_count": 15,
   "metadata": {},
   "outputs": [
    {
     "data": {
      "text/latex": [
       "$\\displaystyle \\left[\\begin{matrix}0\\\\0\\end{matrix}\\right]$"
      ],
      "text/plain": [
       "Matrix([\n",
       "[0],\n",
       "[0]])"
      ]
     },
     "execution_count": 15,
     "metadata": {},
     "output_type": "execute_result"
    }
   ],
   "source": [
    "F = sp.simplify((C1 - C2) * x0 + (D1 - D2) * u0)\n",
    "F"
   ]
  },
  {
   "cell_type": "code",
   "execution_count": 16,
   "metadata": {},
   "outputs": [
    {
     "data": {
      "text/latex": [
       "$\\displaystyle \\left[\\begin{matrix}0 & \\frac{D_{0}}{L} & \\frac{- D_{0} V_{in} - I_{out} R_{L} + V_{in}}{L \\left(D_{0}^{2} - 2 D_{0} + 1\\right)}\\\\\\frac{1}{C} & 0 & - \\frac{I_{out}}{C \\left(D_{0} - 1\\right)}\\end{matrix}\\right]$"
      ],
      "text/plain": [
       "Matrix([\n",
       "[  0, D_0/L, (-D_0*V_in - I_out*R_L + V_in)/(L*(D_0**2 - 2*D_0 + 1))],\n",
       "[1/C,     0,                                    -I_out/(C*(D_0 - 1))]])"
      ]
     },
     "execution_count": 16,
     "metadata": {},
     "output_type": "execute_result"
    }
   ],
   "source": [
    "new_B = sp.Matrix([[B, E]])\n",
    "new_B"
   ]
  },
  {
   "cell_type": "code",
   "execution_count": 17,
   "metadata": {},
   "outputs": [
    {
     "data": {
      "text/latex": [
       "$\\displaystyle \\left[\\begin{matrix}0 & 0 & 0\\\\0 & 0 & 0\\end{matrix}\\right]$"
      ],
      "text/plain": [
       "Matrix([\n",
       "[0, 0, 0],\n",
       "[0, 0, 0]])"
      ]
     },
     "execution_count": 17,
     "metadata": {},
     "output_type": "execute_result"
    }
   ],
   "source": [
    "new_D = sp.Matrix([[D, F]])\n",
    "new_D"
   ]
  },
  {
   "cell_type": "code",
   "execution_count": 18,
   "metadata": {},
   "outputs": [
    {
     "data": {
      "text/latex": [
       "$\\displaystyle \\left[\\begin{matrix}\\frac{D_{0} \\left(D_{0} V_{in} + I_{out} R_{L} - V_{in}\\right)}{2 L f_{sw} \\left(D_{0} - 1\\right)}\\\\\\frac{D_{0} I_{out}}{2 C f_{sw}}\\end{matrix}\\right]$"
      ],
      "text/plain": [
       "Matrix([\n",
       "[D_0*(D_0*V_in + I_out*R_L - V_in)/(2*L*f_sw*(D_0 - 1))],\n",
       "[                                  D_0*I_out/(2*C*f_sw)]])"
      ]
     },
     "execution_count": 18,
     "metadata": {},
     "output_type": "execute_result"
    }
   ],
   "source": [
    "fsw = sp.symbols(\"f_sw\")\n",
    "deltaX0 = sp.simplify(\n",
    "    ((A1 * D0 - A2 * (1 - D0)) * x0 + (B1 * D0 - B2 * (1 - D0)) * u0) / (4 * fsw)\n",
    ")\n",
    "deltaX0"
   ]
  },
  {
   "cell_type": "code",
   "execution_count": 19,
   "metadata": {},
   "outputs": [
    {
     "data": {
      "text/latex": [
       "$\\displaystyle \\frac{\\left(k_{i} + k_{p} s\\right) \\left(a_{1} s + a_{2}\\right)}{s \\left(b_{1} + s\\right) + \\left(k_{i} + k_{p} s\\right) \\left(a_{1} s + a_{2}\\right)}$"
      ],
      "text/plain": [
       "(k_i + k_p*s)*(a_1*s + a_2)/(s*(b_1 + s) + (k_i + k_p*s)*(a_1*s + a_2))"
      ]
     },
     "execution_count": 19,
     "metadata": {},
     "output_type": "execute_result"
    }
   ],
   "source": [
    "a1 = sp.symbols(\"a_1\")\n",
    "a2 = sp.symbols(\"a_2\")\n",
    "b1 = sp.symbols(\"b_1\")\n",
    "K = sp.symbols(\"K\")\n",
    "p = sp.symbols(\"p\")\n",
    "kp = sp.symbols(\"k_p\")\n",
    "ki = sp.symbols(\"k_i\")\n",
    "s = sp.symbols(\"s\")\n",
    "\n",
    "Plant = (a1 * s + a2) / (s + b1)\n",
    "PID = kp\n",
    "Feedback = sp.simplify(PID * Plant / (1 + PID * Plant))\n",
    "Feedback"
   ]
  }
 ],
 "metadata": {
  "kernelspec": {
   "display_name": "Python 3",
   "language": "python",
   "name": "python3"
  },
  "language_info": {
   "codemirror_mode": {
    "name": "ipython",
    "version": 3
   },
   "file_extension": ".py",
   "mimetype": "text/x-python",
   "name": "python",
   "nbconvert_exporter": "python",
   "pygments_lexer": "ipython3",
   "version": "3.12.3"
  }
 },
 "nbformat": 4,
 "nbformat_minor": 2
}
