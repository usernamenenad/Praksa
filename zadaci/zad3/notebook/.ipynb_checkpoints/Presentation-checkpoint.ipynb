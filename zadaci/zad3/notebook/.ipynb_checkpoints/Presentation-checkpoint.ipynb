{
 "cells": [
  {
   "cell_type": "markdown",
   "id": "cc8de1d8-48cd-48b2-9ae5-37cdce1eb5f0",
   "metadata": {},
   "source": [
    "# Buck-boost converter"
   ]
  },
  {
   "cell_type": "markdown",
   "id": "d619a94a-9cc8-49fd-a440-cd4ea55bf665",
   "metadata": {},
   "source": [
    "This Jupyter Notebook represents symbolic calculations for buck-boost converter modeling. We'll use **sympy** package."
   ]
  },
  {
   "cell_type": "code",
   "execution_count": 1,
   "id": "3eb6179e-0c78-445c-bb78-86e525863e9a",
   "metadata": {},
   "outputs": [],
   "source": [
    "import sympy as sp"
   ]
  },
  {
   "cell_type": "markdown",
   "id": "5607db2e-d810-43ea-8499-667439c21fe4",
   "metadata": {},
   "source": [
    "Firstly, we need to define some symbolic variables that we'll use."
   ]
  },
  {
   "cell_type": "code",
   "execution_count": 2,
   "id": "779e3824-62e8-4623-ac29-2b48eff75ac3",
   "metadata": {},
   "outputs": [],
   "source": [
    "Vin = sp.symbols(\"V_in\")\n",
    "L = sp.symbols(\"L\")\n",
    "Cout = sp.symbols(\"C_out\")\n",
    "RL = sp.symbols(\"R_L\")\n",
    "R = sp.symbols(\"R\")\n",
    "\n",
    "IL = sp.symbols(\"I_L\")\n",
    "VCout = sp.symbols(\"V_Cout\")\n",
    "Vout = sp.symbols(\"V_out\")\n",
    "D0 = sp.symbols(\"D_0\")\n",
    "fsw = sp.symbols(\"fsw\")"
   ]
  },
  {
   "cell_type": "markdown",
   "id": "b667f832-b4f2-47c3-b032-8696921861e7",
   "metadata": {},
   "source": [
    "Now, as it always is with switching converters, we'll look at the system when the swtich is on, and when the switch is off."
   ]
  },
  {
   "cell_type": "markdown",
   "id": "b952ca1c-9db3-4ce8-af64-5ab5e543357c",
   "metadata": {},
   "source": [
    "#### Case when the switch is on"
   ]
  },
  {
   "cell_type": "markdown",
   "id": "c46ae2e0-955a-465b-bc57-920f2d2e1c78",
   "metadata": {},
   "source": [
    "When the switch is **on**, diode **does not conduct**. This means that the inductor **stores** the energy coming from input source, and the capacitor **feeds** the output source. State space matrices for the time interval $kT_{S} \\leq t < (k + d_{k})T_{S}$ are given below."
   ]
  },
  {
   "cell_type": "code",
   "execution_count": 3,
   "id": "12fad024-1fdb-4449-a88f-256ac39be8e6",
   "metadata": {},
   "outputs": [
    {
     "data": {
      "text/latex": [
       "$\\displaystyle \\left[\\begin{matrix}- \\frac{R_{L}}{L} & 0\\\\0 & - \\frac{1}{C_{out} R}\\end{matrix}\\right]$"
      ],
      "text/plain": [
       "Matrix([\n",
       "[-R_L/L,            0],\n",
       "[     0, -1/(C_out*R)]])"
      ]
     },
     "execution_count": 3,
     "metadata": {},
     "output_type": "execute_result"
    }
   ],
   "source": [
    "A1 = sp.Matrix([[-RL/L, 0], [0, -1/(R * Cout)]])\n",
    "A1"
   ]
  },
  {
   "cell_type": "code",
   "execution_count": 4,
   "id": "379493ec-cf37-49c2-8f90-54b0a85e87d2",
   "metadata": {},
   "outputs": [
    {
     "data": {
      "text/latex": [
       "$\\displaystyle \\left[\\begin{matrix}\\frac{1}{L}\\\\0\\end{matrix}\\right]$"
      ],
      "text/plain": [
       "Matrix([\n",
       "[1/L],\n",
       "[  0]])"
      ]
     },
     "execution_count": 4,
     "metadata": {},
     "output_type": "execute_result"
    }
   ],
   "source": [
    "B1 = sp.Matrix([[1/L], [0]])\n",
    "B1"
   ]
  },
  {
   "cell_type": "code",
   "execution_count": 5,
   "id": "97ad0087-a3de-4f44-b797-63dd4bc46f35",
   "metadata": {},
   "outputs": [
    {
     "data": {
      "text/latex": [
       "$\\displaystyle \\left[\\begin{matrix}1 & 0\\\\0 & -1\\end{matrix}\\right]$"
      ],
      "text/plain": [
       "Matrix([\n",
       "[1,  0],\n",
       "[0, -1]])"
      ]
     },
     "execution_count": 5,
     "metadata": {},
     "output_type": "execute_result"
    }
   ],
   "source": [
    "C1 = sp.Matrix([[1, 0], [0, -1]])\n",
    "C1"
   ]
  },
  {
   "cell_type": "code",
   "execution_count": 6,
   "id": "550d731b-61c8-47b0-a43d-d76030260812",
   "metadata": {},
   "outputs": [
    {
     "data": {
      "text/latex": [
       "$\\displaystyle \\left[\\begin{matrix}0\\\\0\\end{matrix}\\right]$"
      ],
      "text/plain": [
       "Matrix([\n",
       "[0],\n",
       "[0]])"
      ]
     },
     "execution_count": 6,
     "metadata": {},
     "output_type": "execute_result"
    }
   ],
   "source": [
    "D1 = sp.Matrix([[0], [0]])\n",
    "D1"
   ]
  },
  {
   "cell_type": "markdown",
   "id": "ea760e21-c267-48a5-8897-49c19d00f375",
   "metadata": {},
   "source": [
    "#### Case when the switch is off"
   ]
  },
  {
   "cell_type": "markdown",
   "id": "c4e0deea-acb4-4eb5-a2c4-bf41c780e51d",
   "metadata": {},
   "source": [
    "When the switch is **off**, diode **conducts**. This means that the inductor **releases** the accumulated energy, and the capacitor **is charging** with that energy. State space matrices for the time interval $(k + d_{k})T_{S} \\leq t < (k + 1)T_{S}$ are given below."
   ]
  },
  {
   "cell_type": "code",
   "execution_count": 7,
   "id": "26f784df-fd3f-4ed4-9f2a-166679086bcc",
   "metadata": {},
   "outputs": [
    {
     "data": {
      "text/latex": [
       "$\\displaystyle \\left[\\begin{matrix}- \\frac{R_{L}}{L} & \\frac{1}{L}\\\\- \\frac{1}{C_{out}} & - \\frac{1}{C_{out} R}\\end{matrix}\\right]$"
      ],
      "text/plain": [
       "Matrix([\n",
       "[  -R_L/L,          1/L],\n",
       "[-1/C_out, -1/(C_out*R)]])"
      ]
     },
     "execution_count": 7,
     "metadata": {},
     "output_type": "execute_result"
    }
   ],
   "source": [
    "A2 = sp.Matrix([[-RL/L, 1/L], [-1/Cout, -1/(R * Cout)]])\n",
    "A2"
   ]
  },
  {
   "cell_type": "code",
   "execution_count": 8,
   "id": "3c3d4b89-e732-4323-ba91-61b433157f3d",
   "metadata": {},
   "outputs": [
    {
     "data": {
      "text/latex": [
       "$\\displaystyle \\left[\\begin{matrix}0\\\\0\\end{matrix}\\right]$"
      ],
      "text/plain": [
       "Matrix([\n",
       "[0],\n",
       "[0]])"
      ]
     },
     "execution_count": 8,
     "metadata": {},
     "output_type": "execute_result"
    }
   ],
   "source": [
    "B2 = sp.Matrix([[0], [0]])\n",
    "B2"
   ]
  },
  {
   "cell_type": "code",
   "execution_count": 9,
   "id": "b8677f49-4d4f-49bc-865a-9a96857b297f",
   "metadata": {},
   "outputs": [
    {
     "data": {
      "text/latex": [
       "$\\displaystyle \\left[\\begin{matrix}1 & 0\\\\0 & -1\\end{matrix}\\right]$"
      ],
      "text/plain": [
       "Matrix([\n",
       "[1,  0],\n",
       "[0, -1]])"
      ]
     },
     "execution_count": 9,
     "metadata": {},
     "output_type": "execute_result"
    }
   ],
   "source": [
    "C2 = sp.Matrix([[1, 0], [0, -1]])\n",
    "C2"
   ]
  },
  {
   "cell_type": "code",
   "execution_count": 10,
   "id": "fb07c42a-68ce-46d3-b031-f7073f47cbd2",
   "metadata": {},
   "outputs": [
    {
     "data": {
      "text/latex": [
       "$\\displaystyle \\left[\\begin{matrix}0\\\\0\\end{matrix}\\right]$"
      ],
      "text/plain": [
       "Matrix([\n",
       "[0],\n",
       "[0]])"
      ]
     },
     "execution_count": 10,
     "metadata": {},
     "output_type": "execute_result"
    }
   ],
   "source": [
    "D2 = sp.Matrix([[0], [0]])\n",
    "D2"
   ]
  },
  {
   "cell_type": "markdown",
   "id": "bcfd5a6b-b4c8-4508-b69b-b3a3f1f92a04",
   "metadata": {},
   "source": [
    "## State space averaging"
   ]
  },
  {
   "cell_type": "markdown",
   "id": "00bc362c-596a-465c-9c17-3e51c14f7610",
   "metadata": {},
   "source": [
    "To find the transfer functions describing our converter, we need to determine a **unified** linear model. This will be done by **state space averaging** techinque."
   ]
  },
  {
   "cell_type": "code",
   "execution_count": 11,
   "id": "37f7867c-139d-4157-ba02-8f0594a85504",
   "metadata": {},
   "outputs": [
    {
     "data": {
      "text/latex": [
       "$\\displaystyle \\left[\\begin{matrix}- \\frac{R_{L}}{L} & \\frac{1 - D_{0}}{L}\\\\\\frac{D_{0} - 1}{C_{out}} & - \\frac{1}{C_{out} R}\\end{matrix}\\right]$"
      ],
      "text/plain": [
       "Matrix([\n",
       "[         -R_L/L,  (1 - D_0)/L],\n",
       "[(D_0 - 1)/C_out, -1/(C_out*R)]])"
      ]
     },
     "execution_count": 11,
     "metadata": {},
     "output_type": "execute_result"
    }
   ],
   "source": [
    "A = sp.simplify(A1 * D0 + A2 * (1 - D0))\n",
    "A"
   ]
  },
  {
   "cell_type": "code",
   "execution_count": 12,
   "id": "12d9bf24-d8f6-4209-a494-16d2998c9a74",
   "metadata": {},
   "outputs": [
    {
     "data": {
      "text/latex": [
       "$\\displaystyle \\left[\\begin{matrix}\\frac{D_{0}}{L}\\\\0\\end{matrix}\\right]$"
      ],
      "text/plain": [
       "Matrix([\n",
       "[D_0/L],\n",
       "[    0]])"
      ]
     },
     "execution_count": 12,
     "metadata": {},
     "output_type": "execute_result"
    }
   ],
   "source": [
    "B = sp.simplify(B1 * D0 + B2 * (1 - D0))\n",
    "B"
   ]
  },
  {
   "cell_type": "code",
   "execution_count": 13,
   "id": "5090d3e5-774d-4f45-90a4-605deeb5dc29",
   "metadata": {},
   "outputs": [
    {
     "data": {
      "text/latex": [
       "$\\displaystyle \\left[\\begin{matrix}1 & 0\\\\0 & -1\\end{matrix}\\right]$"
      ],
      "text/plain": [
       "Matrix([\n",
       "[1,  0],\n",
       "[0, -1]])"
      ]
     },
     "execution_count": 13,
     "metadata": {},
     "output_type": "execute_result"
    }
   ],
   "source": [
    "C = sp.simplify(C1 * D0 + C2 * (1 - D0))\n",
    "C"
   ]
  },
  {
   "cell_type": "code",
   "execution_count": 14,
   "id": "fd131bc0-7bb0-47f6-b64d-4f9e45d0574c",
   "metadata": {},
   "outputs": [
    {
     "data": {
      "text/latex": [
       "$\\displaystyle \\left[\\begin{matrix}0\\\\0\\end{matrix}\\right]$"
      ],
      "text/plain": [
       "Matrix([\n",
       "[0],\n",
       "[0]])"
      ]
     },
     "execution_count": 14,
     "metadata": {},
     "output_type": "execute_result"
    }
   ],
   "source": [
    "D = sp.simplify(D1 * D0 + D2 * (1 - D0))\n",
    "D"
   ]
  },
  {
   "cell_type": "code",
   "execution_count": 15,
   "id": "9fbd221a-1ea4-4446-945a-083c5e92b158",
   "metadata": {},
   "outputs": [
    {
     "data": {
      "text/latex": [
       "$\\displaystyle \\left[\\begin{matrix}\\frac{D_{0} V_{in}}{D_{0}^{2} R - 2 D_{0} R + R + R_{L}}\\\\\\frac{D_{0} R V_{in} \\left(D_{0} - 1\\right)}{D_{0}^{2} R - 2 D_{0} R + R + R_{L}}\\end{matrix}\\right]$"
      ],
      "text/plain": [
       "Matrix([\n",
       "[            D_0*V_in/(D_0**2*R - 2*D_0*R + R + R_L)],\n",
       "[D_0*R*V_in*(D_0 - 1)/(D_0**2*R - 2*D_0*R + R + R_L)]])"
      ]
     },
     "execution_count": 15,
     "metadata": {},
     "output_type": "execute_result"
    }
   ],
   "source": [
    "u0 = sp.Matrix([[Vin]])\n",
    "x0 = sp.simplify(-A.inv() * B * u0)\n",
    "x0"
   ]
  },
  {
   "cell_type": "markdown",
   "id": "69538a8e-a66a-4906-8082-af977d0dc4c5",
   "metadata": {},
   "source": [
    "To show that we're getting a good model, we'll evaluate the limit when $R_{L} \\to 0$, to check what happens when there's no parasitic elements."
   ]
  },
  {
   "cell_type": "markdown",
   "id": "0947dbdd-fbcb-40d8-bbd7-4ead1226e2f4",
   "metadata": {},
   "source": [
    "Inductor current when $R_{L} \\to 0$"
   ]
  },
  {
   "cell_type": "code",
   "execution_count": 16,
   "id": "b7a15b52-c087-4916-90d2-750d1d6329af",
   "metadata": {},
   "outputs": [
    {
     "data": {
      "text/latex": [
       "$\\displaystyle \\frac{D_{0} V_{in}}{R \\left(D_{0}^{2} - 2 D_{0} + 1\\right)}$"
      ],
      "text/plain": [
       "D_0*V_in/(R*(D_0**2 - 2*D_0 + 1))"
      ]
     },
     "execution_count": 16,
     "metadata": {},
     "output_type": "execute_result"
    }
   ],
   "source": [
    "sp.simplify(x0[0].limit(RL, 0))"
   ]
  },
  {
   "cell_type": "markdown",
   "id": "118b5e75-9929-4a6c-8b0b-57af6bce9a79",
   "metadata": {},
   "source": [
    "Capacitor voltage when $R_{L} \\to 0$"
   ]
  },
  {
   "cell_type": "code",
   "execution_count": 17,
   "id": "d76d1aca-8714-4feb-9911-7f0ceecfa0a4",
   "metadata": {},
   "outputs": [
    {
     "data": {
      "text/latex": [
       "$\\displaystyle \\frac{D_{0} V_{in}}{D_{0} - 1}$"
      ],
      "text/plain": [
       "D_0*V_in/(D_0 - 1)"
      ]
     },
     "execution_count": 17,
     "metadata": {},
     "output_type": "execute_result"
    }
   ],
   "source": [
    "sp.simplify(x0[1].limit(RL, 0))"
   ]
  },
  {
   "cell_type": "markdown",
   "id": "58a4a828-9e45-4d20-944d-e4558b77d7bb",
   "metadata": {},
   "source": [
    "Our expectations match the equations!"
   ]
  },
  {
   "cell_type": "code",
   "execution_count": 29,
   "id": "f43f8898-7b75-4eb2-adab-85b62173e521",
   "metadata": {},
   "outputs": [
    {
     "data": {
      "text/latex": [
       "$\\displaystyle \\left[\\begin{matrix}\\frac{V_{in} \\left(- D_{0} R + R + R_{L}\\right)}{L \\left(D_{0}^{2} R - 2 D_{0} R + R + R_{L}\\right)}\\\\\\frac{D_{0} V_{in}}{C_{out} \\left(D_{0}^{2} R - 2 D_{0} R + R + R_{L}\\right)}\\end{matrix}\\right]$"
      ],
      "text/plain": [
       "Matrix([\n",
       "[V_in*(-D_0*R + R + R_L)/(L*(D_0**2*R - 2*D_0*R + R + R_L))],\n",
       "[           D_0*V_in/(C_out*(D_0**2*R - 2*D_0*R + R + R_L))]])"
      ]
     },
     "execution_count": 29,
     "metadata": {},
     "output_type": "execute_result"
    }
   ],
   "source": [
    "E = sp.simplify((A1 - A2) * x0 + (B1 - B2) * u0)\n",
    "E"
   ]
  },
  {
   "cell_type": "code",
   "execution_count": 19,
   "id": "917a5f78-7555-4b79-9273-883a8e743b69",
   "metadata": {},
   "outputs": [
    {
     "data": {
      "text/latex": [
       "$\\displaystyle \\left[\\begin{matrix}0\\\\0\\end{matrix}\\right]$"
      ],
      "text/plain": [
       "Matrix([\n",
       "[0],\n",
       "[0]])"
      ]
     },
     "execution_count": 19,
     "metadata": {},
     "output_type": "execute_result"
    }
   ],
   "source": [
    "F = sp.simplify((C1 - C2) * x0 + (D1 - D2) * u0)\n",
    "F"
   ]
  },
  {
   "cell_type": "markdown",
   "id": "8383c382-caa4-4b4e-bac6-3b7b4b1209fe",
   "metadata": {},
   "source": [
    "To encapsulate our new (for now) **control variable** $\\hat{d}(t)$ into usual form of state space models, we'll join the matrices $\\mathbf{B}$ and $\\mathbf{E}$ into one matrix, as well as $\\mathbf{D}$ and $\\mathbf{F}$. Now, the state space model will take form of\n",
    "\n",
    "\\begin{align}\n",
    "\\frac{d\\hat{\\mathbf{x}}(t)}{dt} = \\mathbf{A}\\hat{\\mathbf{x}}(t) + \\begin{bmatrix} \\mathbf{B} & \\mathbf{E} \\end{bmatrix} \\begin{bmatrix} \\hat{\\mathbf{u}}(t) \\\\ \\hat{d}(t) \\end{bmatrix}\n",
    "\\end{align}\n",
    "\n",
    "\\begin{align}\n",
    "\\hat{\\mathbf{y}}(t) = \\mathbf{C}\\hat{\\mathbf{x}}(t) + \\begin{bmatrix} \\mathbf{D} & \\mathbf{F} \\end{bmatrix} \\begin{bmatrix} \\hat{\\mathbf{u}}(t) \\\\ \\hat{d}(t) \\end{bmatrix}\n",
    "\\end{align}"
   ]
  },
  {
   "cell_type": "code",
   "execution_count": 20,
   "id": "6767887c-0403-489f-b770-30f1c9612d88",
   "metadata": {},
   "outputs": [
    {
     "data": {
      "text/latex": [
       "$\\displaystyle \\left[\\begin{matrix}\\frac{D_{0}}{L} & \\frac{V_{in} \\left(- D_{0} R + R + R_{L}\\right)}{L \\left(D_{0}^{2} R - 2 D_{0} R + R + R_{L}\\right)}\\\\0 & \\frac{D_{0} V_{in}}{C_{out} \\left(D_{0}^{2} R - 2 D_{0} R + R + R_{L}\\right)}\\end{matrix}\\right]$"
      ],
      "text/plain": [
       "Matrix([\n",
       "[D_0/L, V_in*(-D_0*R + R + R_L)/(L*(D_0**2*R - 2*D_0*R + R + R_L))],\n",
       "[    0,            D_0*V_in/(C_out*(D_0**2*R - 2*D_0*R + R + R_L))]])"
      ]
     },
     "execution_count": 20,
     "metadata": {},
     "output_type": "execute_result"
    }
   ],
   "source": [
    "new_B = sp.Matrix([[B, E]])\n",
    "new_B"
   ]
  },
  {
   "cell_type": "code",
   "execution_count": 21,
   "id": "5e3e9ef5-a534-43cf-8e40-977b2a8db372",
   "metadata": {},
   "outputs": [
    {
     "data": {
      "text/latex": [
       "$\\displaystyle \\left[\\begin{matrix}0 & 0\\\\0 & 0\\end{matrix}\\right]$"
      ],
      "text/plain": [
       "Matrix([\n",
       "[0, 0],\n",
       "[0, 0]])"
      ]
     },
     "execution_count": 21,
     "metadata": {},
     "output_type": "execute_result"
    }
   ],
   "source": [
    "new_D = sp.Matrix([[D, F]])\n",
    "new_D"
   ]
  },
  {
   "cell_type": "markdown",
   "id": "d4d2c04b-1438-4ed9-8dcb-86d4df7e3856",
   "metadata": {},
   "source": [
    "### Ripple estimation"
   ]
  },
  {
   "cell_type": "code",
   "execution_count": 22,
   "id": "a152d81c-a61a-4dde-b75b-5019f41caa91",
   "metadata": {},
   "outputs": [
    {
     "data": {
      "text/latex": [
       "$\\displaystyle \\left[\\begin{matrix}\\frac{D_{0} V_{in} \\left(D_{0}^{2} R - 2 D_{0} R - D_{0} R_{L} + R + R_{L}\\right)}{2 L fsw \\left(D_{0}^{2} R - 2 D_{0} R + R + R_{L}\\right)}\\\\\\frac{D_{0}^{2} V_{in} \\left(1 - D_{0}\\right)}{2 C_{out} fsw \\left(D_{0}^{2} R - 2 D_{0} R + R + R_{L}\\right)}\\end{matrix}\\right]$"
      ],
      "text/plain": [
       "Matrix([\n",
       "[D_0*V_in*(D_0**2*R - 2*D_0*R - D_0*R_L + R + R_L)/(2*L*fsw*(D_0**2*R - 2*D_0*R + R + R_L))],\n",
       "[                        D_0**2*V_in*(1 - D_0)/(2*C_out*fsw*(D_0**2*R - 2*D_0*R + R + R_L))]])"
      ]
     },
     "execution_count": 22,
     "metadata": {},
     "output_type": "execute_result"
    }
   ],
   "source": [
    "delta_x0 = sp.simplify(((A1 * D0 - A2 * (1 - D0)) * x0 + (B1 * D0 - B2 * (1 - D0)) * u0) / (4 * fsw)) \n",
    "delta_x0"
   ]
  },
  {
   "cell_type": "markdown",
   "id": "64cfb4d3-c96f-4f36-8c70-a56bda78d318",
   "metadata": {},
   "source": [
    "### Transfer functions"
   ]
  },
  {
   "cell_type": "code",
   "execution_count": 23,
   "id": "19f2e786-7621-40ee-a445-f2a80c6ba60c",
   "metadata": {},
   "outputs": [
    {
     "data": {
      "text/latex": [
       "$\\displaystyle \\left[\\begin{matrix}\\frac{D_{0} \\left(C_{out} R s + 1\\right)}{C_{out} L R s^{2} + C_{out} R R_{L} s + D_{0}^{2} R - 2 D_{0} R + L s + R + R_{L}} & \\frac{V_{in} \\left(- D_{0} R \\left(D_{0} - 1\\right) + \\left(C_{out} R s + 1\\right) \\left(- D_{0} R + R + R_{L}\\right)\\right)}{\\left(D_{0}^{2} R - 2 D_{0} R + R + R_{L}\\right) \\left(C_{out} L R s^{2} + C_{out} R R_{L} s + D_{0}^{2} R - 2 D_{0} R + L s + R + R_{L}\\right)}\\\\\\frac{D_{0} R \\left(1 - D_{0}\\right)}{C_{out} L R s^{2} + C_{out} R R_{L} s + D_{0}^{2} R - 2 D_{0} R + L s + R + R_{L}} & \\frac{R V_{in} \\left(- D_{0} \\left(L s + R_{L}\\right) - \\left(D_{0} - 1\\right) \\left(- D_{0} R + R + R_{L}\\right)\\right)}{\\left(D_{0}^{2} R - 2 D_{0} R + R + R_{L}\\right) \\left(C_{out} L R s^{2} + C_{out} R R_{L} s + D_{0}^{2} R - 2 D_{0} R + L s + R + R_{L}\\right)}\\end{matrix}\\right]$"
      ],
      "text/plain": [
       "Matrix([\n",
       "[D_0*(C_out*R*s + 1)/(C_out*L*R*s**2 + C_out*R*R_L*s + D_0**2*R - 2*D_0*R + L*s + R + R_L), V_in*(-D_0*R*(D_0 - 1) + (C_out*R*s + 1)*(-D_0*R + R + R_L))/((D_0**2*R - 2*D_0*R + R + R_L)*(C_out*L*R*s**2 + C_out*R*R_L*s + D_0**2*R - 2*D_0*R + L*s + R + R_L))],\n",
       "[    D_0*R*(1 - D_0)/(C_out*L*R*s**2 + C_out*R*R_L*s + D_0**2*R - 2*D_0*R + L*s + R + R_L),     R*V_in*(-D_0*(L*s + R_L) - (D_0 - 1)*(-D_0*R + R + R_L))/((D_0**2*R - 2*D_0*R + R + R_L)*(C_out*L*R*s**2 + C_out*R*R_L*s + D_0**2*R - 2*D_0*R + L*s + R + R_L))]])"
      ]
     },
     "execution_count": 23,
     "metadata": {},
     "output_type": "execute_result"
    }
   ],
   "source": [
    "I = sp.eye(2)\n",
    "s = sp.symbols(\"s\")\n",
    "\n",
    "G = sp.simplify(C * (s * I - A).inv() * new_B + new_D)\n",
    "G"
   ]
  },
  {
   "cell_type": "markdown",
   "id": "29594f2c-bae5-4522-a275-0f900a2f1247",
   "metadata": {},
   "source": [
    "#### Transfer function from duty ratio to inductor current $G_{di}$"
   ]
  },
  {
   "cell_type": "code",
   "execution_count": 24,
   "id": "13c4a14b-a84b-413c-9787-7f87470bb371",
   "metadata": {},
   "outputs": [
    {
     "data": {
      "text/latex": [
       "$\\displaystyle - \\frac{V_{in} \\left(C_{out} D_{0} R^{2} s - C_{out} R^{2} s - C_{out} R R_{L} s + D_{0}^{2} R - R - R_{L}\\right)}{\\left(D_{0}^{2} R - 2 D_{0} R + R + R_{L}\\right) \\left(C_{out} L R s^{2} + C_{out} R R_{L} s + D_{0}^{2} R - 2 D_{0} R + L s + R + R_{L}\\right)}$"
      ],
      "text/plain": [
       "-V_in*(C_out*D_0*R**2*s - C_out*R**2*s - C_out*R*R_L*s + D_0**2*R - R - R_L)/((D_0**2*R - 2*D_0*R + R + R_L)*(C_out*L*R*s**2 + C_out*R*R_L*s + D_0**2*R - 2*D_0*R + L*s + R + R_L))"
      ]
     },
     "execution_count": 24,
     "metadata": {},
     "output_type": "execute_result"
    }
   ],
   "source": [
    "GDI = sp.factor(G[1])\n",
    "GDI"
   ]
  },
  {
   "cell_type": "markdown",
   "id": "1e099b08-a913-40a8-a347-1f646334f3c8",
   "metadata": {},
   "source": [
    "#### Transfer function from duty ratio to output voltage $G_{dv}$"
   ]
  },
  {
   "cell_type": "code",
   "execution_count": 25,
   "id": "54967c3d-484b-4320-8d7b-0da182b2fadb",
   "metadata": {},
   "outputs": [
    {
     "data": {
      "text/latex": [
       "$\\displaystyle - \\frac{R V_{in} \\left(- D_{0}^{2} R + D_{0} L s + 2 D_{0} R + 2 D_{0} R_{L} - R - R_{L}\\right)}{\\left(D_{0}^{2} R - 2 D_{0} R + R + R_{L}\\right) \\left(C_{out} L R s^{2} + C_{out} R R_{L} s + D_{0}^{2} R - 2 D_{0} R + L s + R + R_{L}\\right)}$"
      ],
      "text/plain": [
       "-R*V_in*(-D_0**2*R + D_0*L*s + 2*D_0*R + 2*D_0*R_L - R - R_L)/((D_0**2*R - 2*D_0*R + R + R_L)*(C_out*L*R*s**2 + C_out*R*R_L*s + D_0**2*R - 2*D_0*R + L*s + R + R_L))"
      ]
     },
     "execution_count": 25,
     "metadata": {},
     "output_type": "execute_result"
    }
   ],
   "source": [
    "GDV = sp.factor(G[3])\n",
    "GDV"
   ]
  },
  {
   "cell_type": "markdown",
   "id": "02f241ba-9445-47be-b338-65062284f6f4",
   "metadata": {},
   "source": [
    "Since we'll be using **current mode control**, our plant equation will be\n",
    "\n",
    "\\begin{align}\n",
    "G_{iv} = \\frac{G_{dv}}{G_{di}}\n",
    "\\end{align}"
   ]
  },
  {
   "cell_type": "markdown",
   "id": "ac7bad11-1896-4055-9314-0b7a22c7143f",
   "metadata": {},
   "source": [
    "This will, of course, reduce the order of the system by one."
   ]
  },
  {
   "cell_type": "code",
   "execution_count": 26,
   "id": "2c58f925-affa-4445-876a-9e9bd79b3e4c",
   "metadata": {},
   "outputs": [
    {
     "data": {
      "text/latex": [
       "$\\displaystyle \\frac{R \\left(- D_{0}^{2} R + D_{0} L s + 2 D_{0} R + 2 D_{0} R_{L} - R - R_{L}\\right)}{D_{0}^{2} R - R - R_{L} + s \\left(C_{out} D_{0} R^{2} - C_{out} R^{2} - C_{out} R R_{L}\\right)}$"
      ],
      "text/plain": [
       "R*(-D_0**2*R + D_0*L*s + 2*D_0*R + 2*D_0*R_L - R - R_L)/(D_0**2*R - R - R_L + s*(C_out*D_0*R**2 - C_out*R**2 - C_out*R*R_L))"
      ]
     },
     "execution_count": 26,
     "metadata": {},
     "output_type": "execute_result"
    }
   ],
   "source": [
    "GIV = sp.collect(GDV / GDI, \"s\")\n",
    "GIV"
   ]
  },
  {
   "cell_type": "markdown",
   "id": "7692e98f-6dfa-4abd-91d6-6408e1befb41",
   "metadata": {},
   "source": [
    "#### Plant zero"
   ]
  },
  {
   "cell_type": "code",
   "execution_count": 27,
   "id": "85563a1c-96ba-4b40-8ef1-3dfac0f71877",
   "metadata": {},
   "outputs": [
    {
     "data": {
      "text/latex": [
       "$\\displaystyle \\frac{- D_{0} \\left(- D_{0} R + 2 R + 2 R_{L}\\right) + R + R_{L}}{D_{0} L}$"
      ],
      "text/plain": [
       "(-D_0*(-D_0*R + 2*R + 2*R_L) + R + R_L)/(D_0*L)"
      ]
     },
     "execution_count": 27,
     "metadata": {},
     "output_type": "execute_result"
    }
   ],
   "source": [
    "GIV_num, GIV_den = GIV.as_numer_denom()\n",
    "sp.simplify(sp.solve(GIV_num, \"s\")[0])"
   ]
  },
  {
   "cell_type": "markdown",
   "id": "2552bd5b-84ab-48e7-b790-c4cbf9afc5a7",
   "metadata": {},
   "source": [
    "#### Plant pole"
   ]
  },
  {
   "cell_type": "code",
   "execution_count": 28,
   "id": "4455eed6-eac4-4bd4-9859-c64d6e74221b",
   "metadata": {},
   "outputs": [
    {
     "data": {
      "text/latex": [
       "$\\displaystyle \\frac{D_{0}^{2} R - R - R_{L}}{C_{out} R \\left(- D_{0} R + R + R_{L}\\right)}$"
      ],
      "text/plain": [
       "(D_0**2*R - R - R_L)/(C_out*R*(-D_0*R + R + R_L))"
      ]
     },
     "execution_count": 28,
     "metadata": {},
     "output_type": "execute_result"
    }
   ],
   "source": [
    "sp.simplify(sp.solve(GIV_den, \"s\")[0])"
   ]
  }
 ],
 "metadata": {
  "kernelspec": {
   "display_name": "Python 3 (ipykernel)",
   "language": "python",
   "name": "python3"
  },
  "language_info": {
   "codemirror_mode": {
    "name": "ipython",
    "version": 3
   },
   "file_extension": ".py",
   "mimetype": "text/x-python",
   "name": "python",
   "nbconvert_exporter": "python",
   "pygments_lexer": "ipython3",
   "version": "3.12.2"
  }
 },
 "nbformat": 4,
 "nbformat_minor": 5
}
