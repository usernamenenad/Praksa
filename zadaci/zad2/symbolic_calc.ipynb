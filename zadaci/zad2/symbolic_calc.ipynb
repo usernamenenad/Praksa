{
 "cells": [
  {
   "cell_type": "code",
   "execution_count": 1,
   "metadata": {},
   "outputs": [],
   "source": [
    "import sympy as sp"
   ]
  },
  {
   "cell_type": "code",
   "execution_count": 2,
   "metadata": {},
   "outputs": [],
   "source": [
    "Lm = sp.symbols(\"L_m\")\n",
    "Cf = sp.symbols(\"C_f\")\n",
    "n = sp.symbols(\"n\")\n",
    "D0 = sp.symbols(\"D_0\")\n",
    "Rp = sp.symbols(\"R_p\")\n",
    "Rs = sp.symbols(\"R_s\")\n",
    "Iout = sp.symbols(\"I_out\")"
   ]
  },
  {
   "cell_type": "code",
   "execution_count": 3,
   "metadata": {},
   "outputs": [
    {
     "data": {
      "text/latex": [
       "$\\displaystyle \\left[\\begin{matrix}- \\frac{R_{p}}{L_{m}} & 0\\\\0 & 0\\end{matrix}\\right]$"
      ],
      "text/plain": [
       "Matrix([\n",
       "[-R_p/L_m, 0],\n",
       "[       0, 0]])"
      ]
     },
     "execution_count": 3,
     "metadata": {},
     "output_type": "execute_result"
    }
   ],
   "source": [
    "A1 = sp.Matrix([[-Rp / Lm, 0], [0, 0]])\n",
    "A1"
   ]
  },
  {
   "cell_type": "code",
   "execution_count": 4,
   "metadata": {},
   "outputs": [
    {
     "data": {
      "text/latex": [
       "$\\displaystyle \\left[\\begin{matrix}- \\frac{R_{s}}{L_{m} n^{2}} & - \\frac{1}{L_{m} n}\\\\\\frac{1}{C_{f} n} & 0\\end{matrix}\\right]$"
      ],
      "text/plain": [
       "Matrix([\n",
       "[-R_s/(L_m*n**2), -1/(L_m*n)],\n",
       "[      1/(C_f*n),          0]])"
      ]
     },
     "execution_count": 4,
     "metadata": {},
     "output_type": "execute_result"
    }
   ],
   "source": [
    "A2 = sp.Matrix([[-Rs / (n**2 * Lm), -1 / (n * Lm)], [1 / (n * Cf), 0]])\n",
    "A2"
   ]
  },
  {
   "cell_type": "code",
   "execution_count": 5,
   "metadata": {},
   "outputs": [
    {
     "data": {
      "text/latex": [
       "$\\displaystyle \\left[\\begin{matrix}0 & \\frac{1}{L_{m}}\\\\- \\frac{1}{C_{f}} & 0\\end{matrix}\\right]$"
      ],
      "text/plain": [
       "Matrix([\n",
       "[     0, 1/L_m],\n",
       "[-1/C_f,     0]])"
      ]
     },
     "execution_count": 5,
     "metadata": {},
     "output_type": "execute_result"
    }
   ],
   "source": [
    "B1 = sp.Matrix([[0, 1 / Lm], [-1 / Cf, 0]])\n",
    "B1"
   ]
  },
  {
   "cell_type": "code",
   "execution_count": 6,
   "metadata": {},
   "outputs": [
    {
     "data": {
      "text/latex": [
       "$\\displaystyle \\left[\\begin{matrix}0 & 0\\\\- \\frac{1}{C_{f}} & 0\\end{matrix}\\right]$"
      ],
      "text/plain": [
       "Matrix([\n",
       "[     0, 0],\n",
       "[-1/C_f, 0]])"
      ]
     },
     "execution_count": 6,
     "metadata": {},
     "output_type": "execute_result"
    }
   ],
   "source": [
    "B2 = sp.Matrix([[0, 0], [-1 / Cf, 0]])\n",
    "B2"
   ]
  },
  {
   "cell_type": "code",
   "execution_count": 7,
   "metadata": {},
   "outputs": [
    {
     "data": {
      "text/latex": [
       "$\\displaystyle \\left[\\begin{matrix}1 & 0\\end{matrix}\\right]$"
      ],
      "text/plain": [
       "Matrix([[1, 0]])"
      ]
     },
     "execution_count": 7,
     "metadata": {},
     "output_type": "execute_result"
    }
   ],
   "source": [
    "C1 = C2 = sp.Matrix([[1, 0]])\n",
    "C1"
   ]
  },
  {
   "cell_type": "code",
   "execution_count": 9,
   "metadata": {},
   "outputs": [
    {
     "data": {
      "text/latex": [
       "$\\displaystyle \\left[\\begin{matrix}0 & 0\\end{matrix}\\right]$"
      ],
      "text/plain": [
       "Matrix([[0, 0]])"
      ]
     },
     "execution_count": 9,
     "metadata": {},
     "output_type": "execute_result"
    }
   ],
   "source": [
    "D1 = D2 = sp.Matrix([[0, 0]])\n",
    "D1"
   ]
  },
  {
   "cell_type": "code",
   "execution_count": 10,
   "metadata": {},
   "outputs": [
    {
     "data": {
      "text/latex": [
       "$\\displaystyle \\left[\\begin{matrix}\\frac{- D_{0} R_{p} n^{2} + R_{s} \\left(D_{0} - 1\\right)}{L_{m} n^{2}} & \\frac{D_{0} - 1}{L_{m} n}\\\\\\frac{1 - D_{0}}{C_{f} n} & 0\\end{matrix}\\right]$"
      ],
      "text/plain": [
       "Matrix([\n",
       "[(-D_0*R_p*n**2 + R_s*(D_0 - 1))/(L_m*n**2), (D_0 - 1)/(L_m*n)],\n",
       "[                         (1 - D_0)/(C_f*n),                 0]])"
      ]
     },
     "execution_count": 10,
     "metadata": {},
     "output_type": "execute_result"
    }
   ],
   "source": [
    "A = sp.simplify(A1 * D0 + A2 * (1 - D0))\n",
    "A"
   ]
  },
  {
   "cell_type": "code",
   "execution_count": 11,
   "metadata": {},
   "outputs": [
    {
     "data": {
      "text/latex": [
       "$\\displaystyle \\left[\\begin{matrix}0 & \\frac{D_{0}}{L_{m}}\\\\- \\frac{1}{C_{f}} & 0\\end{matrix}\\right]$"
      ],
      "text/plain": [
       "Matrix([\n",
       "[     0, D_0/L_m],\n",
       "[-1/C_f,       0]])"
      ]
     },
     "execution_count": 11,
     "metadata": {},
     "output_type": "execute_result"
    }
   ],
   "source": [
    "B = sp.simplify(B1 * D0 + B2 * (1 - D0))\n",
    "B"
   ]
  },
  {
   "cell_type": "code",
   "execution_count": 12,
   "metadata": {},
   "outputs": [
    {
     "data": {
      "text/latex": [
       "$\\displaystyle \\left[\\begin{matrix}1 & 0\\end{matrix}\\right]$"
      ],
      "text/plain": [
       "Matrix([[1, 0]])"
      ]
     },
     "execution_count": 12,
     "metadata": {},
     "output_type": "execute_result"
    }
   ],
   "source": [
    "C = sp.simplify(C1 * D0 + C2 * (1 - D0))\n",
    "C"
   ]
  },
  {
   "cell_type": "code",
   "execution_count": 13,
   "metadata": {},
   "outputs": [
    {
     "data": {
      "text/latex": [
       "$\\displaystyle \\left[\\begin{matrix}0 & 0\\end{matrix}\\right]$"
      ],
      "text/plain": [
       "Matrix([[0, 0]])"
      ]
     },
     "execution_count": 13,
     "metadata": {},
     "output_type": "execute_result"
    }
   ],
   "source": [
    "D = sp.simplify(D1 * D0 + D2 * (1 - D0))\n",
    "D"
   ]
  },
  {
   "cell_type": "code",
   "execution_count": 16,
   "metadata": {},
   "outputs": [
    {
     "data": {
      "text/latex": [
       "$\\displaystyle \\left[\\begin{matrix}I_{out}\\\\V_{in}\\end{matrix}\\right]$"
      ],
      "text/plain": [
       "Matrix([\n",
       "[I_out],\n",
       "[ V_in]])"
      ]
     },
     "execution_count": 16,
     "metadata": {},
     "output_type": "execute_result"
    }
   ],
   "source": [
    "Vin = sp.symbols(\"V_in\")\n",
    "\n",
    "u0 = sp.Matrix([[Iout], [Vin]])\n",
    "u0"
   ]
  },
  {
   "cell_type": "code",
   "execution_count": 18,
   "metadata": {},
   "outputs": [
    {
     "data": {
      "text/latex": [
       "$\\displaystyle \\left[\\begin{matrix}- \\frac{I_{out} n}{D_{0} - 1}\\\\\\frac{- D_{0}^{2} V_{in} n - D_{0} I_{out} R_{p} n^{2} + D_{0} I_{out} R_{s} + D_{0} V_{in} n - I_{out} R_{s}}{D_{0}^{2} - 2 D_{0} + 1}\\end{matrix}\\right]$"
      ],
      "text/plain": [
       "Matrix([\n",
       "[                                                                                 -I_out*n/(D_0 - 1)],\n",
       "[(-D_0**2*V_in*n - D_0*I_out*R_p*n**2 + D_0*I_out*R_s + D_0*V_in*n - I_out*R_s)/(D_0**2 - 2*D_0 + 1)]])"
      ]
     },
     "execution_count": 18,
     "metadata": {},
     "output_type": "execute_result"
    }
   ],
   "source": [
    "x0 = sp.simplify(-A.inv() * B * u0)\n",
    "x0"
   ]
  },
  {
   "cell_type": "code",
   "execution_count": 19,
   "metadata": {},
   "outputs": [
    {
     "data": {
      "text/latex": [
       "$\\displaystyle \\left[\\begin{matrix}\\frac{- D_{0} V_{in} - I_{out} R_{p} n + V_{in}}{L_{m} \\left(D_{0}^{2} - 2 D_{0} + 1\\right)}\\\\\\frac{I_{out}}{C_{f} \\left(D_{0} - 1\\right)}\\end{matrix}\\right]$"
      ],
      "text/plain": [
       "Matrix([\n",
       "[(-D_0*V_in - I_out*R_p*n + V_in)/(L_m*(D_0**2 - 2*D_0 + 1))],\n",
       "[                                      I_out/(C_f*(D_0 - 1))]])"
      ]
     },
     "execution_count": 19,
     "metadata": {},
     "output_type": "execute_result"
    }
   ],
   "source": [
    "E = sp.simplify((A1 - A2) * x0 + (B1 - B2) * u0)\n",
    "E"
   ]
  },
  {
   "cell_type": "code",
   "execution_count": 20,
   "metadata": {},
   "outputs": [
    {
     "data": {
      "text/latex": [
       "$\\displaystyle \\left[\\begin{matrix}0\\end{matrix}\\right]$"
      ],
      "text/plain": [
       "Matrix([[0]])"
      ]
     },
     "execution_count": 20,
     "metadata": {},
     "output_type": "execute_result"
    }
   ],
   "source": [
    "F = sp.simplify((C1 - C2) * x0 + (D1 - D2) * u0)\n",
    "F"
   ]
  },
  {
   "cell_type": "code",
   "execution_count": 21,
   "metadata": {},
   "outputs": [
    {
     "data": {
      "text/latex": [
       "$\\displaystyle \\left[\\begin{matrix}0 & \\frac{D_{0}}{L_{m}} & \\frac{- D_{0} V_{in} - I_{out} R_{p} n + V_{in}}{L_{m} \\left(D_{0}^{2} - 2 D_{0} + 1\\right)}\\\\- \\frac{1}{C_{f}} & 0 & \\frac{I_{out}}{C_{f} \\left(D_{0} - 1\\right)}\\end{matrix}\\right]$"
      ],
      "text/plain": [
       "Matrix([\n",
       "[     0, D_0/L_m, (-D_0*V_in - I_out*R_p*n + V_in)/(L_m*(D_0**2 - 2*D_0 + 1))],\n",
       "[-1/C_f,       0,                                       I_out/(C_f*(D_0 - 1))]])"
      ]
     },
     "execution_count": 21,
     "metadata": {},
     "output_type": "execute_result"
    }
   ],
   "source": [
    "new_B = sp.Matrix([[B, E]])\n",
    "new_B"
   ]
  },
  {
   "cell_type": "code",
   "execution_count": 22,
   "metadata": {},
   "outputs": [
    {
     "data": {
      "text/latex": [
       "$\\displaystyle \\left[\\begin{matrix}0 & 0 & 0\\end{matrix}\\right]$"
      ],
      "text/plain": [
       "Matrix([[0, 0, 0]])"
      ]
     },
     "execution_count": 22,
     "metadata": {},
     "output_type": "execute_result"
    }
   ],
   "source": [
    "new_D = sp.Matrix([[D, F]])\n",
    "new_D"
   ]
  },
  {
   "cell_type": "code",
   "execution_count": 23,
   "metadata": {},
   "outputs": [
    {
     "data": {
      "text/latex": [
       "$\\displaystyle \\operatorname{Poly}{\\left( \\left(V_{in} n + V_{out}\\right) D_{0}^{2} + \\left(I_{out} R_{p} n^{2} - I_{out} R_{s} - V_{in} n - 2 V_{out}\\right) D_{0} + I_{out} R_{s} + V_{out}, D_{0}, domain=\\mathbb{Z}\\left[n, I_{out}, R_{p}, R_{s}, V_{in}, V_{out}\\right] \\right)}$"
      ],
      "text/plain": [
       "Poly((V_in*n + V_out)*D_0**2 + (I_out*R_p*n**2 - I_out*R_s - V_in*n - 2*V_out)*D_0 + I_out*R_s + V_out, D_0, domain='ZZ[n,I_out,R_p,R_s,V_in,V_out]')"
      ]
     },
     "execution_count": 23,
     "metadata": {},
     "output_type": "execute_result"
    }
   ],
   "source": [
    "num, den = sp.fraction(sp.simplify(x0[1]))\n",
    "Vout = sp.symbols(\"V_out\")\n",
    "\n",
    "\n",
    "sp.Poly(Vout * den - num, D0)"
   ]
  },
  {
   "cell_type": "code",
   "execution_count": 24,
   "metadata": {},
   "outputs": [
    {
     "data": {
      "text/latex": [
       "$\\displaystyle \\left[\\begin{matrix}\\frac{D_{0} \\left(D_{0} V_{in} + I_{out} R_{p} n - V_{in}\\right)}{2 L_{m} f_{s} \\left(D_{0} - 1\\right)}\\\\- \\frac{D_{0} I_{out}}{2 C_{f} f_{s}}\\end{matrix}\\right]$"
      ],
      "text/plain": [
       "Matrix([\n",
       "[D_0*(D_0*V_in + I_out*R_p*n - V_in)/(2*L_m*f_s*(D_0 - 1))],\n",
       "[                                   -D_0*I_out/(2*C_f*f_s)]])"
      ]
     },
     "execution_count": 24,
     "metadata": {},
     "output_type": "execute_result"
    }
   ],
   "source": [
    "fs = sp.symbols(\"f_s\")\n",
    "deltaX0 = sp.simplify(\n",
    "    ((A1 * D0 - A2 * (1 - D0)) * x0 + (B1 * D0 - B2 * (1 - D0)) * u0) / (4 * fs)\n",
    ")\n",
    "deltaX0"
   ]
  },
  {
   "cell_type": "code",
   "execution_count": 25,
   "metadata": {},
   "outputs": [
    {
     "data": {
      "text/latex": [
       "$\\displaystyle \\operatorname{Expr}\\left(\\left[ \\frac{D_{0} \\left(- I_{out} R_{p} n + V_{in} \\left(1 - D_{0}\\right)\\right)}{2 I_{out} f_{s} n}\\right]\\right)$"
      ],
      "text/plain": [
       "Expr([D_0*(-I_out*R_p*n + V_in*(1 - D_0))/(2*I_out*f_s*n)])"
      ]
     },
     "execution_count": 25,
     "metadata": {},
     "output_type": "execute_result"
    }
   ],
   "source": [
    "sp.Expr(sp.solve(x0[0] - deltaX0[0], Lm))"
   ]
  },
  {
   "cell_type": "code",
   "execution_count": 28,
   "metadata": {},
   "outputs": [
    {
     "data": {
      "text/latex": [
       "$\\displaystyle \\operatorname{Expr}\\left(\\left[ - \\frac{D_{0} I_{out}}{2 V_{out} f_{s} k}\\right]\\right)$"
      ],
      "text/plain": [
       "Expr([-D_0*I_out/(2*V_out*f_s*k)])"
      ]
     },
     "execution_count": 28,
     "metadata": {},
     "output_type": "execute_result"
    }
   ],
   "source": [
    "Vout = sp.symbols(\"V_out\")\n",
    "k = sp.symbols(\"k\")\n",
    "sp.Expr(sp.solve(k * Vout - deltaX0[1], Cf))"
   ]
  },
  {
   "cell_type": "code",
   "execution_count": 29,
   "metadata": {},
   "outputs": [
    {
     "data": {
      "text/latex": [
       "$\\displaystyle \\left[\\begin{matrix}\\frac{n \\left(1 - D_{0}\\right)}{C_{f} D_{0} R_{p} n^{2} s - C_{f} D_{0} R_{s} s + C_{f} L_{m} n^{2} s^{2} + C_{f} R_{s} s + D_{0}^{2} - 2 D_{0} + 1} & \\frac{C_{f} D_{0} n^{2} s}{C_{f} D_{0} R_{p} n^{2} s - C_{f} D_{0} R_{s} s + C_{f} L_{m} n^{2} s^{2} + C_{f} R_{s} s + D_{0}^{2} - 2 D_{0} + 1} & \\frac{n \\left(- C_{f} n s \\left(D_{0} V_{in} + I_{out} R_{p} n - V_{in}\\right) + I_{out} \\left(D_{0}^{2} - 2 D_{0} + 1\\right)\\right)}{\\left(D_{0}^{2} - 2 D_{0} + 1\\right) \\left(C_{f} D_{0} R_{p} n^{2} s - C_{f} D_{0} R_{s} s + C_{f} L_{m} n^{2} s^{2} + C_{f} R_{s} s + D_{0}^{2} - 2 D_{0} + 1\\right)}\\end{matrix}\\right]$"
      ],
      "text/plain": [
       "Matrix([[n*(1 - D_0)/(C_f*D_0*R_p*n**2*s - C_f*D_0*R_s*s + C_f*L_m*n**2*s**2 + C_f*R_s*s + D_0**2 - 2*D_0 + 1), C_f*D_0*n**2*s/(C_f*D_0*R_p*n**2*s - C_f*D_0*R_s*s + C_f*L_m*n**2*s**2 + C_f*R_s*s + D_0**2 - 2*D_0 + 1), n*(-C_f*n*s*(D_0*V_in + I_out*R_p*n - V_in) + I_out*(D_0**2 - 2*D_0 + 1))/((D_0**2 - 2*D_0 + 1)*(C_f*D_0*R_p*n**2*s - C_f*D_0*R_s*s + C_f*L_m*n**2*s**2 + C_f*R_s*s + D_0**2 - 2*D_0 + 1))]])"
      ]
     },
     "execution_count": 29,
     "metadata": {},
     "output_type": "execute_result"
    }
   ],
   "source": [
    "s = sp.symbols(\"s\")\n",
    "I = sp.eye(2)\n",
    "\n",
    "G = sp.simplify(C * (s * I - A).inv() * new_B + new_D)\n",
    "G"
   ]
  },
  {
   "cell_type": "code",
   "execution_count": 34,
   "metadata": {},
   "outputs": [
    {
     "data": {
      "text/latex": [
       "$\\displaystyle \\operatorname{Poly}{\\left( s^{2} + \\frac{D_{0} R_{p} n^{2} - D_{0} R_{s} + R_{s}}{L_{m} n^{2}} s + \\frac{D_{0}^{2} - 2 D_{0} + 1}{C_{f} L_{m} n^{2}}, s, domain=\\mathbb{Z}\\left(n, C_{f}, D_{0}, L_{m}, R_{p}, R_{s}\\right) \\right)}$"
      ],
      "text/plain": [
       "Poly(s**2 + (D_0*R_p*n**2 - D_0*R_s + R_s)/(L_m*n**2)*s + (D_0**2 - 2*D_0 + 1)/(C_f*L_m*n**2), s, domain='ZZ(n,C_f,D_0,L_m,R_p,R_s)')"
      ]
     },
     "execution_count": 34,
     "metadata": {},
     "output_type": "execute_result"
    }
   ],
   "source": [
    "num, den = sp.fraction(G[0])\n",
    "sp.Poly(sp.simplify(den / (Cf * Lm * n**2)), s)"
   ]
  },
  {
   "cell_type": "code",
   "execution_count": null,
   "metadata": {},
   "outputs": [
    {
     "data": {
      "text/latex": [
       "$\\displaystyle \\operatorname{Expr}\\left(\\left[ \\frac{D_{0} \\left(D_{0} V_{in} + I_{out} R_{eq} n - V_{in}\\right)}{f_{s} \\sqrt{\\frac{P_{loss T}}{R_{eq}}} \\left(D_{0} - 1.0\\right)}\\right]\\right)$"
      ],
      "text/plain": [
       "Expr([D_0*(D_0*V_in + I_out*R_eq*n - V_in)/(f_s*sqrt(P_loss_T/R_eq)*(D_0 - 1.0))])"
      ]
     },
     "execution_count": 53,
     "metadata": {},
     "output_type": "execute_result"
    }
   ],
   "source": [
    "Req = sp.symbols(\"R_eq\")\n",
    "PlossT = sp.symbols(\"P_loss_T\")\n",
    "sp.Expr(sp.solve(sp.simplify(deltaX0[0] - 1 / 2 * sp.sqrt(PlossT / Req)), Lm))"
   ]
  }
 ],
 "metadata": {
  "kernelspec": {
   "display_name": "Python 3",
   "language": "python",
   "name": "python3"
  },
  "language_info": {
   "codemirror_mode": {
    "name": "ipython",
    "version": 3
   },
   "file_extension": ".py",
   "mimetype": "text/x-python",
   "name": "python",
   "nbconvert_exporter": "python",
   "pygments_lexer": "ipython3",
   "version": "3.12.3"
  }
 },
 "nbformat": 4,
 "nbformat_minor": 2
}
