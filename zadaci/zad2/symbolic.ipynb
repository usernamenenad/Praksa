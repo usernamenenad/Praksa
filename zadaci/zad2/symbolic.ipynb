{
 "cells": [
  {
   "cell_type": "code",
   "execution_count": 353,
   "metadata": {},
   "outputs": [],
   "source": [
    "import sympy as sp"
   ]
  },
  {
   "cell_type": "markdown",
   "metadata": {},
   "source": [
    "State space variables"
   ]
  },
  {
   "cell_type": "code",
   "execution_count": 354,
   "metadata": {},
   "outputs": [],
   "source": [
    "iLm = sp.symbols(\"i_Lm\")\n",
    "vC = sp.symbols(\"v_C\")"
   ]
  },
  {
   "cell_type": "markdown",
   "metadata": {},
   "source": [
    "Input variables"
   ]
  },
  {
   "cell_type": "code",
   "execution_count": 355,
   "metadata": {},
   "outputs": [],
   "source": [
    "iOut = sp.symbols(\"i_Out\")\n",
    "vIn = sp.symbols(\"v_In\")"
   ]
  },
  {
   "cell_type": "markdown",
   "metadata": {},
   "source": [
    "System parameters"
   ]
  },
  {
   "cell_type": "code",
   "execution_count": 356,
   "metadata": {},
   "outputs": [],
   "source": [
    "Lm = sp.symbols(\"L_m\")\n",
    "Cf = sp.symbols(\"C_f\")\n",
    "Req = sp.symbols(\"R_eq\")\n",
    "Rl = sp.symbols(\"R_l\")\n",
    "n = sp.symbols(\"n\")"
   ]
  },
  {
   "cell_type": "code",
   "execution_count": 357,
   "metadata": {},
   "outputs": [
    {
     "data": {
      "text/latex": [
       "$\\displaystyle \\left[\\begin{matrix}- \\frac{R_{eq}}{L_{m}} & 0\\\\0 & 0\\end{matrix}\\right]$"
      ],
      "text/plain": [
       "Matrix([\n",
       "[-R_eq/L_m, 0],\n",
       "[        0, 0]])"
      ]
     },
     "execution_count": 357,
     "metadata": {},
     "output_type": "execute_result"
    }
   ],
   "source": [
    "A1 = sp.Matrix([[-Req / Lm, 0], [0, 0]])\n",
    "A1"
   ]
  },
  {
   "cell_type": "code",
   "execution_count": 358,
   "metadata": {},
   "outputs": [
    {
     "data": {
      "text/latex": [
       "$\\displaystyle \\left[\\begin{matrix}0 & - \\frac{1}{L_{m} n}\\\\\\frac{1}{C_{f} n} & 0\\end{matrix}\\right]$"
      ],
      "text/plain": [
       "Matrix([\n",
       "[        0, -1/(L_m*n)],\n",
       "[1/(C_f*n),          0]])"
      ]
     },
     "execution_count": 358,
     "metadata": {},
     "output_type": "execute_result"
    }
   ],
   "source": [
    "A2 = sp.Matrix([[0, -1 / (n * Lm)], [1 / (n * Cf), 0]])\n",
    "A2"
   ]
  },
  {
   "cell_type": "code",
   "execution_count": 359,
   "metadata": {},
   "outputs": [
    {
     "data": {
      "text/latex": [
       "$\\displaystyle \\left[\\begin{matrix}0 & \\frac{1}{L_{m}}\\\\- \\frac{1}{C_{f}} & 0\\end{matrix}\\right]$"
      ],
      "text/plain": [
       "Matrix([\n",
       "[     0, 1/L_m],\n",
       "[-1/C_f,     0]])"
      ]
     },
     "execution_count": 359,
     "metadata": {},
     "output_type": "execute_result"
    }
   ],
   "source": [
    "B1 = sp.Matrix([[0, 1 / Lm], [-1 / Cf, 0]])\n",
    "B1"
   ]
  },
  {
   "cell_type": "code",
   "execution_count": 360,
   "metadata": {},
   "outputs": [
    {
     "data": {
      "text/latex": [
       "$\\displaystyle \\left[\\begin{matrix}0 & 0\\\\- \\frac{1}{C_{f}} & 0\\end{matrix}\\right]$"
      ],
      "text/plain": [
       "Matrix([\n",
       "[     0, 0],\n",
       "[-1/C_f, 0]])"
      ]
     },
     "execution_count": 360,
     "metadata": {},
     "output_type": "execute_result"
    }
   ],
   "source": [
    "B2 = sp.Matrix([[0, 0], [-1 / Cf, 0]])\n",
    "B2"
   ]
  },
  {
   "cell_type": "code",
   "execution_count": 361,
   "metadata": {},
   "outputs": [
    {
     "data": {
      "text/latex": [
       "$\\displaystyle \\left[\\begin{matrix}0 & 1\\end{matrix}\\right]$"
      ],
      "text/plain": [
       "Matrix([[0, 1]])"
      ]
     },
     "execution_count": 361,
     "metadata": {},
     "output_type": "execute_result"
    }
   ],
   "source": [
    "C1 = C2 = sp.Matrix([[0, 1]])\n",
    "C1"
   ]
  },
  {
   "cell_type": "code",
   "execution_count": 362,
   "metadata": {},
   "outputs": [
    {
     "data": {
      "text/latex": [
       "$\\displaystyle \\left[\\begin{matrix}0 & 0\\end{matrix}\\right]$"
      ],
      "text/plain": [
       "Matrix([[0, 0]])"
      ]
     },
     "execution_count": 362,
     "metadata": {},
     "output_type": "execute_result"
    }
   ],
   "source": [
    "D1 = D2 = sp.Matrix([[0, 0]])\n",
    "D1"
   ]
  },
  {
   "cell_type": "code",
   "execution_count": 363,
   "metadata": {},
   "outputs": [],
   "source": [
    "D0 = sp.symbols(\"D_0\")"
   ]
  },
  {
   "cell_type": "code",
   "execution_count": 364,
   "metadata": {},
   "outputs": [
    {
     "data": {
      "text/latex": [
       "$\\displaystyle \\left[\\begin{matrix}- \\frac{D_{0} R_{eq}}{L_{m}} & \\frac{D_{0} - 1}{L_{m} n}\\\\\\frac{1 - D_{0}}{C_{f} n} & 0\\end{matrix}\\right]$"
      ],
      "text/plain": [
       "Matrix([\n",
       "[    -D_0*R_eq/L_m, (D_0 - 1)/(L_m*n)],\n",
       "[(1 - D_0)/(C_f*n),                 0]])"
      ]
     },
     "execution_count": 364,
     "metadata": {},
     "output_type": "execute_result"
    }
   ],
   "source": [
    "A = sp.simplify(A1 * D0 + A2 * (1 - D0))\n",
    "A"
   ]
  },
  {
   "cell_type": "code",
   "execution_count": 365,
   "metadata": {},
   "outputs": [
    {
     "data": {
      "text/latex": [
       "$\\displaystyle \\left[\\begin{matrix}0 & \\frac{D_{0}}{L_{m}}\\\\- \\frac{1}{C_{f}} & 0\\end{matrix}\\right]$"
      ],
      "text/plain": [
       "Matrix([\n",
       "[     0, D_0/L_m],\n",
       "[-1/C_f,       0]])"
      ]
     },
     "execution_count": 365,
     "metadata": {},
     "output_type": "execute_result"
    }
   ],
   "source": [
    "B = sp.simplify(B1 * D0 + B2 * (1 - D0))\n",
    "B"
   ]
  },
  {
   "cell_type": "code",
   "execution_count": 366,
   "metadata": {},
   "outputs": [
    {
     "data": {
      "text/latex": [
       "$\\displaystyle \\left[\\begin{matrix}0 & 1\\end{matrix}\\right]$"
      ],
      "text/plain": [
       "Matrix([[0, 1]])"
      ]
     },
     "execution_count": 366,
     "metadata": {},
     "output_type": "execute_result"
    }
   ],
   "source": [
    "C = sp.simplify(C1 * D0 + C2 * (1 - D0))\n",
    "C"
   ]
  },
  {
   "cell_type": "code",
   "execution_count": 367,
   "metadata": {},
   "outputs": [
    {
     "data": {
      "text/latex": [
       "$\\displaystyle \\left[\\begin{matrix}0 & 0\\end{matrix}\\right]$"
      ],
      "text/plain": [
       "Matrix([[0, 0]])"
      ]
     },
     "execution_count": 367,
     "metadata": {},
     "output_type": "execute_result"
    }
   ],
   "source": [
    "D = sp.simplify(D1 * D0 + D2 * (1 - D0))\n",
    "D"
   ]
  },
  {
   "cell_type": "code",
   "execution_count": 368,
   "metadata": {},
   "outputs": [],
   "source": [
    "I_out = sp.symbols(\"I_out\")\n",
    "V_in = sp.symbols(\"V_in\")"
   ]
  },
  {
   "cell_type": "code",
   "execution_count": 369,
   "metadata": {},
   "outputs": [
    {
     "data": {
      "text/latex": [
       "$\\displaystyle \\left[\\begin{matrix}I_{out}\\\\V_{in}\\end{matrix}\\right]$"
      ],
      "text/plain": [
       "Matrix([\n",
       "[I_out],\n",
       "[ V_in]])"
      ]
     },
     "execution_count": 369,
     "metadata": {},
     "output_type": "execute_result"
    }
   ],
   "source": [
    "u0 = sp.Matrix([[I_out], [V_in]])\n",
    "u0"
   ]
  },
  {
   "cell_type": "code",
   "execution_count": 370,
   "metadata": {},
   "outputs": [
    {
     "data": {
      "text/latex": [
       "$\\displaystyle \\left[\\begin{matrix}- \\frac{I_{out} n}{D_{0} - 1}\\\\- \\frac{D_{0} n \\left(D_{0} V_{in} + I_{out} R_{eq} n - V_{in}\\right)}{D_{0}^{2} - 2 D_{0} + 1}\\end{matrix}\\right]$"
      ],
      "text/plain": [
       "Matrix([\n",
       "[                                          -I_out*n/(D_0 - 1)],\n",
       "[-D_0*n*(D_0*V_in + I_out*R_eq*n - V_in)/(D_0**2 - 2*D_0 + 1)]])"
      ]
     },
     "execution_count": 370,
     "metadata": {},
     "output_type": "execute_result"
    }
   ],
   "source": [
    "x0 = -sp.simplify(A.inv() * B * u0)\n",
    "x0"
   ]
  },
  {
   "cell_type": "code",
   "execution_count": 371,
   "metadata": {},
   "outputs": [
    {
     "data": {
      "text/latex": [
       "$\\displaystyle \\left[\\begin{matrix}\\frac{- D_{0} V_{in} - I_{out} R_{eq} n + V_{in}}{L_{m} \\left(D_{0}^{2} - 2 D_{0} + 1\\right)}\\\\\\frac{I_{out}}{C_{f} \\left(D_{0} - 1\\right)}\\end{matrix}\\right]$"
      ],
      "text/plain": [
       "Matrix([\n",
       "[(-D_0*V_in - I_out*R_eq*n + V_in)/(L_m*(D_0**2 - 2*D_0 + 1))],\n",
       "[                                       I_out/(C_f*(D_0 - 1))]])"
      ]
     },
     "execution_count": 371,
     "metadata": {},
     "output_type": "execute_result"
    }
   ],
   "source": [
    "E = sp.simplify((A1 - A2) * x0 + (B1 - B2) * u0)\n",
    "E"
   ]
  },
  {
   "cell_type": "code",
   "execution_count": 372,
   "metadata": {},
   "outputs": [
    {
     "data": {
      "text/latex": [
       "$\\displaystyle \\left[\\begin{matrix}0\\end{matrix}\\right]$"
      ],
      "text/plain": [
       "Matrix([[0]])"
      ]
     },
     "execution_count": 372,
     "metadata": {},
     "output_type": "execute_result"
    }
   ],
   "source": [
    "F = sp.simplify((C1 - C2) * x0 + (D1 - D2) * u0)\n",
    "F"
   ]
  },
  {
   "cell_type": "code",
   "execution_count": 373,
   "metadata": {},
   "outputs": [
    {
     "data": {
      "text/latex": [
       "$\\displaystyle \\left[\\begin{matrix}0 & \\frac{D_{0}}{L_{m}} & \\frac{- D_{0} V_{in} - I_{out} R_{eq} n + V_{in}}{L_{m} \\left(D_{0}^{2} - 2 D_{0} + 1\\right)}\\\\- \\frac{1}{C_{f}} & 0 & \\frac{I_{out}}{C_{f} \\left(D_{0} - 1\\right)}\\end{matrix}\\right]$"
      ],
      "text/plain": [
       "Matrix([\n",
       "[     0, D_0/L_m, (-D_0*V_in - I_out*R_eq*n + V_in)/(L_m*(D_0**2 - 2*D_0 + 1))],\n",
       "[-1/C_f,       0,                                        I_out/(C_f*(D_0 - 1))]])"
      ]
     },
     "execution_count": 373,
     "metadata": {},
     "output_type": "execute_result"
    }
   ],
   "source": [
    "new_B = sp.Matrix([[B, E]])\n",
    "new_B"
   ]
  },
  {
   "cell_type": "code",
   "execution_count": 374,
   "metadata": {},
   "outputs": [
    {
     "data": {
      "text/latex": [
       "$\\displaystyle \\left[\\begin{matrix}0 & 0 & 0\\end{matrix}\\right]$"
      ],
      "text/plain": [
       "Matrix([[0, 0, 0]])"
      ]
     },
     "execution_count": 374,
     "metadata": {},
     "output_type": "execute_result"
    }
   ],
   "source": [
    "new_D = sp.Matrix([[D, F]])\n",
    "new_D"
   ]
  },
  {
   "cell_type": "code",
   "execution_count": 375,
   "metadata": {},
   "outputs": [],
   "source": [
    "Rp = sp.symbols(\"R_p\")\n",
    "Rs = sp.symbols(\"R_s\")\n",
    "new_Req = D0 * Rp + Rs * (1 - D0) / n**2"
   ]
  },
  {
   "cell_type": "code",
   "execution_count": 376,
   "metadata": {},
   "outputs": [
    {
     "data": {
      "text/latex": [
       "$\\displaystyle \\left[\\begin{matrix}\\frac{- D_{0} R_{eq} - L_{m} s}{C_{f} L_{m}} & \\frac{D_{0} \\cdot \\left(1 - D_{0}\\right)}{C_{f} L_{m} n} & \\frac{D_{0} I_{out} R_{eq} n + D_{0} V_{in} + I_{out} L_{m} n s + I_{out} R_{eq} n - V_{in}}{C_{f} L_{m} n \\left(D_{0} - 1\\right)}\\end{matrix}\\right]$"
      ],
      "text/plain": [
       "Matrix([[(-D_0*R_eq - L_m*s)/(C_f*L_m), D_0*(1 - D_0)/(C_f*L_m*n), (D_0*I_out*R_eq*n + D_0*V_in + I_out*L_m*n*s + I_out*R_eq*n - V_in)/(C_f*L_m*n*(D_0 - 1))]])"
      ]
     },
     "execution_count": 376,
     "metadata": {},
     "output_type": "execute_result"
    }
   ],
   "source": [
    "s = sp.symbols(\"s\")\n",
    "I = sp.eye(2)\n",
    "G = sp.simplify(C * (s * I - A).adjugate() * new_B + new_D)\n",
    "G"
   ]
  },
  {
   "cell_type": "code",
   "execution_count": 377,
   "metadata": {},
   "outputs": [
    {
     "data": {
      "text/latex": [
       "$\\displaystyle \\operatorname{Poly}{\\left( s^{2} + \\frac{D_{0} R_{eq}}{L_{m}} s + \\frac{D_{0}^{2} - 2 D_{0} + 1}{C_{f} L_{m} n^{2}}, s, domain=\\mathbb{Z}\\left(n, C_{f}, D_{0}, L_{m}, R_{eq}\\right) \\right)}$"
      ],
      "text/plain": [
       "Poly(s**2 + D_0*R_eq/L_m*s + (D_0**2 - 2*D_0 + 1)/(C_f*L_m*n**2), s, domain='ZZ(n,C_f,D_0,L_m,R_eq)')"
      ]
     },
     "execution_count": 377,
     "metadata": {},
     "output_type": "execute_result"
    }
   ],
   "source": [
    "num, den = sp.fraction((s * I - A).det())\n",
    "f = sp.Poly(num / den, s)\n",
    "f"
   ]
  },
  {
   "cell_type": "code",
   "execution_count": 378,
   "metadata": {},
   "outputs": [
    {
     "data": {
      "text/latex": [
       "$\\displaystyle \\left[\\begin{matrix}\\frac{D_{0} \\left(D_{0} V_{in} + I_{out} R_{eq} n - V_{in}\\right)}{2 L_{m} f_{s} \\left(D_{0} - 1\\right)}\\\\- \\frac{D_{0} I_{out}}{2 C_{f} f_{s}}\\end{matrix}\\right]$"
      ],
      "text/plain": [
       "Matrix([\n",
       "[D_0*(D_0*V_in + I_out*R_eq*n - V_in)/(2*L_m*f_s*(D_0 - 1))],\n",
       "[                                    -D_0*I_out/(2*C_f*f_s)]])"
      ]
     },
     "execution_count": 378,
     "metadata": {},
     "output_type": "execute_result"
    }
   ],
   "source": [
    "f_s = sp.symbols(\"f_s\")\n",
    "deltaX = sp.simplify(\n",
    "    ((A1 * D0 - A2 * (1 - D0)) * x0 + (B1 * D0 - B2 * (1 - D0)) * u0) / (4 * f_s)\n",
    ")\n",
    "deltaX"
   ]
  },
  {
   "cell_type": "code",
   "execution_count": 379,
   "metadata": {},
   "outputs": [
    {
     "data": {
      "text/latex": [
       "$\\displaystyle \\frac{D_{0} \\left(D_{0} V_{in} + I_{out} R_{eq} n - V_{in}\\right)}{2 L_{m} f_{s} \\left(D_{0} - 1\\right)}$"
      ],
      "text/plain": [
       "D_0*(D_0*V_in + I_out*R_eq*n - V_in)/(2*L_m*f_s*(D_0 - 1))"
      ]
     },
     "execution_count": 379,
     "metadata": {},
     "output_type": "execute_result"
    }
   ],
   "source": [
    "deltaILm = sp.factor(deltaX[0])\n",
    "deltaILm"
   ]
  },
  {
   "cell_type": "code",
   "execution_count": 380,
   "metadata": {},
   "outputs": [
    {
     "data": {
      "text/latex": [
       "$\\displaystyle \\sqrt{\\frac{P_{loss T}}{R_{eq}}}$"
      ],
      "text/plain": [
       "sqrt(P_loss_T/R_eq)"
      ]
     },
     "execution_count": 380,
     "metadata": {},
     "output_type": "execute_result"
    }
   ],
   "source": [
    "PlossT = sp.symbols(\"P_loss_T\")\n",
    "ilmcalc = sp.sqrt(PlossT / Req)\n",
    "ilmcalc"
   ]
  },
  {
   "cell_type": "code",
   "execution_count": 381,
   "metadata": {},
   "outputs": [
    {
     "data": {
      "text/latex": [
       "$\\displaystyle \\operatorname{Expr}\\left(\\left[ \\frac{D_{0} \\left(D_{0} V_{in} + I_{out} R_{eq} n - V_{in}\\right)}{2 f_{s} \\sqrt{\\frac{P_{loss T}}{R_{eq}}} \\left(D_{0} - 1\\right)}\\right]\\right)$"
      ],
      "text/plain": [
       "Expr([D_0*(D_0*V_in + I_out*R_eq*n - V_in)/(2*f_s*sqrt(P_loss_T/R_eq)*(D_0 - 1))])"
      ]
     },
     "execution_count": 381,
     "metadata": {},
     "output_type": "execute_result"
    }
   ],
   "source": [
    "sp.Expr(sp.factor(sp.solve(deltaILm - ilmcalc, Lm)))"
   ]
  },
  {
   "cell_type": "code",
   "execution_count": 382,
   "metadata": {},
   "outputs": [
    {
     "data": {
      "text/latex": [
       "$\\displaystyle - \\frac{D_{0} I_{out}}{2 C_{f} f_{s}}$"
      ],
      "text/plain": [
       "-D_0*I_out/(2*C_f*f_s)"
      ]
     },
     "execution_count": 382,
     "metadata": {},
     "output_type": "execute_result"
    }
   ],
   "source": [
    "deltaCf = sp.factor(deltaX[1])\n",
    "deltaCf"
   ]
  },
  {
   "cell_type": "code",
   "execution_count": 383,
   "metadata": {},
   "outputs": [
    {
     "data": {
      "text/latex": [
       "$\\displaystyle \\operatorname{Poly}{\\left( \\left(I_{out} R_{p} n^{2} - I_{out} R_{s} + V_{in} n + V_{out}\\right) D_{0}^{2} + \\left(I_{out} R_{s} - V_{in} n - 2 V_{out}\\right) D_{0} + V_{out}, D_{0}, domain=\\mathbb{Z}\\left[n, I_{out}, R_{p}, R_{s}, V_{in}, V_{out}\\right] \\right)}$"
      ],
      "text/plain": [
       "Poly((I_out*R_p*n**2 - I_out*R_s + V_in*n + V_out)*D_0**2 + (I_out*R_s - V_in*n - 2*V_out)*D_0 + V_out, D_0, domain='ZZ[n,I_out,R_p,R_s,V_in,V_out]')"
      ]
     },
     "execution_count": 383,
     "metadata": {},
     "output_type": "execute_result"
    }
   ],
   "source": [
    "num, den = sp.fraction(sp.simplify(x0[1].subs({\"R_eq\": new_Req})))\n",
    "Vout = sp.symbols(\"V_out\")\n",
    "sp.Poly(den * Vout - num, D0)"
   ]
  },
  {
   "cell_type": "code",
   "execution_count": 422,
   "metadata": {},
   "outputs": [],
   "source": [
    "kp = sp.symbols(\"k_p\")\n",
    "ki = sp.symbols(\"k_i\")\n",
    "kd = sp.symbols(\"k_d\")\n",
    "N = sp.symbols(\"N\")"
   ]
  },
  {
   "cell_type": "code",
   "execution_count": 385,
   "metadata": {},
   "outputs": [
    {
     "data": {
      "text/latex": [
       "$\\displaystyle \\left[\\begin{matrix}\\frac{n^{2} \\left(- D_{0} R_{eq} - L_{m} s\\right)}{C_{f} D_{0} R_{eq} n^{2} s + C_{f} L_{m} n^{2} s^{2} + D_{0}^{2} - 2 D_{0} + 1} & \\frac{D_{0} n \\left(1 - D_{0}\\right)}{C_{f} D_{0} R_{eq} n^{2} s + C_{f} L_{m} n^{2} s^{2} + D_{0}^{2} - 2 D_{0} + 1} & \\frac{n \\left(I_{out} n \\left(D_{0} R_{eq} + L_{m} s\\right) \\left(D_{0}^{2} - 2 D_{0} + 1\\right) + \\left(D_{0} - 1\\right)^{2} \\left(D_{0} V_{in} + I_{out} R_{eq} n - V_{in}\\right)\\right)}{\\left(D_{0} - 1\\right) \\left(D_{0}^{2} - 2 D_{0} + 1\\right) \\left(C_{f} D_{0} R_{eq} n^{2} s + C_{f} L_{m} n^{2} s^{2} + D_{0}^{2} - 2 D_{0} + 1\\right)}\\end{matrix}\\right]$"
      ],
      "text/plain": [
       "Matrix([[n**2*(-D_0*R_eq - L_m*s)/(C_f*D_0*R_eq*n**2*s + C_f*L_m*n**2*s**2 + D_0**2 - 2*D_0 + 1), D_0*n*(1 - D_0)/(C_f*D_0*R_eq*n**2*s + C_f*L_m*n**2*s**2 + D_0**2 - 2*D_0 + 1), n*(I_out*n*(D_0*R_eq + L_m*s)*(D_0**2 - 2*D_0 + 1) + (D_0 - 1)**2*(D_0*V_in + I_out*R_eq*n - V_in))/((D_0 - 1)*(D_0**2 - 2*D_0 + 1)*(C_f*D_0*R_eq*n**2*s + C_f*L_m*n**2*s**2 + D_0**2 - 2*D_0 + 1))]])"
      ]
     },
     "execution_count": 385,
     "metadata": {},
     "output_type": "execute_result"
    }
   ],
   "source": [
    "G = sp.simplify(C * (s * I - A).inv() * new_B + new_D)\n",
    "G"
   ]
  },
  {
   "cell_type": "code",
   "execution_count": 425,
   "metadata": {},
   "outputs": [],
   "source": [
    "# a1 = kp + N * kd\n",
    "# a2 = ki + N * kp\n",
    "# a3 = ki * N\n",
    "a1 = sp.symbols(\"a_1\")\n",
    "a2 = sp.symbols(\"a_2\")\n",
    "a3 = sp.symbols(\"a_3\")\n",
    "a4 = sp.symbols(\"a_4\")"
   ]
  },
  {
   "cell_type": "code",
   "execution_count": 489,
   "metadata": {},
   "outputs": [
    {
     "data": {
      "text/latex": [
       "$\\displaystyle \\frac{a_{1} s^{2} + a_{2} s + a_{3}}{a_{4} s + s^{2}}$"
      ],
      "text/plain": [
       "(a_1*s**2 + a_2*s + a_3)/(a_4*s + s**2)"
      ]
     },
     "execution_count": 489,
     "metadata": {},
     "output_type": "execute_result"
    }
   ],
   "source": [
    "PID = (a1 * s**2 + a2 * s + a3) / (s**2 + a4 * s)\n",
    "PID\n",
    "# PID = (a1 * s + a2) / s\n",
    "# PID"
   ]
  },
  {
   "cell_type": "code",
   "execution_count": 490,
   "metadata": {},
   "outputs": [],
   "source": [
    "b1 = sp.symbols(\"b_1\")\n",
    "b2 = sp.symbols(\"b_2\")\n",
    "b3 = sp.symbols(\"b_3\")\n",
    "b4 = sp.symbols(\"b_4\")"
   ]
  },
  {
   "cell_type": "code",
   "execution_count": 491,
   "metadata": {},
   "outputs": [
    {
     "data": {
      "text/latex": [
       "$\\displaystyle \\frac{b_{1} s + b_{2}}{b_{3} s + b_{4} + s^{2}}$"
      ],
      "text/plain": [
       "(b_1*s + b_2)/(b_3*s + b_4 + s**2)"
      ]
     },
     "execution_count": 491,
     "metadata": {},
     "output_type": "execute_result"
    }
   ],
   "source": [
    "GDV = (b1 * s + b2) / (s**2 + b3 * s + b4)\n",
    "GDV"
   ]
  },
  {
   "cell_type": "code",
   "execution_count": 492,
   "metadata": {},
   "outputs": [
    {
     "data": {
      "text/latex": [
       "$\\displaystyle \\frac{\\left(b_{1} s + b_{2}\\right) \\left(a_{1} s^{2} + a_{2} s + a_{3}\\right)}{\\left(a_{4} s + s^{2}\\right) \\left(b_{3} s + b_{4} + s^{2}\\right)}$"
      ],
      "text/plain": [
       "(b_1*s + b_2)*(a_1*s**2 + a_2*s + a_3)/((a_4*s + s**2)*(b_3*s + b_4 + s**2))"
      ]
     },
     "execution_count": 492,
     "metadata": {},
     "output_type": "execute_result"
    }
   ],
   "source": [
    "PID * GDV"
   ]
  },
  {
   "cell_type": "code",
   "execution_count": 493,
   "metadata": {},
   "outputs": [
    {
     "data": {
      "text/latex": [
       "$\\displaystyle \\frac{\\left(b_{1} s + b_{2}\\right) \\left(a_{1} s^{2} + a_{2} s + a_{3}\\right)}{s \\left(a_{4} + s\\right) \\left(b_{3} s + b_{4} + s^{2}\\right) + \\left(b_{1} s + b_{2}\\right) \\left(a_{1} s^{2} + a_{2} s + a_{3}\\right)}$"
      ],
      "text/plain": [
       "(b_1*s + b_2)*(a_1*s**2 + a_2*s + a_3)/(s*(a_4 + s)*(b_3*s + b_4 + s**2) + (b_1*s + b_2)*(a_1*s**2 + a_2*s + a_3))"
      ]
     },
     "execution_count": 493,
     "metadata": {},
     "output_type": "execute_result"
    }
   ],
   "source": [
    "Gsys = sp.simplify(PID * GDV / (1 + PID * GDV))\n",
    "Gsys"
   ]
  },
  {
   "cell_type": "code",
   "execution_count": 494,
   "metadata": {},
   "outputs": [
    {
     "data": {
      "text/plain": [
       "((b_1*s + b_2)*(a_1*s**2 + a_2*s + a_3),\n",
       " s*(a_4 + s)*(b_3*s + b_4 + s**2) + (b_1*s + b_2)*(a_1*s**2 + a_2*s + a_3))"
      ]
     },
     "execution_count": 494,
     "metadata": {},
     "output_type": "execute_result"
    }
   ],
   "source": [
    "num, den = sp.fraction(Gsys)\n",
    "num, den"
   ]
  },
  {
   "cell_type": "code",
   "execution_count": 496,
   "metadata": {},
   "outputs": [
    {
     "data": {
      "text/latex": [
       "$\\displaystyle \\operatorname{Poly}{\\left( \\frac{a_{1}^{2} b_{1}^{2} + a_{1} a_{4} b_{1} + a_{1} b_{1} b_{3} - a_{1} b_{1} p - a_{1} b_{2} - a_{2} b_{1}}{a_{1} b_{1}} s^{3} + \\frac{a_{1}^{2} b_{1} b_{2} + a_{1} a_{2} b_{1}^{2} + a_{1} a_{4} b_{1} b_{3} + a_{1} b_{1} b_{4} - a_{1} b_{2} p - a_{2} b_{1} p - a_{2} b_{2} - a_{3} b_{1}}{a_{1} b_{1}} s^{2} + \\frac{a_{1} a_{2} b_{1} b_{2} + a_{1} a_{3} b_{1}^{2} + a_{1} a_{4} b_{1} b_{4} - a_{2} b_{2} p - a_{3} b_{1} p - a_{3} b_{2}}{a_{1} b_{1}} s + \\frac{a_{1} a_{3} b_{1} b_{2} - a_{3} b_{2} p}{a_{1} b_{1}}, s, domain=\\mathbb{Z}\\left(p, a_{1}, a_{2}, a_{3}, a_{4}, b_{1}, b_{2}, b_{3}, b_{4}\\right) \\right)}$"
      ],
      "text/plain": [
       "Poly((a_1**2*b_1**2 + a_1*a_4*b_1 + a_1*b_1*b_3 - a_1*b_1*p - a_1*b_2 - a_2*b_1)/(a_1*b_1)*s**3 + (a_1**2*b_1*b_2 + a_1*a_2*b_1**2 + a_1*a_4*b_1*b_3 + a_1*b_1*b_4 - a_1*b_2*p - a_2*b_1*p - a_2*b_2 - a_3*b_1)/(a_1*b_1)*s**2 + (a_1*a_2*b_1*b_2 + a_1*a_3*b_1**2 + a_1*a_4*b_1*b_4 - a_2*b_2*p - a_3*b_1*p - a_3*b_2)/(a_1*b_1)*s + (a_1*a_3*b_1*b_2 - a_3*b_2*p)/(a_1*b_1), s, domain='ZZ(p,a_1,a_2,a_3,a_4,b_1,b_2,b_3,b_4)')"
      ]
     },
     "execution_count": 496,
     "metadata": {},
     "output_type": "execute_result"
    }
   ],
   "source": [
    "K = sp.symbols(\"K\")\n",
    "p = sp.symbols(\"p\")\n",
    "\n",
    "fw = (s + p) * (s**2 + a2 / a1 * s + a3 / a1) * (s + b2 / b1)\n",
    "sp.Poly(den - fw, s)"
   ]
  }
 ],
 "metadata": {
  "kernelspec": {
   "display_name": "Python 3",
   "language": "python",
   "name": "python3"
  },
  "language_info": {
   "codemirror_mode": {
    "name": "ipython",
    "version": 3
   },
   "file_extension": ".py",
   "mimetype": "text/x-python",
   "name": "python",
   "nbconvert_exporter": "python",
   "pygments_lexer": "ipython3",
   "version": "3.12.2"
  }
 },
 "nbformat": 4,
 "nbformat_minor": 2
}
