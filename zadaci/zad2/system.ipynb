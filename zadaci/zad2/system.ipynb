{
 "cells": [
  {
   "cell_type": "code",
   "execution_count": 9,
   "metadata": {},
   "outputs": [],
   "source": [
    "using ControlSystems\n",
    "using Polynomials"
   ]
  },
  {
   "cell_type": "code",
   "execution_count": 17,
   "metadata": {},
   "outputs": [],
   "source": [
    "PlossT = 0.5;\n",
    "n = 0.1;\n",
    "Vin = 230 * sqrt(2);\n",
    "Pout = [7.5, 100];\n",
    "Vout = [5, 12];\n",
    "fs = 2500;\n",
    "k = 0.01;"
   ]
  },
  {
   "cell_type": "code",
   "execution_count": 11,
   "metadata": {},
   "outputs": [
    {
     "data": {
      "text/plain": [
       "Dict{Tuple{Float64, Float64}, Float64} with 4 entries:\n",
       "  (5.0, 7.5)    => 0.0399905\n",
       "  (5.0, 100.0)  => 0.0398961\n",
       "  (12.0, 7.5)   => 0.0911698\n",
       "  (12.0, 100.0) => 0.0907064"
      ]
     },
     "metadata": {},
     "output_type": "display_data"
    }
   ],
   "source": [
    "D0 = Dict{Tuple{Float64,Float64},Float64}()\n",
    "for vout ∈ Vout\n",
    "    for pout ∈ Pout\n",
    "        D0[(vout, pout)] = roots(Polynomial([-pout, n * Vin * pout / vout + pout - PlossT, PlossT]))[2]\n",
    "    end\n",
    "end\n",
    "D0"
   ]
  },
  {
   "cell_type": "code",
   "execution_count": 12,
   "metadata": {},
   "outputs": [
    {
     "data": {
      "text/plain": [
       "Dict{Tuple{Float64, Float64}, Float64} with 4 entries:\n",
       "  (5.0, 7.5)    => 0.00448804\n",
       "  (5.0, 100.0)  => 0.000336669\n",
       "  (12.0, 7.5)   => 0.0231683\n",
       "  (12.0, 100.0) => 0.00173939"
      ]
     },
     "metadata": {},
     "output_type": "display_data"
    }
   ],
   "source": [
    "Lm = Dict{Tuple{Float64,Float64},Float64}()\n",
    "for vout ∈ Vout\n",
    "    for pout ∈ Pout\n",
    "        Lm[(vout, pout)] = (((1 - D0[vout, pout]) * vout)^2) / (2 * n^2 * fs * pout)\n",
    "    end\n",
    "end\n",
    "Lm"
   ]
  },
  {
   "cell_type": "code",
   "execution_count": 13,
   "metadata": {},
   "outputs": [
    {
     "data": {
      "text/plain": [
       "Dict{Tuple{Float64, Float64}, Float64} with 4 entries:\n",
       "  (5.0, 7.5)    => 0.000239943\n",
       "  (5.0, 100.0)  => 0.00319169\n",
       "  (12.0, 7.5)   => 9.49686e-5\n",
       "  (12.0, 100.0) => 0.00125981"
      ]
     },
     "metadata": {},
     "output_type": "display_data"
    }
   ],
   "source": [
    "Cf = Dict{Tuple{Float64,Float64},Float64}()\n",
    "for vout ∈ Vout\n",
    "    for pout ∈ Pout\n",
    "        Cf[(vout, pout)] = (D0[vout, pout] * pout) / (2 * k * fs * vout^2)\n",
    "    end\n",
    "end\n",
    "Cf"
   ]
  },
  {
   "cell_type": "code",
   "execution_count": 14,
   "metadata": {},
   "outputs": [
    {
     "data": {
      "text/plain": [
       "Dict{Tuple{Float64, Float64}, Float64} with 4 entries:\n",
       "  (5.0, 7.5)    => 1.55833\n",
       "  (5.0, 100.0)  => 0.00876647\n",
       "  (12.0, 7.5)   => 8.49746\n",
       "  (12.0, 100.0) => 0.0478226"
      ]
     },
     "metadata": {},
     "output_type": "display_data"
    }
   ],
   "source": [
    "ReqCalc = Dict{Tuple{Float64,Float64},Float64}()\n",
    "for vout ∈ Vout\n",
    "    for pout ∈ Pout\n",
    "        ReqCalc[(vout, pout)] = (n * D0[vout, pout] * Vin - (1 - D0[vout, pout]) * vout) / (n^2 * D0[vout, pout] * pout / vout)\n",
    "    end\n",
    "end\n",
    "ReqCalc"
   ]
  },
  {
   "cell_type": "code",
   "execution_count": 19,
   "metadata": {},
   "outputs": [
    {
     "data": {
      "text/plain": [
       "getD0 (generic function with 1 method)"
      ]
     },
     "metadata": {},
     "output_type": "display_data"
    }
   ],
   "source": [
    "function getD0(vout, pout)\n",
    "    return roots(Polynomial([-pout, n * Vin * pout / vout + pout - PlossT, PlossT]))[2]\n",
    "end"
   ]
  },
  {
   "cell_type": "code",
   "execution_count": 15,
   "metadata": {},
   "outputs": [
    {
     "data": {
      "text/plain": [
       "Dict{Tuple{Float64, Float64}, Float64} with 4 entries:\n",
       "  (5.0, 7.5)    => 0.578119\n",
       "  (5.0, 100.0)  => 7.7075\n",
       "  (12.0, 7.5)   => 0.254448\n",
       "  (12.0, 100.0) => 3.39091"
      ]
     },
     "metadata": {},
     "output_type": "display_data"
    }
   ],
   "source": [
    "ILm = Dict{Tuple{Float64,Float64},Float64}()\n",
    "for vout ∈ Vout\n",
    "    for pout ∈ Pout\n",
    "        ILm[(vout, pout)] = (n * pout / vout) / (1 - D0[vout, pout])\n",
    "    end\n",
    "end\n",
    "ILm"
   ]
  },
  {
   "cell_type": "code",
   "execution_count": 16,
   "metadata": {},
   "outputs": [
    {
     "data": {
      "text/plain": [
       "Dict{Tuple{Float64, Float64}, Float64} with 4 entries:\n",
       "  (5.0, 7.5)    => 0.520828\n",
       "  (5.0, 100.0)  => 0.520777\n",
       "  (12.0, 7.5)   => 0.550158\n",
       "  (12.0, 100.0) => 0.549877"
      ]
     },
     "metadata": {},
     "output_type": "display_data"
    }
   ],
   "source": [
    "Losses = Dict{Tuple{Float64,Float64},Float64}()\n",
    "for vout ∈ Vout\n",
    "    for pout ∈ Pout\n",
    "        Losses[(vout, pout)] = \n",
    "    end\n",
    "end\n",
    "Losses"
   ]
  }
 ],
 "metadata": {
  "kernelspec": {
   "display_name": "Julia 1.10.0",
   "language": "julia",
   "name": "julia-1.10"
  },
  "language_info": {
   "file_extension": ".jl",
   "mimetype": "application/julia",
   "name": "julia",
   "version": "1.10.0"
  }
 },
 "nbformat": 4,
 "nbformat_minor": 2
}
