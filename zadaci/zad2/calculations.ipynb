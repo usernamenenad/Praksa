{
 "cells": [
  {
   "cell_type": "code",
   "execution_count": 1,
   "metadata": {},
   "outputs": [],
   "source": [
    "using ControlSystems\n",
    "using Polynomials"
   ]
  },
  {
   "cell_type": "code",
   "execution_count": 2,
   "metadata": {},
   "outputs": [],
   "source": [
    "PlossT = 0.5;\n",
    "n = 0.1;\n",
    "Vin = 230 * sqrt(2);\n",
    "Pout = [7.5, 100];\n",
    "Vout = [5, 12];\n",
    "fs = 2500;\n",
    "k = 0.01;\n",
    "Rp = 0.001;\n",
    "Rs = 0.0001;"
   ]
  },
  {
   "cell_type": "code",
   "execution_count": 3,
   "metadata": {},
   "outputs": [
    {
     "data": {
      "text/plain": [
       "Dict{Tuple{Float64, Float64}, Float64} with 4 entries:\n",
       "  (5.0, 7.5)    => 0.133238\n",
       "  (5.0, 100.0)  => 0.133245\n",
       "  (12.0, 7.5)   => 0.2695\n",
       "  (12.0, 100.0) => 0.269505"
      ]
     },
     "metadata": {},
     "output_type": "display_data"
    }
   ],
   "source": [
    "D0 = Dict{Tuple{Float64,Float64},Float64}()\n",
    "for vout ∈ Vout\n",
    "    for pout ∈ Pout\n",
    "        D0[(vout, pout)] = roots(Polynomial([vout, Rs * pout / vout - n * Vin - 2 * vout, (n^2 * Rp - Rs) * pout / vout + n * Vin + vout]))[1]\n",
    "    end\n",
    "end\n",
    "D0"
   ]
  },
  {
   "cell_type": "code",
   "execution_count": 4,
   "metadata": {},
   "outputs": [
    {
     "data": {
      "text/plain": [
       "Dict{Tuple{Float64, Float64}, Float64} with 4 entries:\n",
       "  (5.0, 7.5)    => 1.14995\n",
       "  (5.0, 100.0)  => 1.14993\n",
       "  (12.0, 7.5)   => 2.15786\n",
       "  (12.0, 100.0) => 2.15784"
      ]
     },
     "metadata": {},
     "output_type": "display_data"
    }
   ],
   "source": [
    "Lm = Dict{Tuple{Float64,Float64},Float64}()\n",
    "for vout ∈ Vout\n",
    "    for pout ∈ Pout\n",
    "        d = D0[vout, pout]\n",
    "        num = d * ((1 - d) * (n * Vin - Rs * pout / vout) - n^2 * d * Rp * pout / vout)\n",
    "        den = 2 * n * fs * (1 - d) * sqrt((n^2 * PlossT) / (n^2 * d * Rp + (1 - d) * Rs))\n",
    "        Lm[(vout, pout)] = num / den * 1e3\n",
    "    end\n",
    "end\n",
    "Lm"
   ]
  },
  {
   "cell_type": "code",
   "execution_count": 5,
   "metadata": {},
   "outputs": [
    {
     "data": {
      "text/plain": [
       "Dict{Tuple{Float64, Float64}, Float64} with 4 entries:\n",
       "  (5.0, 7.5)    => 0.79943\n",
       "  (5.0, 100.0)  => 10.6596\n",
       "  (12.0, 7.5)   => 0.28073\n",
       "  (12.0, 100.0) => 3.74313"
      ]
     },
     "metadata": {},
     "output_type": "display_data"
    }
   ],
   "source": [
    "Cf = Dict{Tuple{Float64,Float64},Float64}()\n",
    "for vout ∈ Vout\n",
    "    for pout ∈ Pout\n",
    "        Cf[(vout, pout)] = (D0[vout, pout] * pout) / (2 * k * fs * vout^2) * 1e3\n",
    "    end\n",
    "end\n",
    "Cf"
   ]
  },
  {
   "cell_type": "code",
   "execution_count": 6,
   "metadata": {},
   "outputs": [],
   "source": [
    "Lm = 5e-3;\n",
    "Cf = 15e-3;"
   ]
  }
 ],
 "metadata": {
  "kernelspec": {
   "display_name": "Julia 1.10.3",
   "language": "julia",
   "name": "julia-1.10"
  },
  "language_info": {
   "file_extension": ".jl",
   "mimetype": "application/julia",
   "name": "julia",
   "version": "1.10.3"
  }
 },
 "nbformat": 4,
 "nbformat_minor": 2
}
