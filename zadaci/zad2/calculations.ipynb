{
 "cells": [
  {
   "cell_type": "code",
   "execution_count": 1,
   "metadata": {},
   "outputs": [],
   "source": [
    "using ControlSystems\n",
    "using Polynomials"
   ]
  },
  {
   "cell_type": "code",
   "execution_count": 2,
   "metadata": {},
   "outputs": [],
   "source": [
    "PlossT = 0.5;\n",
    "n = 0.1;\n",
    "Vin = 230 * sqrt(2);\n",
    "Pout = [7.5, 100];\n",
    "Vout = 5\n",
    "fs = 2500;\n",
    "k = 0.03;\n",
    "Rp = 0.001;\n",
    "Rs = 0.0001;"
   ]
  },
  {
   "cell_type": "code",
   "execution_count": 4,
   "metadata": {},
   "outputs": [
    {
     "data": {
      "text/plain": [
       "Dict{Tuple{Float64, Float64}, Float64} with 2 entries:\n",
       "  (5.0, 7.5)   => 0.133238\n",
       "  (5.0, 100.0) => 0.133245"
      ]
     },
     "metadata": {},
     "output_type": "display_data"
    }
   ],
   "source": [
    "D0 = Dict{Tuple{Float64,Float64},Float64}()\n",
    "for pout ∈ Pout\n",
    "    D0[Vout, pout] = roots(Polynomial([Vout, Rs * pout / Vout - n * Vin - 2 * Vout, (n^2 * Rp - Rs) * pout / Vout + n * Vin + Vout]))[1]\n",
    "end\n",
    "D0"
   ]
  },
  {
   "cell_type": "code",
   "execution_count": 6,
   "metadata": {},
   "outputs": [
    {
     "data": {
      "text/plain": [
       "Dict{Tuple{Float64, Float64}, Float64} with 2 entries:\n",
       "  (5.0, 7.5)   => 1.14995\n",
       "  (5.0, 100.0) => 1.14993"
      ]
     },
     "metadata": {},
     "output_type": "display_data"
    }
   ],
   "source": [
    "Lm = Dict{Tuple{Float64,Float64},Float64}()\n",
    "for pout ∈ Pout\n",
    "    d = D0[Vout, pout]\n",
    "    num = d * ((1 - d) * (n * Vin - Rs * pout / Vout) - n^2 * d * Rp * pout / Vout)\n",
    "    den = 2 * n * fs * (1 - d) * sqrt((n^2 * PlossT) / (n^2 * d * Rp + (1 - d) * Rs))\n",
    "    Lm[Vout, pout] = num / den * 1e3\n",
    "end\n",
    "Lm"
   ]
  },
  {
   "cell_type": "code",
   "execution_count": 32,
   "metadata": {},
   "outputs": [
    {
     "data": {
      "text/plain": [
       "Dict{Tuple{Float64, Float64, Float64}, Float64} with 4 entries:\n",
       "  (12.0, 100.0, 325.269) => 1.24771\n",
       "  (5.0, 7.5, 325.269)    => 0.266477\n",
       "  (5.0, 100.0, 325.269)  => 3.5532\n",
       "  (12.0, 7.5, 325.269)   => 0.0935765"
      ]
     },
     "metadata": {},
     "output_type": "display_data"
    }
   ],
   "source": [
    "Cf = Dict{Tuple{Float64,Float64,Float64},Float64}()\n",
    "for pout ∈ Pout\n",
    "    Cf[(vout, pout, vin)] = (D0[vout, pout, vin] * pout) / (2 * k * fs * vout^2) * 1e3\n",
    "end\n",
    "Cf"
   ]
  }
 ],
 "metadata": {
  "kernelspec": {
   "display_name": "Julia 1.10.3",
   "language": "julia",
   "name": "julia-1.10"
  },
  "language_info": {
   "file_extension": ".jl",
   "mimetype": "application/julia",
   "name": "julia",
   "version": "1.10.3"
  }
 },
 "nbformat": 4,
 "nbformat_minor": 2
}
