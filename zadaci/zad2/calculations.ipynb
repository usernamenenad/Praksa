{
 "cells": [
  {
   "cell_type": "code",
   "execution_count": 2,
   "metadata": {},
   "outputs": [],
   "source": [
    "using ControlSystems\n",
    "using Polynomials"
   ]
  },
  {
   "cell_type": "code",
   "execution_count": 13,
   "metadata": {},
   "outputs": [],
   "source": [
    "PlossT = 0.4;\n",
    "n = 0.1;\n",
    "Vin = 230 * sqrt(2);\n",
    "Pout = [7.5, 100];\n",
    "Vout = 5\n",
    "fs = 2500;\n",
    "k = 0.03 / 2;\n",
    "Rp = 0.001;\n",
    "Rs = 0.0001;"
   ]
  },
  {
   "cell_type": "code",
   "execution_count": 14,
   "metadata": {},
   "outputs": [
    {
     "data": {
      "text/plain": [
       "Dict{Tuple{Float64, Float64}, Float64} with 2 entries:\n",
       "  (5.0, 7.5)   => 3.33333\n",
       "  (5.0, 100.0) => 0.25"
      ]
     },
     "metadata": {},
     "output_type": "display_data"
    }
   ],
   "source": [
    "Rl = Dict{Tuple{Float64,Float64},Float64}()\n",
    "for pout ∈ Pout\n",
    "    Rl[Vout, pout] = Vout^2 / pout\n",
    "end\n",
    "Rl"
   ]
  },
  {
   "cell_type": "code",
   "execution_count": 15,
   "metadata": {},
   "outputs": [
    {
     "data": {
      "text/plain": [
       "Dict{Tuple{Float64, Float64}, Float64} with 2 entries:\n",
       "  (5.0, 7.5)   => 0.133238\n",
       "  (5.0, 100.0) => 0.133245"
      ]
     },
     "metadata": {},
     "output_type": "display_data"
    }
   ],
   "source": [
    "D0 = Dict{Tuple{Float64,Float64},Float64}()\n",
    "for pout ∈ Pout\n",
    "    D0[Vout, pout] = roots(Polynomial([Vout^3 / pout, Rs * Vout - (n * Vin + 2 * Vout) * Vout^2 / pout, (n * Vin + Vout) * Vout^2 / pout + (n^2 * Rp - Rs) * Vout]))[1]\n",
    "end\n",
    "D0"
   ]
  },
  {
   "cell_type": "code",
   "execution_count": 16,
   "metadata": {},
   "outputs": [
    {
     "data": {
      "text/plain": [
       "Dict{Tuple{Float64, Float64}, Float64} with 2 entries:\n",
       "  (5.0, 7.5)   => 0.00880086\n",
       "  (5.0, 100.0) => 0.0088008"
      ]
     },
     "metadata": {},
     "output_type": "display_data"
    }
   ],
   "source": [
    "Req = Dict{Tuple{Float64,Float64},Float64}()\n",
    "for pout ∈ Pout\n",
    "    Req[Vout, pout] = D0[Vout, pout] * Rp + (1 - D0[Vout, pout]) / n^2 * Rs\n",
    "end\n",
    "Req"
   ]
  },
  {
   "cell_type": "code",
   "execution_count": 17,
   "metadata": {},
   "outputs": [
    {
     "data": {
      "text/plain": [
       "Dict{Tuple{Float64, Float64}, Float64} with 2 entries:\n",
       "  (5.0, 7.5)   => 1.85138\n",
       "  (5.0, 100.0) => 1.85136"
      ]
     },
     "metadata": {},
     "output_type": "display_data"
    }
   ],
   "source": [
    "Lm = Dict{Tuple{Float64,Float64},Float64}()\n",
    "vin = 1.2 * Vin\n",
    "for pout ∈ Pout\n",
    "    d = D0[Vout, pout]\n",
    "    req = Req[Vout, pout]\n",
    "    rl = Rl[Vout, pout]\n",
    "    num = (1 - d)^2 * d * rl * 1.2 * vin\n",
    "    den = 2 * fs * ((1 - d)^2 * rl + n^2 * d * req) * sqrt(PlossT / req)\n",
    "    Lm[Vout, pout] = num / den * 1e3\n",
    "end\n",
    "Lm"
   ]
  },
  {
   "cell_type": "code",
   "execution_count": 19,
   "metadata": {},
   "outputs": [
    {
     "data": {
      "text/plain": [
       "Dict{Tuple{Float64, Float64}, Float64} with 2 entries:\n",
       "  (5.0, 7.5)   => 0.639544\n",
       "  (5.0, 100.0) => 8.52768"
      ]
     },
     "metadata": {},
     "output_type": "display_data"
    }
   ],
   "source": [
    "Cf = Dict{Tuple{Float64,Float64},Float64}()\n",
    "vin = 1.2 * Vin\n",
    "for pout ∈ Pout\n",
    "    d = D0[Vout, pout]\n",
    "    req = Req[Vout, pout]\n",
    "    rl = Rl[Vout, pout]\n",
    "    Cf[(Vout, pout)] = ((1 - d) * n * d^2 * vin) / (2 * fs * k * Vout * ((1 - d)^2 * rl + n^2 * d * req)) * 1e3\n",
    "end\n",
    "Cf"
   ]
  }
 ],
 "metadata": {
  "kernelspec": {
   "display_name": "Julia 1.10.3",
   "language": "julia",
   "name": "julia-1.10"
  },
  "language_info": {
   "file_extension": ".jl",
   "mimetype": "application/julia",
   "name": "julia",
   "version": "1.10.3"
  }
 },
 "nbformat": 4,
 "nbformat_minor": 2
}
