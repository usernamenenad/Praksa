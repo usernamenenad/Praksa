{
 "cells": [
  {
   "cell_type": "code",
   "execution_count": 22,
   "metadata": {},
   "outputs": [],
   "source": [
    "using ControlSystems\n",
    "using Polynomials\n",
    "using Plots"
   ]
  },
  {
   "cell_type": "code",
   "execution_count": 23,
   "metadata": {},
   "outputs": [],
   "source": [
    "PlossT = 0.5;\n",
    "n = 0.1;\n",
    "Vin = 230 * sqrt(2);\n",
    "Pout = 100;\n",
    "Vout = 5;\n",
    "fs = 2500;\n",
    "k = 0.01;\n",
    "Rp = 0.001;\n",
    "Rs = 0.0001;\n",
    "Lm = 5e-3;\n",
    "Cf = 5e-3;\n",
    "D0 = roots(Polynomial([Vout, Rs * Pout / Vout - n * Vin - 2 * Vout, (n^2 * Rp - Rs) * Pout / Vout + n * Vin + Vout]))[1];\n",
    "Req = D0 * Rp + (1 - D0) * Rs / n^2;"
   ]
  },
  {
   "cell_type": "code",
   "execution_count": 24,
   "metadata": {},
   "outputs": [
    {
     "data": {
      "text/plain": [
       "2×2 Matrix{Float64}:\n",
       "   -0.234532  -1733.51\n",
       " 1733.51          0.0"
      ]
     },
     "metadata": {},
     "output_type": "display_data"
    }
   ],
   "source": [
    "A = [(-D0*Req/Lm) (-(1 - D0)/(n*Lm)); (1-D0)/(n*Cf) 0]"
   ]
  },
  {
   "cell_type": "code",
   "execution_count": 25,
   "metadata": {},
   "outputs": [
    {
     "data": {
      "text/plain": [
       "2×3 Matrix{Float64}:\n",
       "    0.0  26.649  75049.8\n",
       " -200.0   0.0    -4614.91"
      ]
     },
     "metadata": {},
     "output_type": "display_data"
    }
   ],
   "source": [
    "B = [0 D0/Lm (((1-D0)*Vin-n*Req*Pout/Vout)/(Lm*(1-D0)^2)); -1/Cf 0 -Pout/(Vout*Cf*(1-D0))]"
   ]
  },
  {
   "cell_type": "code",
   "execution_count": 26,
   "metadata": {},
   "outputs": [
    {
     "data": {
      "text/plain": [
       "1×2 Matrix{Int64}:\n",
       " 0  1"
      ]
     },
     "metadata": {},
     "output_type": "display_data"
    }
   ],
   "source": [
    "C = [0 1]"
   ]
  },
  {
   "cell_type": "code",
   "execution_count": 27,
   "metadata": {},
   "outputs": [
    {
     "data": {
      "text/plain": [
       "1×3 Matrix{Int64}:\n",
       " 0  0  0"
      ]
     },
     "metadata": {},
     "output_type": "display_data"
    }
   ],
   "source": [
    "D = [0 0 0]"
   ]
  },
  {
   "cell_type": "code",
   "execution_count": 28,
   "metadata": {},
   "outputs": [
    {
     "data": {
      "text/plain": [
       "StateSpace{Continuous, Float64}\n",
       "A = \n",
       "   -0.2345322727557256  -1733.5101489152457\n",
       " 1733.5101489152457         0.0\n",
       "B = \n",
       "    0.0  26.648985108475415  75049.7623777771\n",
       " -200.0   0.0                -4614.913852685573\n",
       "C = \n",
       " 0.0  1.0\n",
       "D = \n",
       " 0.0  0.0  0.0\n",
       "\n",
       "Continuous-time state-space model"
      ]
     },
     "metadata": {},
     "output_type": "display_data"
    }
   ],
   "source": [
    "sys = ss(A, B, C, D)"
   ]
  },
  {
   "cell_type": "code",
   "execution_count": 31,
   "metadata": {},
   "outputs": [],
   "source": [
    "t = 0:1e-7:1;\n",
    "u1 = zeros(1, length(t))\n",
    "u2 = 0.2 * 230 * sin.(t')\n",
    "u3 = zeros(1, length(t))\n",
    "u = [u1; u2; u3]\n",
    "y, _ = lsim(sys, u, t)\n",
    "plot(t, y' .+ Vout)"
   ]
  },
  {
   "cell_type": "code",
   "execution_count": 30,
   "metadata": {},
   "outputs": [
    {
     "data": {
      "text/plain": [
       "TransferFunction{Continuous, ControlSystemsBase.SisoRational{Float64}}\n",
       "Input 1 to output 1\n",
       "           -200.0s - 46.906454551033676\n",
       "---------------------------------------------------\n",
       "1.0s^2 + 0.2345322727557256s + 3.0050574363921573e6\n",
       "\n",
       "Input 2 to output 1\n",
       "                 46196.28614383377\n",
       "---------------------------------------------------\n",
       "1.0s^2 + 0.2345322727557256s + 3.0050574363921573e6\n",
       "\n",
       "Input 3 to output 1\n",
       "    -4614.913852685573s + 1.3009844240931973e8\n",
       "---------------------------------------------------\n",
       "1.0s^2 + 0.2345322727557256s + 3.0050574363921573e6\n",
       "\n",
       "Continuous-time transfer function model"
      ]
     },
     "metadata": {},
     "output_type": "display_data"
    }
   ],
   "source": [
    "G = tf(sys)"
   ]
  }
 ],
 "metadata": {
  "kernelspec": {
   "display_name": "Julia 1.10.3",
   "language": "julia",
   "name": "julia-1.10"
  },
  "language_info": {
   "file_extension": ".jl",
   "mimetype": "application/julia",
   "name": "julia",
   "version": "1.10.3"
  }
 },
 "nbformat": 4,
 "nbformat_minor": 2
}
