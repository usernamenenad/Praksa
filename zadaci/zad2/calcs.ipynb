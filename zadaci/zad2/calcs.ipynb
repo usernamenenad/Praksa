{
 "cells": [
  {
   "cell_type": "code",
   "execution_count": 81,
   "metadata": {},
   "outputs": [],
   "source": [
    "import sympy as sp"
   ]
  },
  {
   "cell_type": "markdown",
   "metadata": {},
   "source": [
    "State space variables"
   ]
  },
  {
   "cell_type": "code",
   "execution_count": 82,
   "metadata": {},
   "outputs": [],
   "source": [
    "iLm = sp.symbols(\"i_Lm\")\n",
    "vC = sp.symbols(\"v_C\")"
   ]
  },
  {
   "cell_type": "markdown",
   "metadata": {},
   "source": [
    "Input variables"
   ]
  },
  {
   "cell_type": "code",
   "execution_count": 83,
   "metadata": {},
   "outputs": [],
   "source": [
    "iOut = sp.symbols(\"i_Out\")\n",
    "vIn = sp.symbols(\"v_In\")"
   ]
  },
  {
   "cell_type": "markdown",
   "metadata": {},
   "source": [
    "System parameters"
   ]
  },
  {
   "cell_type": "code",
   "execution_count": 84,
   "metadata": {},
   "outputs": [],
   "source": [
    "Lm = sp.symbols(\"L_m\")\n",
    "Cf = sp.symbols(\"C_f\")\n",
    "Req = sp.symbols(\"R_eq\")\n",
    "Rl = sp.symbols(\"R_l\")\n",
    "n = sp.symbols(\"n\")"
   ]
  },
  {
   "cell_type": "code",
   "execution_count": 85,
   "metadata": {},
   "outputs": [
    {
     "data": {
      "text/latex": [
       "$\\displaystyle \\left[\\begin{matrix}- \\frac{R_{eq}}{L_{m}} & 0\\\\0 & - \\frac{1}{C_{f} R_{l}}\\end{matrix}\\right]$"
      ],
      "text/plain": [
       "Matrix([\n",
       "[-R_eq/L_m,            0],\n",
       "[        0, -1/(C_f*R_l)]])"
      ]
     },
     "execution_count": 85,
     "metadata": {},
     "output_type": "execute_result"
    }
   ],
   "source": [
    "A1 = sp.Matrix([[-Req / Lm, 0], [0, -1 / (Rl * Cf)]])\n",
    "A1"
   ]
  },
  {
   "cell_type": "code",
   "execution_count": 86,
   "metadata": {},
   "outputs": [
    {
     "data": {
      "text/latex": [
       "$\\displaystyle \\left[\\begin{matrix}0 & - \\frac{1}{L_{m} n}\\\\\\frac{1}{C_{f} n} & - \\frac{1}{C_{f} R_{l}}\\end{matrix}\\right]$"
      ],
      "text/plain": [
       "Matrix([\n",
       "[        0,   -1/(L_m*n)],\n",
       "[1/(C_f*n), -1/(C_f*R_l)]])"
      ]
     },
     "execution_count": 86,
     "metadata": {},
     "output_type": "execute_result"
    }
   ],
   "source": [
    "A2 = sp.Matrix([[0, -1 / (n * Lm)], [1 / (n * Cf), -1 / (Rl * Cf)]])\n",
    "A2"
   ]
  },
  {
   "cell_type": "code",
   "execution_count": 87,
   "metadata": {},
   "outputs": [
    {
     "data": {
      "text/latex": [
       "$\\displaystyle \\left[\\begin{matrix}\\frac{1}{L_{m}}\\\\0\\end{matrix}\\right]$"
      ],
      "text/plain": [
       "Matrix([\n",
       "[1/L_m],\n",
       "[    0]])"
      ]
     },
     "execution_count": 87,
     "metadata": {},
     "output_type": "execute_result"
    }
   ],
   "source": [
    "B1 = sp.Matrix([[1 / Lm], [0]])\n",
    "B1"
   ]
  },
  {
   "cell_type": "code",
   "execution_count": 88,
   "metadata": {},
   "outputs": [
    {
     "data": {
      "text/latex": [
       "$\\displaystyle \\left[\\begin{matrix}0\\\\0\\end{matrix}\\right]$"
      ],
      "text/plain": [
       "Matrix([\n",
       "[0],\n",
       "[0]])"
      ]
     },
     "execution_count": 88,
     "metadata": {},
     "output_type": "execute_result"
    }
   ],
   "source": [
    "B2 = sp.Matrix([[0], [0]])\n",
    "B2"
   ]
  },
  {
   "cell_type": "code",
   "execution_count": 89,
   "metadata": {},
   "outputs": [
    {
     "data": {
      "text/latex": [
       "$\\displaystyle \\left[\\begin{matrix}0 & 1\\end{matrix}\\right]$"
      ],
      "text/plain": [
       "Matrix([[0, 1]])"
      ]
     },
     "execution_count": 89,
     "metadata": {},
     "output_type": "execute_result"
    }
   ],
   "source": [
    "C1 = C2 = sp.Matrix([[0, 1]])\n",
    "C1"
   ]
  },
  {
   "cell_type": "code",
   "execution_count": 90,
   "metadata": {},
   "outputs": [
    {
     "data": {
      "text/latex": [
       "$\\displaystyle \\left[\\begin{matrix}0\\end{matrix}\\right]$"
      ],
      "text/plain": [
       "Matrix([[0]])"
      ]
     },
     "execution_count": 90,
     "metadata": {},
     "output_type": "execute_result"
    }
   ],
   "source": [
    "D1 = D2 = sp.Matrix([[0]])\n",
    "D1"
   ]
  },
  {
   "cell_type": "code",
   "execution_count": 91,
   "metadata": {},
   "outputs": [],
   "source": [
    "D0 = sp.symbols(\"D_0\")"
   ]
  },
  {
   "cell_type": "code",
   "execution_count": 92,
   "metadata": {},
   "outputs": [
    {
     "data": {
      "text/latex": [
       "$\\displaystyle \\left[\\begin{matrix}- \\frac{D_{0} R_{eq}}{L_{m}} & \\frac{D_{0} - 1}{L_{m} n}\\\\\\frac{1 - D_{0}}{C_{f} n} & - \\frac{1}{C_{f} R_{l}}\\end{matrix}\\right]$"
      ],
      "text/plain": [
       "Matrix([\n",
       "[    -D_0*R_eq/L_m, (D_0 - 1)/(L_m*n)],\n",
       "[(1 - D_0)/(C_f*n),      -1/(C_f*R_l)]])"
      ]
     },
     "execution_count": 92,
     "metadata": {},
     "output_type": "execute_result"
    }
   ],
   "source": [
    "A = sp.simplify(A1 * D0 + A2 * (1 - D0))\n",
    "A"
   ]
  },
  {
   "cell_type": "code",
   "execution_count": 93,
   "metadata": {},
   "outputs": [
    {
     "data": {
      "text/latex": [
       "$\\displaystyle \\left[\\begin{matrix}\\frac{D_{0}}{L_{m}}\\\\0\\end{matrix}\\right]$"
      ],
      "text/plain": [
       "Matrix([\n",
       "[D_0/L_m],\n",
       "[      0]])"
      ]
     },
     "execution_count": 93,
     "metadata": {},
     "output_type": "execute_result"
    }
   ],
   "source": [
    "B = sp.simplify(B1 * D0 + B2 * (1 - D0))\n",
    "B"
   ]
  },
  {
   "cell_type": "code",
   "execution_count": 94,
   "metadata": {},
   "outputs": [
    {
     "data": {
      "text/latex": [
       "$\\displaystyle \\left[\\begin{matrix}0 & 1\\end{matrix}\\right]$"
      ],
      "text/plain": [
       "Matrix([[0, 1]])"
      ]
     },
     "execution_count": 94,
     "metadata": {},
     "output_type": "execute_result"
    }
   ],
   "source": [
    "C = sp.simplify(C1 * D0 + C2 * (1 - D0))\n",
    "C"
   ]
  },
  {
   "cell_type": "code",
   "execution_count": 95,
   "metadata": {},
   "outputs": [
    {
     "data": {
      "text/latex": [
       "$\\displaystyle \\left[\\begin{matrix}0\\end{matrix}\\right]$"
      ],
      "text/plain": [
       "Matrix([[0]])"
      ]
     },
     "execution_count": 95,
     "metadata": {},
     "output_type": "execute_result"
    }
   ],
   "source": [
    "D = sp.simplify(D1 * D0 + D2 * (1 - D0))\n",
    "D"
   ]
  },
  {
   "cell_type": "code",
   "execution_count": 96,
   "metadata": {},
   "outputs": [],
   "source": [
    "I_out = sp.symbols(\"I_out\")\n",
    "V_in = sp.symbols(\"V_in\")"
   ]
  },
  {
   "cell_type": "code",
   "execution_count": 97,
   "metadata": {},
   "outputs": [
    {
     "data": {
      "text/latex": [
       "$\\displaystyle \\left[\\begin{matrix}V_{in}\\end{matrix}\\right]$"
      ],
      "text/plain": [
       "Matrix([[V_in]])"
      ]
     },
     "execution_count": 97,
     "metadata": {},
     "output_type": "execute_result"
    }
   ],
   "source": [
    "u0 = sp.Matrix([[V_in]])\n",
    "u0"
   ]
  },
  {
   "cell_type": "code",
   "execution_count": 98,
   "metadata": {},
   "outputs": [
    {
     "data": {
      "text/latex": [
       "$\\displaystyle \\left[\\begin{matrix}\\frac{D_{0} V_{in} n^{2}}{D_{0}^{2} R_{l} + D_{0} R_{eq} n^{2} - 2 D_{0} R_{l} + R_{l}}\\\\- \\frac{D_{0} R_{l} V_{in} n \\left(D_{0} - 1\\right)}{D_{0}^{2} R_{l} + D_{0} R_{eq} n^{2} - 2 D_{0} R_{l} + R_{l}}\\end{matrix}\\right]$"
      ],
      "text/plain": [
       "Matrix([\n",
       "[            D_0*V_in*n**2/(D_0**2*R_l + D_0*R_eq*n**2 - 2*D_0*R_l + R_l)],\n",
       "[-D_0*R_l*V_in*n*(D_0 - 1)/(D_0**2*R_l + D_0*R_eq*n**2 - 2*D_0*R_l + R_l)]])"
      ]
     },
     "execution_count": 98,
     "metadata": {},
     "output_type": "execute_result"
    }
   ],
   "source": [
    "x0 = -sp.simplify(A.inv() * B * u0)\n",
    "x0"
   ]
  },
  {
   "cell_type": "code",
   "execution_count": 99,
   "metadata": {},
   "outputs": [
    {
     "data": {
      "text/latex": [
       "$\\displaystyle \\left[\\begin{matrix}\\frac{R_{l} V_{in} \\left(1 - D_{0}\\right)}{L_{m} \\left(D_{0}^{2} R_{l} + D_{0} R_{eq} n^{2} - 2 D_{0} R_{l} + R_{l}\\right)}\\\\- \\frac{D_{0} V_{in} n}{C_{f} \\left(D_{0}^{2} R_{l} + D_{0} R_{eq} n^{2} - 2 D_{0} R_{l} + R_{l}\\right)}\\end{matrix}\\right]$"
      ],
      "text/plain": [
       "Matrix([\n",
       "[R_l*V_in*(1 - D_0)/(L_m*(D_0**2*R_l + D_0*R_eq*n**2 - 2*D_0*R_l + R_l))],\n",
       "[       -D_0*V_in*n/(C_f*(D_0**2*R_l + D_0*R_eq*n**2 - 2*D_0*R_l + R_l))]])"
      ]
     },
     "execution_count": 99,
     "metadata": {},
     "output_type": "execute_result"
    }
   ],
   "source": [
    "E = sp.simplify((A1 - A2) * x0 + (B1 - B2) * u0)\n",
    "E"
   ]
  },
  {
   "cell_type": "code",
   "execution_count": 100,
   "metadata": {},
   "outputs": [
    {
     "data": {
      "text/latex": [
       "$\\displaystyle \\left[\\begin{matrix}0\\end{matrix}\\right]$"
      ],
      "text/plain": [
       "Matrix([[0]])"
      ]
     },
     "execution_count": 100,
     "metadata": {},
     "output_type": "execute_result"
    }
   ],
   "source": [
    "F = sp.simplify((C1 - C2) * x0 + (D1 - D2) * u0)\n",
    "F"
   ]
  },
  {
   "cell_type": "code",
   "execution_count": 101,
   "metadata": {},
   "outputs": [
    {
     "data": {
      "text/latex": [
       "$\\displaystyle \\left[\\begin{matrix}\\frac{D_{0}}{L_{m}} & \\frac{R_{l} V_{in} \\left(1 - D_{0}\\right)}{L_{m} \\left(D_{0}^{2} R_{l} + D_{0} R_{eq} n^{2} - 2 D_{0} R_{l} + R_{l}\\right)}\\\\0 & - \\frac{D_{0} V_{in} n}{C_{f} \\left(D_{0}^{2} R_{l} + D_{0} R_{eq} n^{2} - 2 D_{0} R_{l} + R_{l}\\right)}\\end{matrix}\\right]$"
      ],
      "text/plain": [
       "Matrix([\n",
       "[D_0/L_m, R_l*V_in*(1 - D_0)/(L_m*(D_0**2*R_l + D_0*R_eq*n**2 - 2*D_0*R_l + R_l))],\n",
       "[      0,        -D_0*V_in*n/(C_f*(D_0**2*R_l + D_0*R_eq*n**2 - 2*D_0*R_l + R_l))]])"
      ]
     },
     "execution_count": 101,
     "metadata": {},
     "output_type": "execute_result"
    }
   ],
   "source": [
    "new_B = sp.Matrix([[B, E]])\n",
    "new_B"
   ]
  },
  {
   "cell_type": "code",
   "execution_count": 102,
   "metadata": {},
   "outputs": [
    {
     "data": {
      "text/latex": [
       "$\\displaystyle \\left[\\begin{matrix}0 & 0\\end{matrix}\\right]$"
      ],
      "text/plain": [
       "Matrix([[0, 0]])"
      ]
     },
     "execution_count": 102,
     "metadata": {},
     "output_type": "execute_result"
    }
   ],
   "source": [
    "new_D = sp.Matrix([[D, F]])\n",
    "new_D"
   ]
  },
  {
   "cell_type": "code",
   "execution_count": 103,
   "metadata": {},
   "outputs": [],
   "source": [
    "Rp = sp.symbols(\"R_p\")\n",
    "Rs = sp.symbols(\"R_s\")\n",
    "new_Req = D0 * Rp + Rs * (1 - D0) / n**2"
   ]
  },
  {
   "cell_type": "code",
   "execution_count": 104,
   "metadata": {},
   "outputs": [
    {
     "data": {
      "text/latex": [
       "$\\displaystyle \\left[\\begin{matrix}\\frac{D_{0} \\cdot \\left(1 - D_{0}\\right)}{C_{f} L_{m} n} & \\frac{V_{in} \\left(- D_{0} n^{2} \\left(D_{0} R_{eq} + L_{m} s\\right) + R_{l} \\left(D_{0} - 1\\right)^{2}\\right)}{C_{f} L_{m} n \\left(D_{0}^{2} R_{l} + D_{0} R_{eq} n^{2} - 2 D_{0} R_{l} + R_{l}\\right)}\\end{matrix}\\right]$"
      ],
      "text/plain": [
       "Matrix([[D_0*(1 - D_0)/(C_f*L_m*n), V_in*(-D_0*n**2*(D_0*R_eq + L_m*s) + R_l*(D_0 - 1)**2)/(C_f*L_m*n*(D_0**2*R_l + D_0*R_eq*n**2 - 2*D_0*R_l + R_l))]])"
      ]
     },
     "execution_count": 104,
     "metadata": {},
     "output_type": "execute_result"
    }
   ],
   "source": [
    "s = sp.symbols(\"s\")\n",
    "I = sp.eye(2)\n",
    "G = sp.simplify(C * (s * I - A).adjugate() * new_B + new_D)\n",
    "G"
   ]
  },
  {
   "cell_type": "code",
   "execution_count": 105,
   "metadata": {},
   "outputs": [
    {
     "data": {
      "text/latex": [
       "$\\displaystyle \\operatorname{Poly}{\\left( s^{2} + \\frac{C_{f} D_{0} R_{eq} R_{l} + L_{m}}{C_{f} L_{m} R_{l}} s + \\frac{D_{0}^{2} R_{l} + D_{0} R_{eq} n^{2} - 2 D_{0} R_{l} + R_{l}}{C_{f} L_{m} R_{l} n^{2}}, s, domain=\\mathbb{Z}\\left(n, C_{f}, D_{0}, L_{m}, R_{eq}, R_{l}\\right) \\right)}$"
      ],
      "text/plain": [
       "Poly(s**2 + (C_f*D_0*R_eq*R_l + L_m)/(C_f*L_m*R_l)*s + (D_0**2*R_l + D_0*R_eq*n**2 - 2*D_0*R_l + R_l)/(C_f*L_m*R_l*n**2), s, domain='ZZ(n,C_f,D_0,L_m,R_eq,R_l)')"
      ]
     },
     "execution_count": 105,
     "metadata": {},
     "output_type": "execute_result"
    }
   ],
   "source": [
    "num, den = sp.fraction((s * I - A).det())\n",
    "f = sp.Poly(num / den, s)\n",
    "f"
   ]
  },
  {
   "cell_type": "code",
   "execution_count": 106,
   "metadata": {},
   "outputs": [
    {
     "data": {
      "text/latex": [
       "$\\displaystyle \\left[\\begin{matrix}\\frac{D_{0} R_{l} V_{in} \\left(D_{0}^{2} - 2 D_{0} + 1\\right)}{2 L_{m} f_{s} \\left(D_{0}^{2} R_{l} + D_{0} R_{eq} n^{2} - 2 D_{0} R_{l} + R_{l}\\right)}\\\\\\frac{D_{0}^{2} V_{in} n \\left(D_{0} - 1\\right)}{2 C_{f} f_{s} \\left(D_{0}^{2} R_{l} + D_{0} R_{eq} n^{2} - 2 D_{0} R_{l} + R_{l}\\right)}\\end{matrix}\\right]$"
      ],
      "text/plain": [
       "Matrix([\n",
       "[D_0*R_l*V_in*(D_0**2 - 2*D_0 + 1)/(2*L_m*f_s*(D_0**2*R_l + D_0*R_eq*n**2 - 2*D_0*R_l + R_l))],\n",
       "[          D_0**2*V_in*n*(D_0 - 1)/(2*C_f*f_s*(D_0**2*R_l + D_0*R_eq*n**2 - 2*D_0*R_l + R_l))]])"
      ]
     },
     "execution_count": 106,
     "metadata": {},
     "output_type": "execute_result"
    }
   ],
   "source": [
    "f_s = sp.symbols(\"f_s\")\n",
    "deltaX = sp.simplify(\n",
    "    ((A1 * D0 - A2 * (1 - D0)) * x0 + (B1 * D0 - B2 * (1 - D0)) * u0) / (4 * f_s)\n",
    ")\n",
    "deltaX"
   ]
  },
  {
   "cell_type": "code",
   "execution_count": 107,
   "metadata": {},
   "outputs": [
    {
     "data": {
      "text/latex": [
       "$\\displaystyle \\frac{D_{0} R_{l} V_{in} \\left(D_{0} - 1\\right)^{2}}{2 L_{m} f_{s} \\left(D_{0}^{2} R_{l} + D_{0} R_{eq} n^{2} - 2 D_{0} R_{l} + R_{l}\\right)}$"
      ],
      "text/plain": [
       "D_0*R_l*V_in*(D_0 - 1)**2/(2*L_m*f_s*(D_0**2*R_l + D_0*R_eq*n**2 - 2*D_0*R_l + R_l))"
      ]
     },
     "execution_count": 107,
     "metadata": {},
     "output_type": "execute_result"
    }
   ],
   "source": [
    "deltaILm = sp.factor(deltaX[0])\n",
    "deltaILm"
   ]
  },
  {
   "cell_type": "code",
   "execution_count": 108,
   "metadata": {},
   "outputs": [
    {
     "data": {
      "text/latex": [
       "$\\displaystyle \\sqrt{\\frac{P_{loss T}}{R_{eq}}}$"
      ],
      "text/plain": [
       "sqrt(P_loss_T/R_eq)"
      ]
     },
     "execution_count": 108,
     "metadata": {},
     "output_type": "execute_result"
    }
   ],
   "source": [
    "PlossT = sp.symbols(\"P_loss_T\")\n",
    "ilmcalc = sp.sqrt(PlossT / Req)\n",
    "ilmcalc"
   ]
  },
  {
   "cell_type": "code",
   "execution_count": 109,
   "metadata": {},
   "outputs": [
    {
     "data": {
      "text/latex": [
       "$\\displaystyle \\operatorname{Expr}\\left(\\left[ \\frac{D_{0} R_{l} V_{in} \\left(D_{0} - 1\\right)^{2}}{2 f_{s} \\sqrt{\\frac{P_{loss T}}{R_{eq}}} \\left(D_{0}^{2} R_{l} + D_{0} R_{eq} n^{2} - 2 D_{0} R_{l} + R_{l}\\right)}\\right]\\right)$"
      ],
      "text/plain": [
       "Expr([D_0*R_l*V_in*(D_0 - 1)**2/(2*f_s*sqrt(P_loss_T/R_eq)*(D_0**2*R_l + D_0*R_eq*n**2 - 2*D_0*R_l + R_l))])"
      ]
     },
     "execution_count": 109,
     "metadata": {},
     "output_type": "execute_result"
    }
   ],
   "source": [
    "sp.Expr(sp.factor(sp.solve(deltaILm - ilmcalc, Lm)))"
   ]
  },
  {
   "cell_type": "code",
   "execution_count": 110,
   "metadata": {},
   "outputs": [
    {
     "data": {
      "text/latex": [
       "$\\displaystyle \\frac{D_{0}^{2} V_{in} n \\left(D_{0} - 1\\right)}{2 C_{f} f_{s} \\left(D_{0}^{2} R_{l} + D_{0} R_{eq} n^{2} - 2 D_{0} R_{l} + R_{l}\\right)}$"
      ],
      "text/plain": [
       "D_0**2*V_in*n*(D_0 - 1)/(2*C_f*f_s*(D_0**2*R_l + D_0*R_eq*n**2 - 2*D_0*R_l + R_l))"
      ]
     },
     "execution_count": 110,
     "metadata": {},
     "output_type": "execute_result"
    }
   ],
   "source": [
    "deltaCf = sp.factor(deltaX[1])\n",
    "deltaCf"
   ]
  },
  {
   "cell_type": "code",
   "execution_count": 111,
   "metadata": {},
   "outputs": [
    {
     "data": {
      "text/latex": [
       "$\\displaystyle \\operatorname{Poly}{\\left( \\left(R_{l} V_{in} n + R_{l} V_{out} + R_{p} V_{out} n^{2} - R_{s} V_{out}\\right) D_{0}^{2} + \\left(- R_{l} V_{in} n - 2 R_{l} V_{out} + R_{s} V_{out}\\right) D_{0} + R_{l} V_{out}, D_{0}, domain=\\mathbb{Z}\\left[n, R_{l}, R_{p}, R_{s}, V_{in}, V_{out}\\right] \\right)}$"
      ],
      "text/plain": [
       "Poly((R_l*V_in*n + R_l*V_out + R_p*V_out*n**2 - R_s*V_out)*D_0**2 + (-R_l*V_in*n - 2*R_l*V_out + R_s*V_out)*D_0 + R_l*V_out, D_0, domain='ZZ[n,R_l,R_p,R_s,V_in,V_out]')"
      ]
     },
     "execution_count": 111,
     "metadata": {},
     "output_type": "execute_result"
    }
   ],
   "source": [
    "num, den = sp.fraction(sp.simplify(x0[1].subs({\"R_eq\": new_Req})))\n",
    "Vout = sp.symbols(\"V_out\")\n",
    "sp.Poly(den * Vout - num, D0)"
   ]
  },
  {
   "cell_type": "code",
   "execution_count": 114,
   "metadata": {},
   "outputs": [
    {
     "data": {
      "text/latex": [
       "$\\displaystyle \\operatorname{Poly}{\\left( s^{4} + \\left(N + a k_{p} + c\\right) s^{3} + \\left(N a k_{d} + N a k_{p} + N c + a k_{i} + b k_{p} + d\\right) s^{2} + \\left(N a k_{i} + N b k_{d} + N b k_{p} + N d + b k_{i}\\right) s + N b k_{i}, s, domain=\\mathbb{Z}\\left[a, b, c, d, N, k_{d}, k_{i}, k_{p}\\right] \\right)}$"
      ],
      "text/plain": [
       "Poly(s**4 + (N + a*k_p + c)*s**3 + (N*a*k_d + N*a*k_p + N*c + a*k_i + b*k_p + d)*s**2 + (N*a*k_i + N*b*k_d + N*b*k_p + N*d + b*k_i)*s + N*b*k_i, s, domain='ZZ[a,b,c,d,N,k_d,k_i,k_p]')"
      ]
     },
     "execution_count": 114,
     "metadata": {},
     "output_type": "execute_result"
    }
   ],
   "source": [
    "kp = sp.symbols(\"k_p\")\n",
    "ki = sp.symbols(\"k_i\")\n",
    "kd = sp.symbols(\"k_d\")\n",
    "N = sp.symbols(\"N\")\n",
    "a = sp.symbols(\"a\")\n",
    "b = sp.symbols(\"b\")\n",
    "c = sp.symbols(\"c\")\n",
    "d = sp.symbols(\"d\")\n",
    "s = sp.symbols(\"s\")\n",
    "\n",
    "A = sp.Poly(kp * s**2 + (N * (kp + kd) + ki) * s + ki * N, s)\n",
    "B = sp.Poly(s * (s + N), s)\n",
    "C = sp.Poly(a * s + b, s)\n",
    "D = sp.Poly(s**2 + c * s + d, s)\n",
    "\n",
    "sp.simplify(A * C + B * D)"
   ]
  },
  {
   "cell_type": "code",
   "execution_count": 113,
   "metadata": {},
   "outputs": [
    {
     "data": {
      "text/latex": [
       "$\\displaystyle \\frac{D_{0}^{2} V_{in} n \\left(D_{0} - 1\\right)}{2 C_{f} f_{s} \\left(D_{0}^{2} R_{l} + D_{0} R_{eq} n^{2} - 2 D_{0} R_{l} + R_{l}\\right)}$"
      ],
      "text/plain": [
       "D_0**2*V_in*n*(D_0 - 1)/(2*C_f*f_s*(D_0**2*R_l + D_0*R_eq*n**2 - 2*D_0*R_l + R_l))"
      ]
     },
     "execution_count": 113,
     "metadata": {},
     "output_type": "execute_result"
    }
   ],
   "source": [
    "deltaX[1]"
   ]
  }
 ],
 "metadata": {
  "kernelspec": {
   "display_name": "Python 3",
   "language": "python",
   "name": "python3"
  },
  "language_info": {
   "codemirror_mode": {
    "name": "ipython",
    "version": 3
   },
   "file_extension": ".py",
   "mimetype": "text/x-python",
   "name": "python",
   "nbconvert_exporter": "python",
   "pygments_lexer": "ipython3",
   "version": "3.12.3"
  }
 },
 "nbformat": 4,
 "nbformat_minor": 2
}
