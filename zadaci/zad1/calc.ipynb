{
 "cells": [
  {
   "cell_type": "markdown",
   "metadata": {},
   "source": [
    "## State space averaging"
   ]
  },
  {
   "cell_type": "markdown",
   "metadata": {},
   "source": [
    "Biblioteke koje su nam potrebne"
   ]
  },
  {
   "cell_type": "code",
   "execution_count": 2,
   "metadata": {},
   "outputs": [],
   "source": [
    "import sympy as sp"
   ]
  },
  {
   "cell_type": "markdown",
   "metadata": {},
   "source": [
    "Promjenljive stanja + ulazne promjenljive"
   ]
  },
  {
   "cell_type": "code",
   "execution_count": 3,
   "metadata": {},
   "outputs": [],
   "source": [
    "i_Lm = sp.symbols(\"i_Lm\")\n",
    "v_C2 = sp.symbols(\"v_C2\")\n",
    "i_out = sp.symbols(\"i_out\")\n",
    "v_in = sp.symbols(\"v_in\")"
   ]
  },
  {
   "cell_type": "markdown",
   "metadata": {},
   "source": [
    "Parametri sistema"
   ]
  },
  {
   "cell_type": "code",
   "execution_count": 5,
   "metadata": {},
   "outputs": [],
   "source": [
    "R_eq = sp.symbols(\"R_eq\")\n",
    "R = sp.symbols(\"R\")\n",
    "L_m = sp.symbols(\"L_m\")\n",
    "C_2 = sp.symbols(\"C_2\")\n",
    "n = sp.symbols(\"n\")\n",
    "D_0 = sp.symbols(\"D_0\")"
   ]
  },
  {
   "cell_type": "markdown",
   "metadata": {},
   "source": [
    "Matrice stanja i matrice ulaza"
   ]
  },
  {
   "cell_type": "code",
   "execution_count": 6,
   "metadata": {},
   "outputs": [
    {
     "data": {
      "text/latex": [
       "$\\displaystyle \\left[\\begin{matrix}- \\frac{R_{eq}}{L_{m}} & 0\\\\0 & - \\frac{1}{C_{2} R}\\end{matrix}\\right]$"
      ],
      "text/plain": [
       "Matrix([\n",
       "[-R_eq/L_m,          0],\n",
       "[        0, -1/(C_2*R)]])"
      ]
     },
     "execution_count": 6,
     "metadata": {},
     "output_type": "execute_result"
    }
   ],
   "source": [
    "A1 = sp.Matrix([[-R_eq / L_m, 0], [0, -1 / (R * C_2)]])\n",
    "A1"
   ]
  },
  {
   "cell_type": "code",
   "execution_count": 7,
   "metadata": {},
   "outputs": [
    {
     "data": {
      "text/latex": [
       "$\\displaystyle \\left[\\begin{matrix}0 & - \\frac{1}{L_{m} n}\\\\\\frac{1}{C_{2} n} & - \\frac{1}{C_{2} R}\\end{matrix}\\right]$"
      ],
      "text/plain": [
       "Matrix([\n",
       "[        0, -1/(L_m*n)],\n",
       "[1/(C_2*n), -1/(C_2*R)]])"
      ]
     },
     "execution_count": 7,
     "metadata": {},
     "output_type": "execute_result"
    }
   ],
   "source": [
    "A2 = sp.Matrix([[0, -1 / (n * L_m)], [1 / (n * C_2), -1 / (R * C_2)]])\n",
    "A2"
   ]
  },
  {
   "cell_type": "code",
   "execution_count": 8,
   "metadata": {},
   "outputs": [
    {
     "data": {
      "text/latex": [
       "$\\displaystyle \\left[\\begin{matrix}0 & \\frac{1}{L_{m}}\\\\- \\frac{1}{C_{2}} & 0\\end{matrix}\\right]$"
      ],
      "text/plain": [
       "Matrix([\n",
       "[     0, 1/L_m],\n",
       "[-1/C_2,     0]])"
      ]
     },
     "execution_count": 8,
     "metadata": {},
     "output_type": "execute_result"
    }
   ],
   "source": [
    "B1 = sp.Matrix([[0, 1 / L_m], [-1 / C_2, 0]])\n",
    "B1"
   ]
  },
  {
   "cell_type": "code",
   "execution_count": 9,
   "metadata": {},
   "outputs": [
    {
     "data": {
      "text/latex": [
       "$\\displaystyle \\left[\\begin{matrix}0 & 0\\\\- \\frac{1}{C_{2}} & 0\\end{matrix}\\right]$"
      ],
      "text/plain": [
       "Matrix([\n",
       "[     0, 0],\n",
       "[-1/C_2, 0]])"
      ]
     },
     "execution_count": 9,
     "metadata": {},
     "output_type": "execute_result"
    }
   ],
   "source": [
    "B2 = sp.Matrix([[0, 0], [-1 / C_2, 0]])\n",
    "B2"
   ]
  },
  {
   "cell_type": "code",
   "execution_count": 10,
   "metadata": {},
   "outputs": [
    {
     "data": {
      "text/latex": [
       "$\\displaystyle \\left[\\begin{matrix}0 & 1\\end{matrix}\\right]$"
      ],
      "text/plain": [
       "Matrix([[0, 1]])"
      ]
     },
     "execution_count": 10,
     "metadata": {},
     "output_type": "execute_result"
    }
   ],
   "source": [
    "C1 = C2 = sp.Matrix([[0, 1]])\n",
    "C1"
   ]
  },
  {
   "cell_type": "code",
   "execution_count": 11,
   "metadata": {},
   "outputs": [
    {
     "data": {
      "text/latex": [
       "$\\displaystyle \\left[\\begin{matrix}0 & 0\\end{matrix}\\right]$"
      ],
      "text/plain": [
       "Matrix([[0, 0]])"
      ]
     },
     "execution_count": 11,
     "metadata": {},
     "output_type": "execute_result"
    }
   ],
   "source": [
    "D1 = D2 = sp.Matrix([[0, 0]])\n",
    "D1"
   ]
  },
  {
   "cell_type": "code",
   "execution_count": 12,
   "metadata": {},
   "outputs": [
    {
     "data": {
      "text/latex": [
       "$\\displaystyle \\left[\\begin{matrix}- \\frac{D_{0} R_{eq}}{L_{m}} & \\frac{D_{0} - 1}{L_{m} n}\\\\\\frac{1 - D_{0}}{C_{2} n} & - \\frac{1}{C_{2} R}\\end{matrix}\\right]$"
      ],
      "text/plain": [
       "Matrix([\n",
       "[    -D_0*R_eq/L_m, (D_0 - 1)/(L_m*n)],\n",
       "[(1 - D_0)/(C_2*n),        -1/(C_2*R)]])"
      ]
     },
     "execution_count": 12,
     "metadata": {},
     "output_type": "execute_result"
    }
   ],
   "source": [
    "A = sp.simplify(A1 * D_0 + A2 * (1 - D_0))\n",
    "A"
   ]
  },
  {
   "cell_type": "code",
   "execution_count": 13,
   "metadata": {},
   "outputs": [
    {
     "data": {
      "text/latex": [
       "$\\displaystyle \\left[\\begin{matrix}0 & \\frac{D_{0}}{L_{m}}\\\\- \\frac{1}{C_{2}} & 0\\end{matrix}\\right]$"
      ],
      "text/plain": [
       "Matrix([\n",
       "[     0, D_0/L_m],\n",
       "[-1/C_2,       0]])"
      ]
     },
     "execution_count": 13,
     "metadata": {},
     "output_type": "execute_result"
    }
   ],
   "source": [
    "B = sp.simplify(B1 * D_0 + B2 * (1 - D_0))\n",
    "B"
   ]
  },
  {
   "cell_type": "code",
   "execution_count": 14,
   "metadata": {},
   "outputs": [
    {
     "data": {
      "text/latex": [
       "$\\displaystyle \\left[\\begin{matrix}0 & 1\\end{matrix}\\right]$"
      ],
      "text/plain": [
       "Matrix([[0, 1]])"
      ]
     },
     "execution_count": 14,
     "metadata": {},
     "output_type": "execute_result"
    }
   ],
   "source": [
    "C = sp.simplify(C1 * D_0 + C2 * (1 - D_0))\n",
    "C"
   ]
  },
  {
   "cell_type": "code",
   "execution_count": 15,
   "metadata": {},
   "outputs": [
    {
     "data": {
      "text/latex": [
       "$\\displaystyle \\left[\\begin{matrix}0 & 0\\end{matrix}\\right]$"
      ],
      "text/plain": [
       "Matrix([[0, 0]])"
      ]
     },
     "execution_count": 15,
     "metadata": {},
     "output_type": "execute_result"
    }
   ],
   "source": [
    "D = sp.simplify(D1 * D_0 + D2 * (1 - D_0))\n",
    "D"
   ]
  },
  {
   "cell_type": "markdown",
   "metadata": {},
   "source": [
    "Vrijednost promjenljivih u ustaljenom stanju"
   ]
  },
  {
   "cell_type": "code",
   "execution_count": 16,
   "metadata": {},
   "outputs": [],
   "source": [
    "I_out = sp.symbols(\"I_out\")\n",
    "V_in = sp.symbols(\"V_in\")"
   ]
  },
  {
   "cell_type": "code",
   "execution_count": 18,
   "metadata": {},
   "outputs": [
    {
     "data": {
      "text/latex": [
       "$\\displaystyle \\left[\\begin{matrix}I_{out}\\\\V_{in}\\end{matrix}\\right]$"
      ],
      "text/plain": [
       "Matrix([\n",
       "[I_out],\n",
       "[ V_in]])"
      ]
     },
     "execution_count": 18,
     "metadata": {},
     "output_type": "execute_result"
    }
   ],
   "source": [
    "u_ss = sp.Matrix([[I_out], [V_in]])\n",
    "u_ss"
   ]
  },
  {
   "cell_type": "code",
   "execution_count": 37,
   "metadata": {},
   "outputs": [
    {
     "data": {
      "text/latex": [
       "$\\displaystyle \\left[\\begin{matrix}- \\frac{n \\left(- D_{0} V_{in} n + I_{out} R \\left(D_{0} - 1\\right)\\right)}{D_{0}^{2} R - 2 D_{0} R + D_{0} R_{eq} n^{2} + R}\\\\- \\frac{D_{0} R n \\left(I_{out} R_{eq} n + V_{in} \\left(D_{0} - 1\\right)\\right)}{D_{0}^{2} R - 2 D_{0} R + D_{0} R_{eq} n^{2} + R}\\end{matrix}\\right]$"
      ],
      "text/plain": [
       "Matrix([\n",
       "[    -n*(-D_0*V_in*n + I_out*R*(D_0 - 1))/(D_0**2*R - 2*D_0*R + D_0*R_eq*n**2 + R)],\n",
       "[-D_0*R*n*(I_out*R_eq*n + V_in*(D_0 - 1))/(D_0**2*R - 2*D_0*R + D_0*R_eq*n**2 + R)]])"
      ]
     },
     "execution_count": 37,
     "metadata": {},
     "output_type": "execute_result"
    }
   ],
   "source": [
    "x_ss = -sp.simplify(A.inv() * B * u_ss)\n",
    "x_ss"
   ]
  },
  {
   "cell_type": "code",
   "execution_count": 21,
   "metadata": {},
   "outputs": [],
   "source": [
    "I_Lm = x_ss[0]\n",
    "V_C2 = x_ss[1]"
   ]
  },
  {
   "cell_type": "code",
   "execution_count": 47,
   "metadata": {},
   "outputs": [
    {
     "data": {
      "text/latex": [
       "$\\displaystyle - \\frac{D_{0} R n \\left(D_{0} V_{in} + I_{out} R_{eq} n - V_{in}\\right)}{D_{0}^{2} R - 2 D_{0} R + D_{0} R_{eq} n^{2} + R}$"
      ],
      "text/plain": [
       "-D_0*R*n*(D_0*V_in + I_out*R_eq*n - V_in)/(D_0**2*R - 2*D_0*R + D_0*R_eq*n**2 + R)"
      ]
     },
     "execution_count": 47,
     "metadata": {},
     "output_type": "execute_result"
    }
   ],
   "source": [
    "sp.factor(V_C2)"
   ]
  },
  {
   "cell_type": "code",
   "execution_count": 32,
   "metadata": {},
   "outputs": [
    {
     "data": {
      "text/latex": [
       "$\\displaystyle - \\frac{D_{0} I_{out} n}{D_{0} - 1}$"
      ],
      "text/plain": [
       "-D_0*I_out*n/(D_0 - 1)"
      ]
     },
     "execution_count": 32,
     "metadata": {},
     "output_type": "execute_result"
    }
   ],
   "source": [
    "I_in = sp.factor(D_0 * I_Lm)\n",
    "sp.factor(sp.limit(I_in, R, sp.oo))"
   ]
  },
  {
   "cell_type": "code",
   "execution_count": 33,
   "metadata": {},
   "outputs": [
    {
     "data": {
      "text/latex": [
       "$\\displaystyle - \\frac{1.0 D_{0} V_{in} n}{1.0 D_{0} - 1.0}$"
      ],
      "text/plain": [
       "-1.0*D_0*V_in*n/(1.0*D_0 - 1.0)"
      ]
     },
     "execution_count": 33,
     "metadata": {},
     "output_type": "execute_result"
    }
   ],
   "source": [
    "sp.factor(V_C2.evalf(subs={R_eq: 0}))"
   ]
  },
  {
   "cell_type": "markdown",
   "metadata": {},
   "source": [
    "Super! Tačan model!"
   ]
  },
  {
   "cell_type": "markdown",
   "metadata": {},
   "source": [
    "Matrice $E$ i $F$"
   ]
  },
  {
   "cell_type": "code",
   "execution_count": 48,
   "metadata": {},
   "outputs": [
    {
     "data": {
      "text/latex": [
       "$\\displaystyle \\left[\\begin{matrix}\\frac{R \\left(- D_{0} V_{in} - I_{out} R_{eq} n + V_{in}\\right)}{L_{m} \\left(D_{0}^{2} R - 2 D_{0} R + D_{0} R_{eq} n^{2} + R\\right)}\\\\\\frac{- D_{0} V_{in} n + I_{out} R \\left(D_{0} - 1\\right)}{C_{2} \\left(D_{0}^{2} R - 2 D_{0} R + D_{0} R_{eq} n^{2} + R\\right)}\\end{matrix}\\right]$"
      ],
      "text/plain": [
       "Matrix([\n",
       "[R*(-D_0*V_in - I_out*R_eq*n + V_in)/(L_m*(D_0**2*R - 2*D_0*R + D_0*R_eq*n**2 + R))],\n",
       "[  (-D_0*V_in*n + I_out*R*(D_0 - 1))/(C_2*(D_0**2*R - 2*D_0*R + D_0*R_eq*n**2 + R))]])"
      ]
     },
     "execution_count": 48,
     "metadata": {},
     "output_type": "execute_result"
    }
   ],
   "source": [
    "E = sp.simplify((A1 - A2) * x_ss + (B1 - B2) * u_ss)\n",
    "E"
   ]
  },
  {
   "cell_type": "code",
   "execution_count": 49,
   "metadata": {},
   "outputs": [
    {
     "data": {
      "text/latex": [
       "$\\displaystyle \\left[\\begin{matrix}0\\end{matrix}\\right]$"
      ],
      "text/plain": [
       "Matrix([[0]])"
      ]
     },
     "execution_count": 49,
     "metadata": {},
     "output_type": "execute_result"
    }
   ],
   "source": [
    "F = sp.simplify((C1 - C2) * x_ss + (D1 - D2) * u_ss)\n",
    "F"
   ]
  },
  {
   "cell_type": "markdown",
   "metadata": {},
   "source": [
    "Usrednjen model"
   ]
  },
  {
   "cell_type": "code",
   "execution_count": 50,
   "metadata": {},
   "outputs": [
    {
     "data": {
      "text/latex": [
       "$\\displaystyle \\left[\\begin{matrix}0 & \\frac{D_{0}}{L_{m}} & \\frac{R \\left(- D_{0} V_{in} - I_{out} R_{eq} n + V_{in}\\right)}{L_{m} \\left(D_{0}^{2} R - 2 D_{0} R + D_{0} R_{eq} n^{2} + R\\right)}\\\\- \\frac{1}{C_{2}} & 0 & \\frac{- D_{0} V_{in} n + I_{out} R \\left(D_{0} - 1\\right)}{C_{2} \\left(D_{0}^{2} R - 2 D_{0} R + D_{0} R_{eq} n^{2} + R\\right)}\\end{matrix}\\right]$"
      ],
      "text/plain": [
       "Matrix([\n",
       "[     0, D_0/L_m, R*(-D_0*V_in - I_out*R_eq*n + V_in)/(L_m*(D_0**2*R - 2*D_0*R + D_0*R_eq*n**2 + R))],\n",
       "[-1/C_2,       0,   (-D_0*V_in*n + I_out*R*(D_0 - 1))/(C_2*(D_0**2*R - 2*D_0*R + D_0*R_eq*n**2 + R))]])"
      ]
     },
     "execution_count": 50,
     "metadata": {},
     "output_type": "execute_result"
    }
   ],
   "source": [
    "new_B = sp.Matrix([[B, E]])\n",
    "new_B"
   ]
  },
  {
   "cell_type": "code",
   "execution_count": 51,
   "metadata": {},
   "outputs": [
    {
     "data": {
      "text/latex": [
       "$\\displaystyle \\left[\\begin{matrix}0 & 0 & 0\\end{matrix}\\right]$"
      ],
      "text/plain": [
       "Matrix([[0, 0, 0]])"
      ]
     },
     "execution_count": 51,
     "metadata": {},
     "output_type": "execute_result"
    }
   ],
   "source": [
    "new_D = sp.Matrix([[D, F]])\n",
    "new_D"
   ]
  },
  {
   "cell_type": "markdown",
   "metadata": {},
   "source": [
    "Procjena ripple-a"
   ]
  },
  {
   "cell_type": "code",
   "execution_count": 54,
   "metadata": {},
   "outputs": [
    {
     "data": {
      "text/latex": [
       "$\\displaystyle \\left[\\begin{matrix}\\frac{D_{0} R \\left(D_{0}^{2} V_{in} + D_{0} I_{out} R_{eq} n - 2 D_{0} V_{in} - I_{out} R_{eq} n + V_{in}\\right)}{2 L_{m} f_{s} \\left(D_{0}^{2} R - 2 D_{0} R + D_{0} R_{eq} n^{2} + R\\right)}\\\\\\frac{D_{0} \\left(- D_{0}^{2} I_{out} R + D_{0}^{2} V_{in} n + 2 D_{0} I_{out} R - D_{0} V_{in} n - I_{out} R\\right)}{2 C_{2} f_{s} \\left(D_{0}^{2} R - 2 D_{0} R + D_{0} R_{eq} n^{2} + R\\right)}\\end{matrix}\\right]$"
      ],
      "text/plain": [
       "Matrix([\n",
       "[   D_0*R*(D_0**2*V_in + D_0*I_out*R_eq*n - 2*D_0*V_in - I_out*R_eq*n + V_in)/(2*L_m*f_s*(D_0**2*R - 2*D_0*R + D_0*R_eq*n**2 + R))],\n",
       "[D_0*(-D_0**2*I_out*R + D_0**2*V_in*n + 2*D_0*I_out*R - D_0*V_in*n - I_out*R)/(2*C_2*f_s*(D_0**2*R - 2*D_0*R + D_0*R_eq*n**2 + R))]])"
      ]
     },
     "execution_count": 54,
     "metadata": {},
     "output_type": "execute_result"
    }
   ],
   "source": [
    "f_s = sp.symbols(\"f_s\")\n",
    "deltaX = sp.simplify(\n",
    "    ((A1 * D_0 - A2 * (1 - D_0)) * x_ss + (B1 * D_0 - B2 * (1 - D_0)) * u_ss)\n",
    "    / (4 * f_s)\n",
    ")\n",
    "deltaX"
   ]
  },
  {
   "cell_type": "code",
   "execution_count": 55,
   "metadata": {},
   "outputs": [
    {
     "data": {
      "text/latex": [
       "$\\displaystyle \\frac{D_{0} R \\left(D_{0}^{2} V_{in} + D_{0} I_{out} R_{eq} n - 2 D_{0} V_{in} - I_{out} R_{eq} n + V_{in}\\right)}{2 L_{m} f_{s} \\left(D_{0}^{2} R - 2 D_{0} R + D_{0} R_{eq} n^{2} + R\\right)}$"
      ],
      "text/plain": [
       "D_0*R*(D_0**2*V_in + D_0*I_out*R_eq*n - 2*D_0*V_in - I_out*R_eq*n + V_in)/(2*L_m*f_s*(D_0**2*R - 2*D_0*R + D_0*R_eq*n**2 + R))"
      ]
     },
     "execution_count": 55,
     "metadata": {},
     "output_type": "execute_result"
    }
   ],
   "source": [
    "delta_I_Lm = deltaX[0]\n",
    "delta_I_Lm"
   ]
  },
  {
   "cell_type": "code",
   "execution_count": 56,
   "metadata": {},
   "outputs": [
    {
     "data": {
      "text/latex": [
       "$\\displaystyle \\frac{D_{0} \\left(- D_{0}^{2} I_{out} R + D_{0}^{2} V_{in} n + 2 D_{0} I_{out} R - D_{0} V_{in} n - I_{out} R\\right)}{2 C_{2} f_{s} \\left(D_{0}^{2} R - 2 D_{0} R + D_{0} R_{eq} n^{2} + R\\right)}$"
      ],
      "text/plain": [
       "D_0*(-D_0**2*I_out*R + D_0**2*V_in*n + 2*D_0*I_out*R - D_0*V_in*n - I_out*R)/(2*C_2*f_s*(D_0**2*R - 2*D_0*R + D_0*R_eq*n**2 + R))"
      ]
     },
     "execution_count": 56,
     "metadata": {},
     "output_type": "execute_result"
    }
   ],
   "source": [
    "delta_V_C2 = deltaX[1]\n",
    "delta_V_C2"
   ]
  }
 ],
 "metadata": {
  "kernelspec": {
   "display_name": "Python 3",
   "language": "python",
   "name": "python3"
  },
  "language_info": {
   "codemirror_mode": {
    "name": "ipython",
    "version": 3
   },
   "file_extension": ".py",
   "mimetype": "text/x-python",
   "name": "python",
   "nbconvert_exporter": "python",
   "pygments_lexer": "ipython3",
   "version": "3.12.2"
  }
 },
 "nbformat": 4,
 "nbformat_minor": 2
}
