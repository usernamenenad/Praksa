{
 "cells": [
  {
   "cell_type": "markdown",
   "metadata": {},
   "source": [
    "## State space averaging"
   ]
  },
  {
   "cell_type": "markdown",
   "metadata": {},
   "source": [
    "Biblioteke koje su nam potrebne"
   ]
  },
  {
   "cell_type": "code",
   "execution_count": 1,
   "metadata": {},
   "outputs": [],
   "source": [
    "import sympy as sp"
   ]
  },
  {
   "cell_type": "markdown",
   "metadata": {},
   "source": [
    "Promjenljive stanja + ulazne promjenljive"
   ]
  },
  {
   "cell_type": "code",
   "execution_count": 2,
   "metadata": {},
   "outputs": [],
   "source": [
    "i_Lm = sp.symbols(\"i_Lm\")\n",
    "v_C2 = sp.symbols(\"v_C2\")\n",
    "i_out = sp.symbols(\"i_out\")\n",
    "v_in = sp.symbols(\"v_in\")"
   ]
  },
  {
   "cell_type": "markdown",
   "metadata": {},
   "source": [
    "Parametri sistema"
   ]
  },
  {
   "cell_type": "code",
   "execution_count": 12,
   "metadata": {},
   "outputs": [],
   "source": [
    "R_eq = sp.symbols(\"R_eq\")\n",
    "R_C2 = sp.symbols(\"R_C2\")\n",
    "L_m = sp.symbols(\"L_m\")\n",
    "C_2 = sp.symbols(\"C_2\")\n",
    "n = sp.symbols(\"n\")\n",
    "D_0 = sp.symbols(\"D_0\")"
   ]
  },
  {
   "cell_type": "markdown",
   "metadata": {},
   "source": [
    "Matrice stanja i matrice ulaza"
   ]
  },
  {
   "cell_type": "code",
   "execution_count": 13,
   "metadata": {},
   "outputs": [
    {
     "data": {
      "text/latex": [
       "$\\displaystyle \\left[\\begin{matrix}- \\frac{R_{eq}}{L_{m}} & 0\\\\0 & 0\\end{matrix}\\right]$"
      ],
      "text/plain": [
       "Matrix([\n",
       "[-R_eq/L_m, 0],\n",
       "[        0, 0]])"
      ]
     },
     "execution_count": 13,
     "metadata": {},
     "output_type": "execute_result"
    }
   ],
   "source": [
    "A1 = sp.Matrix([[-R_eq / L_m, 0], [0, 0]])\n",
    "A1"
   ]
  },
  {
   "cell_type": "code",
   "execution_count": 14,
   "metadata": {},
   "outputs": [
    {
     "data": {
      "text/latex": [
       "$\\displaystyle \\left[\\begin{matrix}- \\frac{R_{C2}}{L_{m} n^{2}} & - \\frac{1}{L_{m} n}\\\\\\frac{1}{C_{2} n} & 0\\end{matrix}\\right]$"
      ],
      "text/plain": [
       "Matrix([\n",
       "[-R_C2/(L_m*n**2), -1/(L_m*n)],\n",
       "[       1/(C_2*n),          0]])"
      ]
     },
     "execution_count": 14,
     "metadata": {},
     "output_type": "execute_result"
    }
   ],
   "source": [
    "A2 = sp.Matrix([[-R_C2 / (n**2 * L_m), -1 / (n * L_m)], [1 / (n * C_2), 0]])\n",
    "A2"
   ]
  },
  {
   "cell_type": "code",
   "execution_count": 15,
   "metadata": {},
   "outputs": [
    {
     "data": {
      "text/latex": [
       "$\\displaystyle \\left[\\begin{matrix}0 & \\frac{1}{L_{m}}\\\\- \\frac{1}{C_{2}} & 0\\end{matrix}\\right]$"
      ],
      "text/plain": [
       "Matrix([\n",
       "[     0, 1/L_m],\n",
       "[-1/C_2,     0]])"
      ]
     },
     "execution_count": 15,
     "metadata": {},
     "output_type": "execute_result"
    }
   ],
   "source": [
    "B1 = sp.Matrix([[0, 1 / L_m], [-1 / C_2, 0]])\n",
    "B1"
   ]
  },
  {
   "cell_type": "code",
   "execution_count": 16,
   "metadata": {},
   "outputs": [
    {
     "data": {
      "text/latex": [
       "$\\displaystyle \\left[\\begin{matrix}\\frac{R_{C2}}{L_{m} n} & 0\\\\- \\frac{1}{C_{2}} & 0\\end{matrix}\\right]$"
      ],
      "text/plain": [
       "Matrix([\n",
       "[R_C2/(L_m*n), 0],\n",
       "[      -1/C_2, 0]])"
      ]
     },
     "execution_count": 16,
     "metadata": {},
     "output_type": "execute_result"
    }
   ],
   "source": [
    "B2 = sp.Matrix([[R_C2 / (n * L_m), 0], [-1 / C_2, 0]])\n",
    "B2"
   ]
  },
  {
   "cell_type": "code",
   "execution_count": 17,
   "metadata": {},
   "outputs": [
    {
     "data": {
      "text/latex": [
       "$\\displaystyle \\left[\\begin{matrix}0 & 1\\end{matrix}\\right]$"
      ],
      "text/plain": [
       "Matrix([[0, 1]])"
      ]
     },
     "execution_count": 17,
     "metadata": {},
     "output_type": "execute_result"
    }
   ],
   "source": [
    "C1 = sp.Matrix([[0, 1]])\n",
    "C1"
   ]
  },
  {
   "cell_type": "code",
   "execution_count": 18,
   "metadata": {},
   "outputs": [
    {
     "data": {
      "text/latex": [
       "$\\displaystyle \\left[\\begin{matrix}R_{C2} & 0\\end{matrix}\\right]$"
      ],
      "text/plain": [
       "Matrix([[R_C2, 0]])"
      ]
     },
     "execution_count": 18,
     "metadata": {},
     "output_type": "execute_result"
    }
   ],
   "source": [
    "C2 = sp.Matrix([[R_C2, 0]])\n",
    "C2"
   ]
  },
  {
   "cell_type": "code",
   "execution_count": 19,
   "metadata": {},
   "outputs": [
    {
     "data": {
      "text/latex": [
       "$\\displaystyle \\left[\\begin{matrix}- R_{C2} & 0\\end{matrix}\\right]$"
      ],
      "text/plain": [
       "Matrix([[-R_C2, 0]])"
      ]
     },
     "execution_count": 19,
     "metadata": {},
     "output_type": "execute_result"
    }
   ],
   "source": [
    "D1 = D2 = sp.Matrix([[-R_C2, 0]])\n",
    "D1"
   ]
  },
  {
   "cell_type": "code",
   "execution_count": 20,
   "metadata": {},
   "outputs": [
    {
     "data": {
      "text/latex": [
       "$\\displaystyle \\left[\\begin{matrix}\\frac{- D_{0} R_{eq} n^{2} + R_{C2} \\left(D_{0} - 1\\right)}{L_{m} n^{2}} & \\frac{D_{0} - 1}{L_{m} n}\\\\\\frac{1 - D_{0}}{C_{2} n} & 0\\end{matrix}\\right]$"
      ],
      "text/plain": [
       "Matrix([\n",
       "[(-D_0*R_eq*n**2 + R_C2*(D_0 - 1))/(L_m*n**2), (D_0 - 1)/(L_m*n)],\n",
       "[                           (1 - D_0)/(C_2*n),                 0]])"
      ]
     },
     "execution_count": 20,
     "metadata": {},
     "output_type": "execute_result"
    }
   ],
   "source": [
    "A = sp.simplify(A1 * D_0 + A2 * (1 - D_0))\n",
    "A"
   ]
  },
  {
   "cell_type": "code",
   "execution_count": 21,
   "metadata": {},
   "outputs": [
    {
     "data": {
      "text/latex": [
       "$\\displaystyle \\left[\\begin{matrix}\\frac{R_{C2} \\cdot \\left(1 - D_{0}\\right)}{L_{m} n} & \\frac{D_{0}}{L_{m}}\\\\- \\frac{1}{C_{2}} & 0\\end{matrix}\\right]$"
      ],
      "text/plain": [
       "Matrix([\n",
       "[R_C2*(1 - D_0)/(L_m*n), D_0/L_m],\n",
       "[                -1/C_2,       0]])"
      ]
     },
     "execution_count": 21,
     "metadata": {},
     "output_type": "execute_result"
    }
   ],
   "source": [
    "B = sp.simplify(B1 * D_0 + B2 * (1 - D_0))\n",
    "B"
   ]
  },
  {
   "cell_type": "code",
   "execution_count": 22,
   "metadata": {},
   "outputs": [
    {
     "data": {
      "text/latex": [
       "$\\displaystyle \\left[\\begin{matrix}R_{C2} \\cdot \\left(1 - D_{0}\\right) & D_{0}\\end{matrix}\\right]$"
      ],
      "text/plain": [
       "Matrix([[R_C2*(1 - D_0), D_0]])"
      ]
     },
     "execution_count": 22,
     "metadata": {},
     "output_type": "execute_result"
    }
   ],
   "source": [
    "C = sp.simplify(C1 * D_0 + C2 * (1 - D_0))\n",
    "C"
   ]
  },
  {
   "cell_type": "code",
   "execution_count": 23,
   "metadata": {},
   "outputs": [
    {
     "data": {
      "text/latex": [
       "$\\displaystyle \\left[\\begin{matrix}- R_{C2} & 0\\end{matrix}\\right]$"
      ],
      "text/plain": [
       "Matrix([[-R_C2, 0]])"
      ]
     },
     "execution_count": 23,
     "metadata": {},
     "output_type": "execute_result"
    }
   ],
   "source": [
    "D = sp.simplify(D1 * D_0 + D2 * (1 - D_0))\n",
    "D"
   ]
  },
  {
   "cell_type": "markdown",
   "metadata": {},
   "source": [
    "Vrijednost promjenljivih u ustaljenom stanju"
   ]
  },
  {
   "cell_type": "code",
   "execution_count": 24,
   "metadata": {},
   "outputs": [],
   "source": [
    "I_out = sp.symbols(\"I_out\")\n",
    "V_in = sp.symbols(\"V_in\")"
   ]
  },
  {
   "cell_type": "code",
   "execution_count": 25,
   "metadata": {},
   "outputs": [
    {
     "data": {
      "text/latex": [
       "$\\displaystyle \\left[\\begin{matrix}I_{out}\\\\V_{in}\\end{matrix}\\right]$"
      ],
      "text/plain": [
       "Matrix([\n",
       "[I_out],\n",
       "[ V_in]])"
      ]
     },
     "execution_count": 25,
     "metadata": {},
     "output_type": "execute_result"
    }
   ],
   "source": [
    "u_ss = sp.Matrix([[I_out], [V_in]])\n",
    "u_ss"
   ]
  },
  {
   "cell_type": "code",
   "execution_count": 26,
   "metadata": {},
   "outputs": [
    {
     "data": {
      "text/latex": [
       "$\\displaystyle \\left[\\begin{matrix}- \\frac{I_{out} n}{D_{0} - 1}\\\\- \\frac{D_{0} \\left(- D_{0} I_{out} R_{C2} + D_{0} V_{in} n + I_{out} R_{C2} + I_{out} R_{eq} n^{2} - V_{in} n\\right)}{D_{0}^{2} - 2 D_{0} + 1}\\end{matrix}\\right]$"
      ],
      "text/plain": [
       "Matrix([\n",
       "[                                                                              -I_out*n/(D_0 - 1)],\n",
       "[-D_0*(-D_0*I_out*R_C2 + D_0*V_in*n + I_out*R_C2 + I_out*R_eq*n**2 - V_in*n)/(D_0**2 - 2*D_0 + 1)]])"
      ]
     },
     "execution_count": 26,
     "metadata": {},
     "output_type": "execute_result"
    }
   ],
   "source": [
    "x_ss = -sp.simplify(A.inv() * B * u_ss)\n",
    "x_ss"
   ]
  },
  {
   "cell_type": "code",
   "execution_count": 27,
   "metadata": {},
   "outputs": [],
   "source": [
    "I_Lm = x_ss[0]\n",
    "V_C2 = x_ss[1]"
   ]
  },
  {
   "cell_type": "code",
   "execution_count": 28,
   "metadata": {},
   "outputs": [
    {
     "data": {
      "text/latex": [
       "$\\displaystyle - \\frac{D_{0} \\left(- D_{0} I_{out} R_{C2} + D_{0} V_{in} n + I_{out} R_{C2} + I_{out} R_{eq} n^{2} - V_{in} n\\right)}{\\left(D_{0} - 1\\right)^{2}}$"
      ],
      "text/plain": [
       "-D_0*(-D_0*I_out*R_C2 + D_0*V_in*n + I_out*R_C2 + I_out*R_eq*n**2 - V_in*n)/(D_0 - 1)**2"
      ]
     },
     "execution_count": 28,
     "metadata": {},
     "output_type": "execute_result"
    }
   ],
   "source": [
    "sp.factor(V_C2)"
   ]
  },
  {
   "cell_type": "code",
   "execution_count": 33,
   "metadata": {},
   "outputs": [
    {
     "data": {
      "text/latex": [
       "$\\displaystyle - \\frac{1.0 D_{0} I_{out} n}{1.0 D_{0} - 1.0}$"
      ],
      "text/plain": [
       "-1.0*D_0*I_out*n/(1.0*D_0 - 1.0)"
      ]
     },
     "execution_count": 33,
     "metadata": {},
     "output_type": "execute_result"
    }
   ],
   "source": [
    "I_in = sp.factor(D_0 * I_Lm)\n",
    "sp.factor(I_in.evalf(subs={R_eq: 0, R_C2: 0}))"
   ]
  },
  {
   "cell_type": "code",
   "execution_count": 32,
   "metadata": {},
   "outputs": [
    {
     "data": {
      "text/latex": [
       "$\\displaystyle - \\frac{1.0 D_{0} V_{in} n \\left(D_{0} - 1\\right)}{\\left(1.0 D_{0} - 1.0\\right)^{2}}$"
      ],
      "text/plain": [
       "-1.0*D_0*V_in*n*(D_0 - 1)/(1.0*D_0 - 1.0)**2"
      ]
     },
     "execution_count": 32,
     "metadata": {},
     "output_type": "execute_result"
    }
   ],
   "source": [
    "sp.factor(V_C2.evalf(subs={R_eq: 0, R_C2: 0}))"
   ]
  },
  {
   "cell_type": "markdown",
   "metadata": {},
   "source": [
    "Super! Tačan model!"
   ]
  },
  {
   "cell_type": "markdown",
   "metadata": {},
   "source": [
    "Matrice $E$ i $F$"
   ]
  },
  {
   "cell_type": "code",
   "execution_count": 34,
   "metadata": {},
   "outputs": [
    {
     "data": {
      "text/latex": [
       "$\\displaystyle \\left[\\begin{matrix}\\frac{- D_{0} V_{in} - I_{out} R_{eq} n + V_{in}}{L_{m} \\left(D_{0}^{2} - 2 D_{0} + 1\\right)}\\\\\\frac{I_{out}}{C_{2} \\left(D_{0} - 1\\right)}\\end{matrix}\\right]$"
      ],
      "text/plain": [
       "Matrix([\n",
       "[(-D_0*V_in - I_out*R_eq*n + V_in)/(L_m*(D_0**2 - 2*D_0 + 1))],\n",
       "[                                       I_out/(C_2*(D_0 - 1))]])"
      ]
     },
     "execution_count": 34,
     "metadata": {},
     "output_type": "execute_result"
    }
   ],
   "source": [
    "E = sp.simplify((A1 - A2) * x_ss + (B1 - B2) * u_ss)\n",
    "E"
   ]
  },
  {
   "cell_type": "code",
   "execution_count": 35,
   "metadata": {},
   "outputs": [
    {
     "data": {
      "text/latex": [
       "$\\displaystyle \\left[\\begin{matrix}\\frac{D_{0}^{2} I_{out} R_{C2} - D_{0}^{2} V_{in} n + D_{0} I_{out} R_{C2} n - D_{0} I_{out} R_{C2} - D_{0} I_{out} R_{eq} n^{2} + D_{0} V_{in} n - I_{out} R_{C2} n}{D_{0}^{2} - 2 D_{0} + 1}\\end{matrix}\\right]$"
      ],
      "text/plain": [
       "Matrix([[(D_0**2*I_out*R_C2 - D_0**2*V_in*n + D_0*I_out*R_C2*n - D_0*I_out*R_C2 - D_0*I_out*R_eq*n**2 + D_0*V_in*n - I_out*R_C2*n)/(D_0**2 - 2*D_0 + 1)]])"
      ]
     },
     "execution_count": 35,
     "metadata": {},
     "output_type": "execute_result"
    }
   ],
   "source": [
    "F = sp.simplify((C1 - C2) * x_ss + (D1 - D2) * u_ss)\n",
    "F"
   ]
  },
  {
   "cell_type": "markdown",
   "metadata": {},
   "source": [
    "Usrednjen model"
   ]
  },
  {
   "cell_type": "code",
   "execution_count": 36,
   "metadata": {},
   "outputs": [
    {
     "data": {
      "text/latex": [
       "$\\displaystyle \\left[\\begin{matrix}\\frac{R_{C2} \\cdot \\left(1 - D_{0}\\right)}{L_{m} n} & \\frac{D_{0}}{L_{m}} & \\frac{- D_{0} V_{in} - I_{out} R_{eq} n + V_{in}}{L_{m} \\left(D_{0}^{2} - 2 D_{0} + 1\\right)}\\\\- \\frac{1}{C_{2}} & 0 & \\frac{I_{out}}{C_{2} \\left(D_{0} - 1\\right)}\\end{matrix}\\right]$"
      ],
      "text/plain": [
       "Matrix([\n",
       "[R_C2*(1 - D_0)/(L_m*n), D_0/L_m, (-D_0*V_in - I_out*R_eq*n + V_in)/(L_m*(D_0**2 - 2*D_0 + 1))],\n",
       "[                -1/C_2,       0,                                        I_out/(C_2*(D_0 - 1))]])"
      ]
     },
     "execution_count": 36,
     "metadata": {},
     "output_type": "execute_result"
    }
   ],
   "source": [
    "new_B = sp.Matrix([[B, E]])\n",
    "new_B"
   ]
  },
  {
   "cell_type": "code",
   "execution_count": 37,
   "metadata": {},
   "outputs": [
    {
     "data": {
      "text/latex": [
       "$\\displaystyle \\left[\\begin{matrix}- R_{C2} & 0 & \\frac{D_{0}^{2} I_{out} R_{C2} - D_{0}^{2} V_{in} n + D_{0} I_{out} R_{C2} n - D_{0} I_{out} R_{C2} - D_{0} I_{out} R_{eq} n^{2} + D_{0} V_{in} n - I_{out} R_{C2} n}{D_{0}^{2} - 2 D_{0} + 1}\\end{matrix}\\right]$"
      ],
      "text/plain": [
       "Matrix([[-R_C2, 0, (D_0**2*I_out*R_C2 - D_0**2*V_in*n + D_0*I_out*R_C2*n - D_0*I_out*R_C2 - D_0*I_out*R_eq*n**2 + D_0*V_in*n - I_out*R_C2*n)/(D_0**2 - 2*D_0 + 1)]])"
      ]
     },
     "execution_count": 37,
     "metadata": {},
     "output_type": "execute_result"
    }
   ],
   "source": [
    "new_D = sp.Matrix([[D, F]])\n",
    "new_D"
   ]
  },
  {
   "cell_type": "markdown",
   "metadata": {},
   "source": [
    "Procjena ripple-a"
   ]
  },
  {
   "cell_type": "code",
   "execution_count": 38,
   "metadata": {},
   "outputs": [
    {
     "data": {
      "text/latex": [
       "$\\displaystyle \\left[\\begin{matrix}\\frac{D_{0} \\left(D_{0} V_{in} + I_{out} R_{eq} n - V_{in}\\right)}{2 L_{m} f_{s} \\left(D_{0} - 1\\right)}\\\\- \\frac{D_{0} I_{out}}{2 C_{2} f_{s}}\\end{matrix}\\right]$"
      ],
      "text/plain": [
       "Matrix([\n",
       "[D_0*(D_0*V_in + I_out*R_eq*n - V_in)/(2*L_m*f_s*(D_0 - 1))],\n",
       "[                                    -D_0*I_out/(2*C_2*f_s)]])"
      ]
     },
     "execution_count": 38,
     "metadata": {},
     "output_type": "execute_result"
    }
   ],
   "source": [
    "f_s = sp.symbols(\"f_s\")\n",
    "deltaX = sp.simplify(\n",
    "    ((A1 * D_0 - A2 * (1 - D_0)) * x_ss + (B1 * D_0 - B2 * (1 - D_0)) * u_ss)\n",
    "    / (4 * f_s)\n",
    ")\n",
    "deltaX"
   ]
  },
  {
   "cell_type": "code",
   "execution_count": 39,
   "metadata": {},
   "outputs": [
    {
     "data": {
      "text/latex": [
       "$\\displaystyle \\frac{D_{0} \\left(D_{0} V_{in} + I_{out} R_{eq} n - V_{in}\\right)}{2 L_{m} f_{s} \\left(D_{0} - 1\\right)}$"
      ],
      "text/plain": [
       "D_0*(D_0*V_in + I_out*R_eq*n - V_in)/(2*L_m*f_s*(D_0 - 1))"
      ]
     },
     "execution_count": 39,
     "metadata": {},
     "output_type": "execute_result"
    }
   ],
   "source": [
    "delta_I_Lm = deltaX[0]\n",
    "delta_I_Lm"
   ]
  },
  {
   "cell_type": "code",
   "execution_count": 40,
   "metadata": {},
   "outputs": [
    {
     "data": {
      "text/latex": [
       "$\\displaystyle - \\frac{D_{0} I_{out}}{2 C_{2} f_{s}}$"
      ],
      "text/plain": [
       "-D_0*I_out/(2*C_2*f_s)"
      ]
     },
     "execution_count": 40,
     "metadata": {},
     "output_type": "execute_result"
    }
   ],
   "source": [
    "delta_V_C2 = deltaX[1]\n",
    "delta_V_C2"
   ]
  }
 ],
 "metadata": {
  "kernelspec": {
   "display_name": "Python 3",
   "language": "python",
   "name": "python3"
  },
  "language_info": {
   "codemirror_mode": {
    "name": "ipython",
    "version": 3
   },
   "file_extension": ".py",
   "mimetype": "text/x-python",
   "name": "python",
   "nbconvert_exporter": "python",
   "pygments_lexer": "ipython3",
   "version": "3.12.3"
  }
 },
 "nbformat": 4,
 "nbformat_minor": 2
}
